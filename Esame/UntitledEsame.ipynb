{
 "cells": [
  {
   "cell_type": "code",
   "execution_count": 2,
   "id": "0bda14fe",
   "metadata": {},
   "outputs": [
    {
     "data": {
      "text/plain": [
       "'763104351884.dkr.ecr.us-east-1.amazonaws.com/tensorflow-inference:2.12.1-cpu'"
      ]
     },
     "execution_count": 2,
     "metadata": {},
     "output_type": "execute_result"
    }
   ],
   "source": [
    "#NECESSARIO\n",
    "import scipy.sparse\n",
    "from sagemaker import image_uris\n",
    "image_uris.retrieve(framework='tensorflow',region='us-east-1',version='2.12.1',image_scope='inference',instance_type='ml.c5.4xlarge')"
   ]
  },
  {
   "cell_type": "code",
   "execution_count": null,
   "id": "de9a86ca",
   "metadata": {},
   "outputs": [],
   "source": [
    "!tar -xzf model.tar.gz"
   ]
  },
  {
   "cell_type": "code",
   "execution_count": null,
   "id": "0ba43263",
   "metadata": {},
   "outputs": [],
   "source": [
    "#NECESSARIO\n",
    "!pip install tensorflow keras"
   ]
  },
  {
   "cell_type": "code",
   "execution_count": null,
   "id": "d313f7ff",
   "metadata": {},
   "outputs": [],
   "source": [
    "#NECESSARIO\n",
    "!pip freeze"
   ]
  },
  {
   "cell_type": "code",
   "execution_count": null,
   "id": "44e72a0b",
   "metadata": {},
   "outputs": [],
   "source": [
    "# OPZIONALE\n",
    "\n",
    "import os\n",
    "#os.chdir('Esame')  # Sposta la working directory nella cartella \"Esame\"\n",
    "print(\"Nuova directory corrente:\", os.getcwd())\n",
    "\n",
    "\n",
    "import os\n",
    "print(\"Files in current directory:\", os.listdir())\n",
    "print(\"Current working directory:\", os.getcwd())\n",
    "# Installa le librerie specificate in requirements_inference.txt\n",
    "!pip install -r requirements_inference.txt"
   ]
  },
  {
   "cell_type": "code",
   "execution_count": null,
   "id": "1b1193d5",
   "metadata": {},
   "outputs": [],
   "source": [
    "#NECESSARIO SE NON SI HA IL MODELLO E IL FILE .PKL, ALTRIMENTI OPZIONALE\n",
    "\n",
    "import zipfile\n",
    "\n",
    "# Configura i dettagli di S3\n",
    "bucket_name = 'itsar123-bianchini'  # Nome del tuo bucket S3\n",
    "s3_zip_path = 'train.zip'  # Percorso del file .zip su S3\n",
    "local_zip_path = 'train.zip'  # Percorso locale dove salvare il file .zip\n",
    "local_path = 'data/input'  # Directory locale per estrarre i dati\n",
    "s3_prefix = 'train'  # Percorso su S3 dove caricare la cartella estratta (opzionale)\n",
    "\n",
    "# Step 1: Scaricare il file zip da S3\n",
    "s3 = boto3.client('s3')\n",
    "s3.download_file(bucket_name, s3_zip_path, local_zip_path)\n",
    "print(f\"File {s3_zip_path} scaricato da S3 e salvato come {local_zip_path}\")\n",
    "\n",
    "# Step 2: Decomprimere il file zip\n",
    "os.makedirs(local_path, exist_ok=True)  # Crea la directory se non esiste\n",
    "with zipfile.ZipFile(local_zip_path, 'r') as zip_ref:\n",
    "    zip_ref.extractall(local_path)\n",
    "print(f\"File zip estratto nella directory: {local_path}\")\n",
    "\n",
    "# Step 3: (Opzionale) Caricare la cartella estratta su S3\n",
    "# for root, dirs, files in os.walk(local_path):\n",
    "#     for file in files:\n",
    "#         local_file_path = os.path.join(root, file)\n",
    "#         s3_file_path = os.path.relpath(local_file_path, local_path)\n",
    "#         s3.upload_file(local_file_path, bucket_name, os.path.join(s3_prefix, s3_file_path))\n",
    "# print(\"Cartella estratta caricata su S3.\")\n"
   ]
  },
  {
   "cell_type": "code",
   "execution_count": null,
   "id": "756fcf62",
   "metadata": {},
   "outputs": [],
   "source": [
    "#NECESSARIO SE NON SI HA IL MODELLO E IL FILE .PKL, ALTRIMENTI OPZIONALE\n",
    "\n",
    "# Configurazione della sessione AWS\n",
    "my_session = boto3.session.Session()\n",
    "aws_region = my_session.region_name\n",
    "\n",
    "# Client SageMaker\n",
    "sagemaker_client = boto3.client('sagemaker', region_name=aws_region)\n",
    "sagemaker_role = get_execution_role()\n",
    "\n",
    "# Definizione di alcuni parametri\n",
    "bucket_name = 'itsar123-bianchini'  # Sostituisci con il nome del tuo bucket S3\n",
    "s3_prefix = 'train'  # Sostituisci con il percorso della cartella 'train' su S\n",
    "data_dir = 'data'\n"
   ]
  },
  {
   "cell_type": "code",
   "execution_count": null,
   "id": "997cc255",
   "metadata": {},
   "outputs": [],
   "source": [
    "#NECESSARIO SE NON SI HA IL MODELLO E IL FILE .PKL, ALTRIMENTI OPZIONALE\n",
    "\n",
    "# Imposta i generatori di dati\n",
    "train_dir = os.path.join(data_dir, s3_prefix)\n",
    "batch_size = 32\n",
    "image_size = (224, 224)\n",
    "\n",
    "train_datagen = ImageDataGenerator(rescale=1./255, validation_split=0.2)\n",
    "\n",
    "train_generator = train_datagen.flow_from_directory(\n",
    "    train_dir,\n",
    "    target_size=image_size,\n",
    "    batch_size=batch_size,\n",
    "    class_mode='categorical',\n",
    "    subset='training'\n",
    ")\n",
    "\n",
    "validation_generator = train_datagen.flow_from_directory(\n",
    "    train_dir,\n",
    "    target_size=image_size,\n",
    "    batch_size=batch_size,\n",
    "    class_mode='categorical',\n",
    "    subset='validation'\n",
    ")\n",
    "\n",
    "# Salva la mappatura delle classi\n",
    "class_indices = train_generator.class_indices\n",
    "with open('class_indices.pkl', 'wb') as f:\n",
    "    pickle.dump(class_indices, f)\n"
   ]
  },
  {
   "cell_type": "code",
   "execution_count": null,
   "id": "fccb32d7",
   "metadata": {},
   "outputs": [],
   "source": [
    "#NECESSARIO SE NON SI HA IL MODELLO E IL FILE .PKL, ALTRIMENTI OPZIONALE\n",
    "\n",
    "# Costruisci il modello (puoi personalizzarlo o utilizzare un modello pre-addestrato)\n",
    "model = models.Sequential()\n",
    "model.add(layers.Conv2D(32, (3, 3), activation='relu', input_shape=(image_size[0], image_size[1], 3)))\n",
    "model.add(layers.MaxPooling2D((2, 2)))\n",
    "model.add(layers.Conv2D(64, (3, 3), activation='relu'))\n",
    "model.add(layers.MaxPooling2D((2, 2)))\n",
    "model.add(layers.Conv2D(128, (3, 3), activation='relu'))\n",
    "model.add(layers.MaxPooling2D((2, 2)))\n",
    "model.add(layers.Flatten())\n",
    "model.add(layers.Dropout(0.5))\n",
    "model.add(layers.Dense(512, activation='relu'))\n",
    "model.add(layers.Dropout(0.5))\n",
    "model.add(layers.Dense(train_generator.num_classes, activation='softmax'))\n",
    "\n",
    "# Compila il modello\n",
    "model.compile(optimizer='adam',\n",
    "              loss='categorical_crossentropy',\n",
    "              metrics=['accuracy'])\n",
    "\n",
    "# Allena il modello\n",
    "epochs = 4  # Puoi aumentare il numero di epoche se necessario\n",
    "model.fit(\n",
    "    train_generator,\n",
    "    epochs=epochs,\n",
    "    validation_data=validation_generator\n",
    ")\n",
    "\n",
    "# Salva il modello\n",
    "model.save('card_model.h5')\n"
   ]
  },
  {
   "cell_type": "code",
   "execution_count": null,
   "id": "ee24167a",
   "metadata": {},
   "outputs": [],
   "source": [
    "#NECESSARIO SE NON SI HA IL MODELLO E IL FILE .PKL, ALTRIMENTI OPZIONALE\n",
    "\n",
    "# Passo 2: Salva il modello nel formato .keras\n",
    "model.save('model.keras', save_format='keras')\n",
    "print(\"Il modello è stato salvato come .keras.\")"
   ]
  },
  {
   "cell_type": "code",
   "execution_count": null,
   "id": "b16e2424",
   "metadata": {},
   "outputs": [],
   "source": [
    "# - - - - - - - - - - - - - - - - - - - - - - - - - - - - - - - - - - - - "
   ]
  },
  {
   "cell_type": "code",
   "execution_count": 4,
   "id": "d39fe26e",
   "metadata": {},
   "outputs": [
    {
     "name": "stderr",
     "output_type": "stream",
     "text": [
      "2024-11-21 14:36:43.809902: E external/local_xla/xla/stream_executor/cuda/cuda_fft.cc:477] Unable to register cuFFT factory: Attempting to register factory for plugin cuFFT when one has already been registered\n",
      "WARNING: All log messages before absl::InitializeLog() is called are written to STDERR\n",
      "E0000 00:00:1732199803.834703   18024 cuda_dnn.cc:8310] Unable to register cuDNN factory: Attempting to register factory for plugin cuDNN when one has already been registered\n",
      "E0000 00:00:1732199803.841800   18024 cuda_blas.cc:1418] Unable to register cuBLAS factory: Attempting to register factory for plugin cuBLAS when one has already been registered\n",
      "2024-11-21 14:36:43.866275: I tensorflow/core/platform/cpu_feature_guard.cc:210] This TensorFlow binary is optimized to use available CPU instructions in performance-critical operations.\n",
      "To enable the following instructions: AVX2 FMA, in other operations, rebuild TensorFlow with the appropriate compiler flags.\n",
      "2024-11-21 14:36:49.770449: E external/local_xla/xla/stream_executor/cuda/cuda_driver.cc:152] failed call to cuInit: INTERNAL: CUDA error: Failed call to cuInit: CUDA_ERROR_NO_DEVICE: no CUDA-capable device is detected\n",
      "/home/ec2-user/anaconda3/envs/python3/lib/python3.10/site-packages/keras/src/saving/saving_lib.py:719: UserWarning: Skipping variable loading for optimizer 'rmsprop', because it has 12 variables whereas the saved optimizer has 22 variables. \n",
      "  saveable.load_own_variables(weights_store.get(inner_path))\n"
     ]
    }
   ],
   "source": [
    "#STARTING POINT POST IMPORT LIBRERIE\n",
    "from keras import models\n",
    "model = models.load_model(\"model.keras\")"
   ]
  },
  {
   "cell_type": "code",
   "execution_count": 38,
   "id": "a100081d",
   "metadata": {},
   "outputs": [
    {
     "name": "stdout",
     "output_type": "stream",
     "text": [
      "Class Indices: {'ace of clubs': 0, 'ace of diamonds': 1, 'ace of hearts': 2, 'ace of spades': 3, 'eight of clubs': 4, 'eight of diamonds': 5, 'eight of hearts': 6, 'eight of spades': 7, 'five of clubs': 8, 'five of diamonds': 9, 'five of hearts': 10, 'five of spades': 11, 'four of clubs': 12, 'four of diamonds': 13, 'four of hearts': 14, 'four of spades': 15, 'jack of clubs': 16, 'jack of diamonds': 17, 'jack of hearts': 18, 'jack of spades': 19, 'joker': 20, 'king of clubs': 21, 'king of diamonds': 22, 'king of hearts': 23, 'king of spades': 24, 'nine of clubs': 25, 'nine of diamonds': 26, 'nine of hearts': 27, 'nine of spades': 28, 'queen of clubs': 29, 'queen of diamonds': 30, 'queen of hearts': 31, 'queen of spades': 32, 'seven of clubs': 33, 'seven of diamonds': 34, 'seven of hearts': 35, 'seven of spades': 36, 'six of clubs': 37, 'six of diamonds': 38, 'six of hearts': 39, 'six of spades': 40, 'ten of clubs': 41, 'ten of diamonds': 42, 'ten of hearts': 43, 'ten of spades': 44, 'three of clubs': 45, 'three of diamonds': 46, 'three of hearts': 47, 'three of spades': 48, 'two of clubs': 49, 'two of diamonds': 50, 'two of hearts': 51, 'two of spades': 52}\n"
     ]
    }
   ],
   "source": [
    "import pickle\n",
    "\n",
    "with open('model/class_indices.pkl', 'rb') as f:\n",
    "    class_indices = pickle.load(f)\n",
    "\n",
    "print(\"Class Indices:\", class_indices)\n"
   ]
  },
  {
   "cell_type": "code",
   "execution_count": 48,
   "id": "6ecf0cee",
   "metadata": {},
   "outputs": [
    {
     "name": "stdout",
     "output_type": "stream",
     "text": [
      "\u001b[1m1/1\u001b[0m \u001b[32m━━━━━━━━━━━━━━━━━━━━\u001b[0m\u001b[37m\u001b[0m \u001b[1m0s\u001b[0m 111ms/step\n",
      "{\"valore\": \"four\", \"seme\": \"diamonds\"}\n"
     ]
    }
   ],
   "source": [
    "from keras.models import load_model\n",
    "from tensorflow.keras.preprocessing.image import ImageDataGenerator, load_img, img_to_array\n",
    "import numpy as np\n",
    "import pickle\n",
    "import json\n",
    "\n",
    "# Carica il modello\n",
    "model = load_model(\"model/model.keras\")\n",
    "\n",
    "# Carica la mappatura delle classi\n",
    "with open('model/class_indices.pkl', 'rb') as f:\n",
    "    class_indices = pickle.load(f)\n",
    "# Creazione di una mappatura inversa\n",
    "class_labels = {v: k for k, v in class_indices.items()}\n",
    "\n",
    "# Creazione del preprocessore ImageDataGenerator\n",
    "image_size = (224, 224)  # Dimensione target utilizzata durante l'addestramento\n",
    "datagen = ImageDataGenerator(rescale=1./255)\n",
    "\n",
    "# Funzione per preprocessare una singola immagine\n",
    "def preprocess_single_image(image_path, datagen, target_size):\n",
    "    img = load_img(image_path, target_size=target_size)  # Carica e ridimensiona l'immagine\n",
    "    img_array = img_to_array(img)  # Converte in array\n",
    "    img_array = np.expand_dims(img_array, axis=0)  # Aggiunge una dimensione batch\n",
    "    img_array = datagen.standardize(img_array)  # Applica la stessa normalizzazione\n",
    "    return img_array\n",
    "\n",
    "# Percorso all'immagine\n",
    "# image_path = \"Asso_Di_Cuori.jpg\"\n",
    "# image_path = \"Regina_Di_Picche.jpg\"\n",
    "image_path = \"Quattro_Di_Quadri.jpg\"\n",
    "\n",
    "# Preprocessa l'immagine\n",
    "predict_input = preprocess_single_image(image_path, datagen, image_size)\n",
    "\n",
    "# Esegui la previsione\n",
    "predict_result = model.predict(predict_input)\n",
    "\n",
    "# Estrai la classe predetta\n",
    "predicted_class_index = np.argmax(predict_result, axis=1)[0]  # Indice della classe predetta\n",
    "predicted_class_label = class_labels[predicted_class_index]  # Nome della classe\n",
    "\n",
    "# Supponendo che la label segua il formato \"valore of seme\"\n",
    "if \" of \" in predicted_class_label:\n",
    "    valore, seme = predicted_class_label.split(\" of \")  # Separa valore e seme\n",
    "else:\n",
    "    valore = predicted_class_label  # L'intera label è considerata il valore\n",
    "    seme = \"Seme non specificato\"\n",
    "\n",
    "# Converti in JSON il risultato\n",
    "output = json.dumps({\n",
    "    \"valore\": valore,\n",
    "    \"seme\": seme,\n",
    "    #\"predict_result\": predict_result.tolist()\n",
    "})\n",
    "print(output)\n"
   ]
  },
  {
   "cell_type": "code",
   "execution_count": 7,
   "id": "536c7f84",
   "metadata": {},
   "outputs": [
    {
     "name": "stdout",
     "output_type": "stream",
     "text": [
      "Requirement already satisfied: flask in /home/ec2-user/anaconda3/envs/python3/lib/python3.10/site-packages (3.0.3)\n",
      "Requirement already satisfied: Werkzeug>=3.0.0 in /home/ec2-user/anaconda3/envs/python3/lib/python3.10/site-packages (from flask) (3.0.4)\n",
      "Requirement already satisfied: Jinja2>=3.1.2 in /home/ec2-user/anaconda3/envs/python3/lib/python3.10/site-packages (from flask) (3.1.4)\n",
      "Requirement already satisfied: itsdangerous>=2.1.2 in /home/ec2-user/anaconda3/envs/python3/lib/python3.10/site-packages (from flask) (2.2.0)\n",
      "Requirement already satisfied: click>=8.1.3 in /home/ec2-user/anaconda3/envs/python3/lib/python3.10/site-packages (from flask) (8.1.7)\n",
      "Requirement already satisfied: blinker>=1.6.2 in /home/ec2-user/anaconda3/envs/python3/lib/python3.10/site-packages (from flask) (1.8.2)\n",
      "Requirement already satisfied: MarkupSafe>=2.0 in /home/ec2-user/anaconda3/envs/python3/lib/python3.10/site-packages (from Jinja2>=3.1.2->flask) (3.0.2)\n"
     ]
    }
   ],
   "source": [
    "!pip install flask"
   ]
  },
  {
   "cell_type": "code",
   "execution_count": 8,
   "id": "2793e959",
   "metadata": {},
   "outputs": [
    {
     "name": "stdout",
     "output_type": "stream",
     "text": [
      "image_name: tensorflow-inference ######################\n",
      "account: 533267394241 ######################\n",
      "region: us-east-1 ######################\n",
      "fullname: 533267394241.dkr.ecr.us-east-1.amazonaws.com/tensorflow-inference:2.12.0-cpu-py310-pluto-2 ######################\n"
     ]
    },
    {
     "name": "stderr",
     "output_type": "stream",
     "text": [
      "\n",
      "An error occurred (RepositoryNotFoundException) when calling the DescribeRepositories operation: The repository with name 'tensorflow-inference' does not exist in the registry with id '533267394241'\n"
     ]
    },
    {
     "name": "stdout",
     "output_type": "stream",
     "text": [
      "{\n",
      "    \"repository\": {\n",
      "        \"repositoryArn\": \"arn:aws:ecr:us-east-1:533267394241:repository/tensorflow-inference\",\n",
      "        \"registryId\": \"533267394241\",\n",
      "        \"repositoryName\": \"tensorflow-inference\",\n",
      "        \"repositoryUri\": \"533267394241.dkr.ecr.us-east-1.amazonaws.com/tensorflow-inference\",\n",
      "        \"createdAt\": 1732199910.802,\n",
      "        \"imageTagMutability\": \"MUTABLE\",\n",
      "        \"imageScanningConfiguration\": {\n",
      "            \"scanOnPush\": false\n",
      "        },\n",
      "        \"encryptionConfiguration\": {\n",
      "            \"encryptionType\": \"AES256\"\n",
      "        }\n",
      "    }\n",
      "}\n"
     ]
    }
   ],
   "source": [
    "%%sh\n",
    "# Specify an image name\n",
    "image_name=tensorflow-inference\n",
    "echo \"image_name: ${image_name} ######################\"\n",
    "\n",
    "account=$(aws sts get-caller-identity --query Account --output text)\n",
    "echo \"account: ${account} ######################\"\n",
    "\n",
    "# Get the region defined in the current configuration (default to us-west-2 if none defined)\n",
    "region=$(aws configure get region)\n",
    "echo \"region: ${region} ######################\"\n",
    "\n",
    "fullname=\"${account}.dkr.ecr.${region}.amazonaws.com/${image_name}:2.12.0-cpu-py310-pluto-2\"\n",
    "echo \"fullname: ${fullname} ######################\"\n",
    "\n",
    "aws ecr describe-repositories --repository-names \"${image_name}\"\n",
    "if [ $? -ne 0 ]\n",
    "then\n",
    "aws ecr create-repository --repository-name \"${image_name}\"\n",
    "fi"
   ]
  },
  {
   "cell_type": "code",
   "execution_count": 19,
   "id": "81971092",
   "metadata": {},
   "outputs": [
    {
     "name": "stdout",
     "output_type": "stream",
     "text": [
      "WARNING! Your password will be stored unencrypted in /home/ec2-user/.docker/config.json.\n",
      "Configure a credential helper to remove this warning. See\n",
      "https://docs.docker.com/engine/reference/commandline/login/#credentials-store\n",
      "\n",
      "Login Succeeded\n"
     ]
    }
   ],
   "source": [
    "#Dominio dell'immagine base, quindi è uguale per tutti\n",
    "!aws ecr get-login-password --region us-east-1 | docker login --username AWS --password-stdin 763104351884.dkr.ecr.us-east-1.amazonaws.com"
   ]
  },
  {
   "cell_type": "code",
   "execution_count": 20,
   "id": "80dbbd48",
   "metadata": {},
   "outputs": [
    {
     "name": "stdout",
     "output_type": "stream",
     "text": [
      "\u001b[1A\u001b[1B\u001b[0G\u001b[?25l[+] Building 0.0s (0/1)                                          docker:default\n",
      "\u001b[?25h\u001b[1A\u001b[0G\u001b[?25l[+] Building 0.2s (3/3)                                          docker:default\n",
      "\u001b[34m => [internal] load build definition from Dockerfile.inference             0.0s\n",
      "\u001b[0m\u001b[34m => => transferring dockerfile: 626B                                       0.0s\n",
      "\u001b[0m\u001b[34m => [internal] load metadata for 763104351884.dkr.ecr.us-east-1.amazonaws  0.1s\n",
      "\u001b[0m\u001b[34m => [auth] sharing credentials for 763104351884.dkr.ecr.us-east-1.amazona  0.0s\n",
      "\u001b[0m\u001b[?25h\u001b[1A\u001b[1A\u001b[1A\u001b[1A\u001b[1A\u001b[0G\u001b[?25l[+] Building 0.2s (12/12) FINISHED                               docker:default\n",
      "\u001b[34m => [internal] load build definition from Dockerfile.inference             0.0s\n",
      "\u001b[0m\u001b[34m => => transferring dockerfile: 626B                                       0.0s\n",
      "\u001b[0m\u001b[34m => [internal] load metadata for 763104351884.dkr.ecr.us-east-1.amazonaws  0.1s\n",
      "\u001b[0m\u001b[34m => [auth] sharing credentials for 763104351884.dkr.ecr.us-east-1.amazona  0.0s\n",
      "\u001b[0m\u001b[34m => [internal] load .dockerignore                                          0.0s\n",
      "\u001b[0m\u001b[34m => => transferring context: 2B                                            0.0s\n",
      "\u001b[0m\u001b[34m => [1/6] FROM 763104351884.dkr.ecr.us-east-1.amazonaws.com/tensorflow-in  0.0s\n",
      "\u001b[0m\u001b[34m => [internal] load build context                                          0.0s\n",
      "\u001b[0m\u001b[34m => => transferring context: 187B                                          0.0s\n",
      "\u001b[0m\u001b[34m => CACHED [2/6] ADD ./requirements.inference.txt /opt/requirements.txt    0.0s\n",
      "\u001b[0m\u001b[34m => CACHED [3/6] RUN pip3 install -r /opt/requirements.txt                 0.0s\n",
      "\u001b[0m\u001b[34m => CACHED [4/6] ADD ./inference.py /opt/program/inference.py              0.0s\n",
      "\u001b[0m\u001b[34m => CACHED [5/6] ADD ./model/model.keras /opt/ml/model/                    0.0s\n",
      "\u001b[0m\u001b[34m => CACHED [6/6] ADD ./model/class_indices.pkl /opt/ml/model/              0.0s\n",
      "\u001b[0m\u001b[34m => exporting to image                                                     0.0s\n",
      "\u001b[0m\u001b[34m => => exporting layers                                                    0.0s\n",
      "\u001b[0m\u001b[34m => => writing image sha256:3db4c5739f7b8ea6627a34299fd84fc8d3221455e3d7a  0.0s\n",
      "\u001b[0m\u001b[34m => => naming to 533267394241.dkr.ecr.us-east-1.amazonaws.com/tensorflow-  0.0s\n",
      "\u001b[0m\u001b[?25h"
     ]
    }
   ],
   "source": [
    "#Codice build è univoco per persona\n",
    "!docker build -t 533267394241.dkr.ecr.us-east-1.amazonaws.com/tensorflow-inference:mondo -f Dockerfile.inference ."
   ]
  },
  {
   "cell_type": "code",
   "execution_count": 21,
   "id": "ed350828",
   "metadata": {},
   "outputs": [
    {
     "name": "stdout",
     "output_type": "stream",
     "text": [
      "REPOSITORY                                                          TAG       IMAGE ID       CREATED         SIZE\n",
      "533267394241.dkr.ecr.us-east-1.amazonaws.com/tensorflow-inference   mondo     3db4c5739f7b   5 minutes ago   5.08GB\n"
     ]
    }
   ],
   "source": [
    "!docker images"
   ]
  },
  {
   "cell_type": "code",
   "execution_count": 24,
   "id": "1166441f",
   "metadata": {},
   "outputs": [
    {
     "name": "stdout",
     "output_type": "stream",
     "text": [
      "The push refers to repository [533267394241.dkr.ecr.us-east-1.amazonaws.com/tensorflow-inference]\n",
      "\n",
      "\u001b[1B1abf4d47: Preparing \n",
      "\u001b[1Bb1b8ea17: Preparing \n",
      "\u001b[1Bcb345bf8: Preparing \n",
      "\u001b[1B412c68bc: Preparing \n",
      "\u001b[1B38064f4f: Preparing \n",
      "\u001b[1B37bf1d61: Preparing \n",
      "\u001b[1B8df97c44: Preparing \n",
      "\u001b[1B764747b4: Preparing \n",
      "\u001b[1B1a68f579: Preparing \n",
      "\u001b[1B2eef5eea: Preparing \n",
      "\u001b[1Bb5bcc575: Preparing \n",
      "\u001b[1B5e5ce62f: Preparing \n",
      "\u001b[1B757a305d: Preparing \n",
      "\u001b[1Bc7cf6f28: Preparing \n",
      "\u001b[1B30092134: Preparing \n",
      "\u001b[1Bfb153852: Preparing \n",
      "\u001b[1B0903db8c: Preparing \n",
      "\u001b[1B19dec72a: Preparing \n",
      "\u001b[1Bdf04f233: Preparing \n",
      "\u001b[1Bf2dbc490: Preparing \n",
      "\u001b[1Bba0431f9: Preparing \n",
      "\u001b[1B71536788: Preparing \n",
      "\u001b[1B994107ae: Preparing \n",
      "\u001b[1B3a4f83e7: Preparing \n",
      "\u001b[17Ba68f579: Waiting g \n",
      "\u001b[16B5bcc575: Waiting g \n",
      "\u001b[16Be5ce62f: Waiting g \n",
      "\u001b[25B12c68bc: Pushed   2.659GB/2.639GB\u001b[25A\u001b[2K\u001b[25A\u001b[2K\u001b[25A\u001b[2K\u001b[27A\u001b[2K\u001b[26A\u001b[2K\u001b[25A\u001b[2K\u001b[27A\u001b[2K\u001b[23A\u001b[2K\u001b[22A\u001b[2K\u001b[27A\u001b[2K\u001b[27A\u001b[2K\u001b[27A\u001b[2K\u001b[25A\u001b[2K\u001b[23A\u001b[2K\u001b[22A\u001b[2K\u001b[21A\u001b[2K\u001b[20A\u001b[2K\u001b[25A\u001b[2K\u001b[19A\u001b[2K\u001b[25A\u001b[2K\u001b[22A\u001b[2K\u001b[27A\u001b[2K\u001b[27A\u001b[2K\u001b[19A\u001b[2K\u001b[27A\u001b[2K\u001b[18A\u001b[2K\u001b[22A\u001b[2K\u001b[18A\u001b[2K\u001b[25A\u001b[2K\u001b[18A\u001b[2K\u001b[25A\u001b[2K\u001b[18A\u001b[2K\u001b[25A\u001b[2K\u001b[27A\u001b[2K\u001b[25A\u001b[2K\u001b[22A\u001b[2K\u001b[25A\u001b[2K\u001b[27A\u001b[2K\u001b[16A\u001b[2K\u001b[27A\u001b[2K\u001b[22A\u001b[2K\u001b[25A\u001b[2K\u001b[27A\u001b[2K\u001b[25A\u001b[2K\u001b[15A\u001b[2K\u001b[25A\u001b[2K\u001b[27A\u001b[2K\u001b[15A\u001b[2K\u001b[16A\u001b[2K\u001b[15A\u001b[2K\u001b[25A\u001b[2K\u001b[27A\u001b[2K\u001b[16A\u001b[2K\u001b[15A\u001b[2K\u001b[27A\u001b[2K\u001b[16A\u001b[2K\u001b[15A\u001b[2K\u001b[16A\u001b[2K\u001b[15A\u001b[2K\u001b[16A\u001b[2K\u001b[25A\u001b[2K\u001b[27A\u001b[2K\u001b[22A\u001b[2K\u001b[16A\u001b[2K\u001b[27A\u001b[2K\u001b[25A\u001b[2K\u001b[16A\u001b[2K\u001b[22A\u001b[2K\u001b[16A\u001b[2K\u001b[22A\u001b[2K\u001b[16A\u001b[2K\u001b[22A\u001b[2K\u001b[15A\u001b[2K\u001b[16A\u001b[2K\u001b[27A\u001b[2K\u001b[16A\u001b[2K\u001b[25A\u001b[2K\u001b[27A\u001b[2K\u001b[25A\u001b[2K\u001b[16A\u001b[2K\u001b[14A\u001b[2K\u001b[16A\u001b[2K\u001b[25A\u001b[2K\u001b[22A\u001b[2K\u001b[25A\u001b[2K\u001b[22A\u001b[2K\u001b[16A\u001b[2K\u001b[25A\u001b[2K\u001b[27A\u001b[2K\u001b[22A\u001b[2K\u001b[27A\u001b[2K\u001b[14A\u001b[2K\u001b[22A\u001b[2K\u001b[27A\u001b[2K\u001b[22A\u001b[2K\u001b[27A\u001b[2K\u001b[25A\u001b[2K\u001b[22A\u001b[2K\u001b[25A\u001b[2K\u001b[22A\u001b[2K\u001b[27A\u001b[2K\u001b[13A\u001b[2K\u001b[22A\u001b[2K\u001b[25A\u001b[2K\u001b[22A\u001b[2K\u001b[27A\u001b[2K\u001b[22A\u001b[2K\u001b[25A\u001b[2K\u001b[22A\u001b[2K\u001b[25A\u001b[2K\u001b[11A\u001b[2K\u001b[12A\u001b[2K\u001b[25A\u001b[2K\u001b[27A\u001b[2K\u001b[25A\u001b[2K\u001b[27A\u001b[2K\u001b[25A\u001b[2K\u001b[27A\u001b[2K\u001b[11A\u001b[2K\u001b[25A\u001b[2K\u001b[22A\u001b[2K\u001b[9A\u001b[2K\u001b[22A\u001b[2K\u001b[27A\u001b[2K\u001b[27A\u001b[2K\u001b[22A\u001b[2K\u001b[25A\u001b[2K\u001b[8A\u001b[2K\u001b[25A\u001b[2K\u001b[8A\u001b[2KPushing  6.096MB/430.3MB\u001b[8A\u001b[2KPushing  117.2MB/2.639GB\u001b[8A\u001b[2K\u001b[25A\u001b[2K\u001b[25A\u001b[2K\u001b[27A\u001b[2K\u001b[25A\u001b[2K\u001b[22A\u001b[2K\u001b[27A\u001b[2K\u001b[8A\u001b[2K\u001b[25A\u001b[2K\u001b[22A\u001b[2K\u001b[8A\u001b[2K\u001b[22A\u001b[2K\u001b[27A\u001b[2K\u001b[22A\u001b[2K\u001b[8A\u001b[2K\u001b[22A\u001b[2K\u001b[22A\u001b[2K\u001b[27A\u001b[2K\u001b[25A\u001b[2K\u001b[22A\u001b[2K\u001b[27A\u001b[2K\u001b[22A\u001b[2K\u001b[8A\u001b[2K\u001b[22A\u001b[2K\u001b[25A\u001b[2K\u001b[8A\u001b[2K\u001b[25A\u001b[2K\u001b[27A\u001b[2K\u001b[25A\u001b[2K\u001b[22A\u001b[2K\u001b[25A\u001b[2K\u001b[8A\u001b[2K\u001b[25A\u001b[2K\u001b[27A\u001b[2K\u001b[22A\u001b[2K\u001b[27A\u001b[2K\u001b[25A\u001b[2K\u001b[25A\u001b[2K\u001b[25A\u001b[2K\u001b[27A\u001b[2K\u001b[25A\u001b[2K\u001b[27A\u001b[2K\u001b[6A\u001b[2K\u001b[22A\u001b[2K\u001b[27A\u001b[2K\u001b[25A\u001b[2K\u001b[27A\u001b[2K\u001b[25A\u001b[2K\u001b[8A\u001b[2K\u001b[27A\u001b[2K\u001b[8A\u001b[2K\u001b[22A\u001b[2K\u001b[8A\u001b[2K\u001b[22A\u001b[2K\u001b[27A\u001b[2K\u001b[8A\u001b[2K\u001b[27A\u001b[2K\u001b[6A\u001b[2K\u001b[25A\u001b[2K\u001b[27A\u001b[2K\u001b[25A\u001b[2K\u001b[27A\u001b[2K\u001b[8A\u001b[2K\u001b[25A\u001b[2K\u001b[27A\u001b[2K\u001b[6A\u001b[2K\u001b[22A\u001b[2K\u001b[6A\u001b[2K\u001b[8A\u001b[2K\u001b[22A\u001b[2K\u001b[6A\u001b[2K\u001b[22A\u001b[2K\u001b[25A\u001b[2K\u001b[22A\u001b[2K\u001b[6A\u001b[2K\u001b[22A\u001b[2K\u001b[27A\u001b[2K\u001b[8A\u001b[2K\u001b[22A\u001b[2K\u001b[8A\u001b[2K\u001b[6A\u001b[2K\u001b[27A\u001b[2K\u001b[8A\u001b[2K\u001b[27A\u001b[2K\u001b[8A\u001b[2K\u001b[8A\u001b[2K\u001b[8A\u001b[2K\u001b[25A\u001b[2K\u001b[8A\u001b[2K\u001b[27A\u001b[2K\u001b[22A\u001b[2K\u001b[8A\u001b[2K\u001b[22A\u001b[2K\u001b[8A\u001b[2K\u001b[22A\u001b[2K\u001b[8A\u001b[2K\u001b[22A\u001b[2K\u001b[25A\u001b[2K\u001b[22A\u001b[2K\u001b[6A\u001b[2K\u001b[22A\u001b[2K\u001b[8A\u001b[2K\u001b[22A\u001b[2K\u001b[25A\u001b[2K\u001b[6A\u001b[2K\u001b[8A\u001b[2K\u001b[27A\u001b[2K\u001b[22A\u001b[2K\u001b[6A\u001b[2K\u001b[27A\u001b[2K\u001b[8A\u001b[2K\u001b[27A\u001b[2K\u001b[8A\u001b[2K\u001b[22A\u001b[2K\u001b[27A\u001b[2K\u001b[22A\u001b[2K\u001b[8A\u001b[2K\u001b[22A\u001b[2K\u001b[27A\u001b[2K\u001b[22A\u001b[2K\u001b[27A\u001b[2K\u001b[6A\u001b[2K\u001b[25A\u001b[2K\u001b[27A\u001b[2K\u001b[22A\u001b[2K\u001b[8A\u001b[2K\u001b[25A\u001b[2K\u001b[8A\u001b[2K\u001b[27A\u001b[2K\u001b[8A\u001b[2K\u001b[25A\u001b[2K\u001b[8A\u001b[2K\u001b[25A\u001b[2K\u001b[22A\u001b[2K\u001b[8A\u001b[2K\u001b[22A\u001b[2K\u001b[8A\u001b[2K\u001b[25A\u001b[2K\u001b[6A\u001b[2K\u001b[27A\u001b[2K\u001b[6A\u001b[2K\u001b[27A\u001b[2K\u001b[25A\u001b[2K\u001b[22A\u001b[2K\u001b[8A\u001b[2K\u001b[22A\u001b[2K\u001b[8A\u001b[2K\u001b[25A\u001b[2K\u001b[22A\u001b[2K\u001b[25A\u001b[2K\u001b[22A\u001b[2K\u001b[27A\u001b[2K\u001b[22A\u001b[2K\u001b[25A\u001b[2K\u001b[22A\u001b[2K\u001b[25A\u001b[2K\u001b[27A\u001b[2K\u001b[22A\u001b[2K\u001b[8A\u001b[2K\u001b[27A\u001b[2K\u001b[22A\u001b[2K\u001b[27A\u001b[2K\u001b[8A\u001b[2K\u001b[27A\u001b[2K\u001b[22A\u001b[2K\u001b[8A\u001b[2K\u001b[8A\u001b[2K\u001b[25A\u001b[2K\u001b[8A\u001b[2K\u001b[27A\u001b[2K\u001b[6A\u001b[2K\u001b[25A\u001b[2K\u001b[8A\u001b[2K\u001b[27A\u001b[2K\u001b[22A\u001b[2K\u001b[27A\u001b[2K\u001b[8A\u001b[2K\u001b[27A\u001b[2K\u001b[25A\u001b[2K\u001b[27A\u001b[2K\u001b[25A\u001b[2K\u001b[27A\u001b[2K\u001b[22A\u001b[2K\u001b[27A\u001b[2K\u001b[25A\u001b[2K\u001b[27A\u001b[2K\u001b[25A\u001b[2K\u001b[8A\u001b[2K\u001b[27A\u001b[2K\u001b[25A\u001b[2K\u001b[27A\u001b[2K\u001b[25A\u001b[2K\u001b[27A\u001b[2K\u001b[25A\u001b[2K\u001b[27A\u001b[2KPushing  204.5MB/273.3MB\u001b[27A\u001b[2K\u001b[22A\u001b[2K\u001b[25A\u001b[2K\u001b[22A\u001b[2K\u001b[27A\u001b[2K\u001b[22A\u001b[2K\u001b[6A\u001b[2K\u001b[22A\u001b[2K\u001b[27A\u001b[2K\u001b[25A\u001b[2K\u001b[27A\u001b[2K\u001b[8A\u001b[2K\u001b[27A\u001b[2K\u001b[22A\u001b[2K\u001b[27A\u001b[2K\u001b[6A\u001b[2K\u001b[8A\u001b[2K\u001b[8A\u001b[2K\u001b[8A\u001b[2K\u001b[6A\u001b[2K\u001b[27A\u001b[2K\u001b[22A\u001b[2K\u001b[27A\u001b[2K\u001b[22A\u001b[2K\u001b[27A\u001b[2K\u001b[22A\u001b[2K\u001b[6A\u001b[2K\u001b[22A\u001b[2K\u001b[8A\u001b[2K\u001b[22A\u001b[2K\u001b[25A\u001b[2K\u001b[8A\u001b[2K\u001b[25A\u001b[2K\u001b[8A\u001b[2K\u001b[22A\u001b[2K\u001b[8A\u001b[2K\u001b[25A\u001b[2K\u001b[8A\u001b[2K\u001b[25A\u001b[2K\u001b[8A\u001b[2K\u001b[25A\u001b[2K\u001b[27A\u001b[2K\u001b[25A\u001b[2K\u001b[27A\u001b[2K\u001b[25A\u001b[2K\u001b[22A\u001b[2K\u001b[8A\u001b[2K\u001b[27A\u001b[2K\u001b[8A\u001b[2K\u001b[25A\u001b[2K\u001b[22A\u001b[2K\u001b[25A\u001b[2K\u001b[22A\u001b[2K\u001b[8A\u001b[2K\u001b[22A\u001b[2K\u001b[8A\u001b[2K\u001b[22A\u001b[2K\u001b[27A\u001b[2K\u001b[22A\u001b[2K\u001b[27A\u001b[2K\u001b[22A\u001b[2K\u001b[27A\u001b[2K\u001b[22A\u001b[2K\u001b[27A\u001b[2K\u001b[8A\u001b[2K\u001b[22A\u001b[2K\u001b[25A\u001b[2K\u001b[27A\u001b[2K\u001b[25A\u001b[2K\u001b[27A\u001b[2K\u001b[25A\u001b[2K\u001b[27A\u001b[2K\u001b[22A\u001b[2K\u001b[6A\u001b[2K\u001b[25A\u001b[2K\u001b[8A\u001b[2K\u001b[25A\u001b[2K\u001b[8A\u001b[2K\u001b[25A\u001b[2K\u001b[22A\u001b[2K\u001b[25A\u001b[2K\u001b[22A\u001b[2K\u001b[27A\u001b[2K\u001b[22A\u001b[2K\u001b[8A\u001b[2K\u001b[25A\u001b[2K\u001b[22A\u001b[2K\u001b[27A\u001b[2K\u001b[22A\u001b[2K\u001b[27A\u001b[2K\u001b[22A\u001b[2K\u001b[27A\u001b[2K\u001b[25A\u001b[2K\u001b[8A\u001b[2K\u001b[6A\u001b[2K\u001b[8A\u001b[2K\u001b[22A\u001b[2K\u001b[8A\u001b[2K\u001b[22A\u001b[2K\u001b[8A\u001b[2K\u001b[27A\u001b[2K\u001b[25A\u001b[2K\u001b[8A\u001b[2K\u001b[25A\u001b[2K\u001b[8A\u001b[2K\u001b[25A\u001b[2K\u001b[22A\u001b[2K\u001b[25A\u001b[2K\u001b[22A\u001b[2K\u001b[25A\u001b[2K\u001b[27A\u001b[2K\u001b[22A\u001b[2K\u001b[27A\u001b[2K\u001b[25A\u001b[2K\u001b[8A\u001b[2K\u001b[25A\u001b[2K\u001b[22A\u001b[2K\u001b[25A\u001b[2K\u001b[8A\u001b[2K\u001b[6A\u001b[2K\u001b[25A\u001b[2K\u001b[22A\u001b[2K\u001b[25A\u001b[2K\u001b[22A\u001b[2K\u001b[8A\u001b[2K\u001b[6A\u001b[2K\u001b[8A\u001b[2K\u001b[27A\u001b[2K\u001b[6A\u001b[2K\u001b[27A\u001b[2K\u001b[8A\u001b[2K\u001b[6A\u001b[2K\u001b[6A\u001b[2K\u001b[8A\u001b[2K\u001b[27A\u001b[2K\u001b[25A\u001b[2K\u001b[27A\u001b[2K\u001b[22A\u001b[2K\u001b[27A\u001b[2K\u001b[22A\u001b[2K\u001b[27A\u001b[2K\u001b[25A\u001b[2K\u001b[27A\u001b[2K\u001b[25A\u001b[2K\u001b[27A\u001b[2K\u001b[8A\u001b[2K\u001b[25A\u001b[2K\u001b[8A\u001b[2K\u001b[27A\u001b[2K\u001b[6A\u001b[2K\u001b[27A\u001b[2K\u001b[6A\u001b[2K\u001b[8A\u001b[2K\u001b[25A\u001b[2K\u001b[27A\u001b[2K\u001b[8A\u001b[2K\u001b[22A\u001b[2K\u001b[25A\u001b[2K\u001b[22A\u001b[2K\u001b[25A\u001b[2K\u001b[8A\u001b[2K\u001b[6A\u001b[2K\u001b[27A\u001b[2K\u001b[22A\u001b[2K\u001b[25A\u001b[2K\u001b[8A\u001b[2K\u001b[6A\u001b[2K\u001b[8A\u001b[2K\u001b[8A\u001b[2KPushing  278.4MB\u001b[8A\u001b[2K\u001b[6A\u001b[2K\u001b[22A\u001b[2K\u001b[25A\u001b[2K\u001b[6A\u001b[2K\u001b[25A\u001b[2K\u001b[27A\u001b[2K\u001b[25A\u001b[2K\u001b[27A\u001b[2K\u001b[22A\u001b[2K\u001b[6A\u001b[2K\u001b[8A\u001b[2K\u001b[6A\u001b[2K\u001b[25A\u001b[2K\u001b[8A\u001b[2K\u001b[27A\u001b[2K\u001b[8A\u001b[2K\u001b[27A\u001b[2K\u001b[25A\u001b[2K\u001b[27A\u001b[2K\u001b[25A\u001b[2K\u001b[27A\u001b[2K\u001b[25A\u001b[2K\u001b[8A\u001b[2K\u001b[6A\u001b[2K\u001b[25A\u001b[2K\u001b[6A\u001b[2K\u001b[25A\u001b[2K\u001b[8A\u001b[2K\u001b[25A\u001b[2K\u001b[8A\u001b[2K\u001b[25A\u001b[2K\u001b[6A\u001b[2K\u001b[25A\u001b[2K\u001b[27A\u001b[2K\u001b[25A\u001b[2K\u001b[8A\u001b[2K\u001b[27A\u001b[2K\u001b[6A\u001b[2K\u001b[27A\u001b[2K\u001b[6A\u001b[2K\u001b[25A\u001b[2K\u001b[27A\u001b[2K\u001b[8A\u001b[2K\u001b[27A\u001b[2K\u001b[6A\u001b[2K\u001b[27A\u001b[2K\u001b[25A\u001b[2K\u001b[27A\u001b[2K\u001b[6A\u001b[2K\u001b[27A\u001b[2K\u001b[8A\u001b[2K\u001b[25A\u001b[2K\u001b[5A\u001b[2K\u001b[27A\u001b[2K\u001b[6A\u001b[2K\u001b[25A\u001b[2K\u001b[5A\u001b[2K\u001b[25A\u001b[2K\u001b[8A\u001b[2K\u001b[25A\u001b[2K\u001b[6A\u001b[2K\u001b[25A\u001b[2K\u001b[8A\u001b[2K\u001b[25A\u001b[2K\u001b[5A\u001b[2K\u001b[8A\u001b[2K\u001b[6A\u001b[2K\u001b[5A\u001b[2K\u001b[8A\u001b[2K\u001b[5A\u001b[2K\u001b[25A\u001b[2K\u001b[8A\u001b[2K\u001b[25A\u001b[2K\u001b[27A\u001b[2K\u001b[8A\u001b[2K\u001b[25A\u001b[2K\u001b[5A\u001b[2K\u001b[8A\u001b[2K\u001b[6A\u001b[2K\u001b[8A\u001b[2K\u001b[25A\u001b[2K\u001b[25A\u001b[2K\u001b[25A\u001b[2K\u001b[8A\u001b[2K\u001b[27A\u001b[2K\u001b[8A\u001b[2K\u001b[6A\u001b[2K\u001b[5A\u001b[2K\u001b[6A\u001b[2K\u001b[5A\u001b[2K\u001b[6A\u001b[2K\u001b[25A\u001b[2K\u001b[5A\u001b[2K\u001b[25A\u001b[2K\u001b[5A\u001b[2K\u001b[27A\u001b[2K\u001b[25A\u001b[2K\u001b[5A\u001b[2K\u001b[27A\u001b[2K\u001b[5A\u001b[2K\u001b[27A\u001b[2K\u001b[8A\u001b[2K\u001b[27A\u001b[2K\u001b[25A\u001b[2K\u001b[27A\u001b[2K\u001b[25A\u001b[2K\u001b[8A\u001b[2K\u001b[6A\u001b[2K\u001b[8A\u001b[2K\u001b[25A\u001b[2K\u001b[8A\u001b[2K\u001b[27A\u001b[2K\u001b[8A\u001b[2K\u001b[27A\u001b[2K\u001b[25A\u001b[2K\u001b[27A\u001b[2K\u001b[8A\u001b[2K\u001b[5A\u001b[2K\u001b[8A\u001b[2K\u001b[25A\u001b[2K\u001b[8A\u001b[2K\u001b[25A\u001b[2K\u001b[5A\u001b[2K\u001b[27A\u001b[2K\u001b[8A\u001b[2K\u001b[6A\u001b[2K\u001b[25A\u001b[2K\u001b[27A\u001b[2K\u001b[6A\u001b[2K\u001b[8A\u001b[2K\u001b[6A\u001b[2K\u001b[25A\u001b[2K\u001b[6A\u001b[2K\u001b[8A\u001b[2K\u001b[6A\u001b[2K\u001b[8A\u001b[2K\u001b[25A\u001b[2K\u001b[8A\u001b[2K\u001b[25A\u001b[2K\u001b[6A\u001b[2K\u001b[25A\u001b[2K\u001b[8A\u001b[2K\u001b[5A\u001b[2K\u001b[8A\u001b[2K\u001b[8A\u001b[2K\u001b[6A\u001b[2K\u001b[8A\u001b[2K\u001b[25A\u001b[2K\u001b[8A\u001b[2K\u001b[25A\u001b[2K\u001b[6A\u001b[2K\u001b[27A\u001b[2K\u001b[4A\u001b[2K\u001b[27A\u001b[2K\u001b[25A\u001b[2K\u001b[6A\u001b[2K\u001b[25A\u001b[2K\u001b[27A\u001b[2K\u001b[6A\u001b[2K\u001b[4A\u001b[2K\u001b[6A\u001b[2K\u001b[25A\u001b[2K\u001b[27A\u001b[2K\u001b[8A\u001b[2K\u001b[27A\u001b[2K\u001b[25A\u001b[2K\u001b[4A\u001b[2K\u001b[25A\u001b[2K\u001b[3A\u001b[2K\u001b[25A\u001b[2K\u001b[3A\u001b[2K\u001b[25A\u001b[2K\u001b[3A\u001b[2K\u001b[27A\u001b[2K\u001b[3A\u001b[2K\u001b[27A\u001b[2K\u001b[3A\u001b[2K\u001b[27A\u001b[2K\u001b[4A\u001b[2K\u001b[27A\u001b[2K\u001b[25A\u001b[2K\u001b[27A\u001b[2K\u001b[25A\u001b[2K\u001b[4A\u001b[2K\u001b[25A\u001b[2K\u001b[27A\u001b[2K\u001b[25A\u001b[2K\u001b[27A\u001b[2K\u001b[4A\u001b[2K\u001b[27A\u001b[2K\u001b[4A\u001b[2K\u001b[27A\u001b[2K\u001b[25A\u001b[2K\u001b[25A\u001b[2K\u001b[4A\u001b[2K\u001b[25A\u001b[2K\u001b[4A\u001b[2K\u001b[25A\u001b[2K\u001b[4A\u001b[2K\u001b[25A\u001b[2K\u001b[3A\u001b[2K\u001b[25A\u001b[2K\u001b[4A\u001b[2K\u001b[3A\u001b[2K\u001b[4A\u001b[2K\u001b[4A\u001b[2K\u001b[4A\u001b[2K\u001b[27A\u001b[2K\u001b[27A\u001b[2K\u001b[25A\u001b[2K\u001b[27A\u001b[2K\u001b[27A\u001b[2K\u001b[4A\u001b[2K\u001b[27A\u001b[2K\u001b[3A\u001b[2K\u001b[27A\u001b[2K\u001b[3A\u001b[2K\u001b[4A\u001b[2K\u001b[3A\u001b[2K\u001b[4A\u001b[2K\u001b[3A\u001b[2K\u001b[27A\u001b[2K\u001b[3A\u001b[2K\u001b[25A\u001b[2K\u001b[3A\u001b[2K\u001b[25A\u001b[2K\u001b[27A\u001b[2K\u001b[3A\u001b[2K\u001b[25A\u001b[2K\u001b[1A\u001b[2K\u001b[25A\u001b[2K\u001b[4A\u001b[2K\u001b[27A\u001b[2K\u001b[25A\u001b[2K\u001b[3A\u001b[2K\u001b[25A\u001b[2K\u001b[1A\u001b[2K\u001b[3A\u001b[2K\u001b[25A\u001b[2K\u001b[3A\u001b[2K\u001b[25A\u001b[2K\u001b[27A\u001b[2K\u001b[3A\u001b[2K\u001b[27A\u001b[2K\u001b[4A\u001b[2K\u001b[27A\u001b[2K\u001b[3A\u001b[2K\u001b[27A\u001b[2K\u001b[25A\u001b[2K\u001b[3A\u001b[2K\u001b[25A\u001b[2K\u001b[3A\u001b[2K\u001b[4A\u001b[2K\u001b[25A\u001b[2K\u001b[4A\u001b[2K\u001b[4A\u001b[2K\u001b[27A\u001b[2K\u001b[25A\u001b[2K\u001b[27A\u001b[2K\u001b[25A\u001b[2K\u001b[27A\u001b[2K\u001b[1A\u001b[2K\u001b[27A\u001b[2K\u001b[1A\u001b[2K\u001b[4A\u001b[2K\u001b[1A\u001b[2K\u001b[3A\u001b[2K\u001b[27A\u001b[2K\u001b[27A\u001b[2K\u001b[27A\u001b[2K\u001b[27A\u001b[2K\u001b[4A\u001b[2K\u001b[1A\u001b[2K\u001b[4A\u001b[2K\u001b[3A\u001b[2K\u001b[27A\u001b[2K\u001b[4A\u001b[2K\u001b[3A\u001b[2K\u001b[25A\u001b[2K\u001b[27A\u001b[2K\u001b[25A\u001b[2K\u001b[1A\u001b[2K\u001b[4A\u001b[2K\u001b[3A\u001b[2K\u001b[4A\u001b[2K\u001b[1A\u001b[2K\u001b[4A\u001b[2K\u001b[27A\u001b[2K\u001b[4A\u001b[2K\u001b[27A\u001b[2K\u001b[4A\u001b[2K\u001b[1A\u001b[2K\u001b[1A\u001b[2K\u001b[27A\u001b[2K\u001b[25A\u001b[2K\u001b[27A\u001b[2K\u001b[4A\u001b[2K\u001b[25A\u001b[2K\u001b[4A\u001b[2K\u001b[27A\u001b[2K\u001b[3A\u001b[2K\u001b[27A\u001b[2K\u001b[25A\u001b[2K\u001b[3A\u001b[2K\u001b[4A\u001b[2K\u001b[27A\u001b[2K\u001b[3A\u001b[2K\u001b[1A\u001b[2K\u001b[3A\u001b[2K\u001b[3A\u001b[2K\u001b[4A\u001b[2K\u001b[3A\u001b[2K\u001b[25A\u001b[2K\u001b[27A\u001b[2K\u001b[3A\u001b[2K\u001b[3A\u001b[2K\u001b[4A\u001b[2K\u001b[1A\u001b[2K\u001b[4A\u001b[2K\u001b[1A\u001b[2K\u001b[25A\u001b[2K\u001b[1A\u001b[2K\u001b[25A\u001b[2K\u001b[3A\u001b[2K\u001b[1A\u001b[2K\u001b[25A\u001b[2K\u001b[3A\u001b[2K\u001b[1A\u001b[2K\u001b[3A\u001b[2K\u001b[25A\u001b[2K\u001b[1A\u001b[2K\u001b[25A\u001b[2K\u001b[1A\u001b[2K\u001b[3A\u001b[2K\u001b[4A\u001b[2K\u001b[3A\u001b[2K\u001b[25A\u001b[2K\u001b[3A\u001b[2K\u001b[1A\u001b[2K\u001b[25A\u001b[2K\u001b[1A\u001b[2K\u001b[25A\u001b[2K\u001b[3A\u001b[2K\u001b[25A\u001b[2K\u001b[4A\u001b[2K\u001b[1A\u001b[2K\u001b[3A\u001b[2K\u001b[1A\u001b[2K\u001b[27A\u001b[2K\u001b[1A\u001b[2K\u001b[4A\u001b[2K\u001b[3A\u001b[2K\u001b[3A\u001b[2K\u001b[25A\u001b[2K\u001b[3A\u001b[2K\u001b[4A\u001b[2K\u001b[3A\u001b[2K\u001b[25A\u001b[2K\u001b[3A\u001b[2K\u001b[1A\u001b[2K\u001b[3A\u001b[2K\u001b[1A\u001b[2K\u001b[3A\u001b[2K\u001b[4A\u001b[2K\u001b[3A\u001b[2K\u001b[1A\u001b[2K\u001b[3A\u001b[2K\u001b[1A\u001b[2K\u001b[4A\u001b[2K\u001b[3A\u001b[2K\u001b[4A\u001b[2K\u001b[3A\u001b[2K\u001b[1A\u001b[2K\u001b[25A\u001b[2K\u001b[3A\u001b[2K\u001b[4A\u001b[2K\u001b[3A\u001b[2K\u001b[1A\u001b[2K\u001b[25A\u001b[2K\u001b[3A\u001b[2K\u001b[1A\u001b[2K\u001b[3A\u001b[2K\u001b[1A\u001b[2K\u001b[4A\u001b[2K\u001b[1A\u001b[2K\u001b[3A\u001b[2K\u001b[1A\u001b[2K\u001b[3A\u001b[2K\u001b[1A\u001b[2K\u001b[25A\u001b[2K\u001b[25A\u001b[2K\u001b[3A\u001b[2K\u001b[25A\u001b[2K\u001b[4A\u001b[2K\u001b[25A\u001b[2K\u001b[4A\u001b[2K\u001b[3A\u001b[2K\u001b[4A\u001b[2K\u001b[1A\u001b[2K\u001b[25A\u001b[2K\u001b[3A\u001b[2K\u001b[25A\u001b[2K\u001b[4A\u001b[2K\u001b[3A\u001b[2K\u001b[25A\u001b[2K\u001b[3A\u001b[2K\u001b[25A\u001b[2K\u001b[3A\u001b[2K\u001b[4A\u001b[2K\u001b[3A\u001b[2K\u001b[4A\u001b[2K\u001b[3A\u001b[2K\u001b[25A\u001b[2K\u001b[3A\u001b[2K\u001b[25A\u001b[2K\u001b[25A\u001b[2K\u001b[4A\u001b[2K\u001b[3A\u001b[2K\u001b[25A\u001b[2K\u001b[3A\u001b[2K\u001b[4A\u001b[2K\u001b[3A\u001b[2K\u001b[25A\u001b[2K\u001b[3A\u001b[2K\u001b[4A\u001b[2K\u001b[25A\u001b[2K\u001b[4A\u001b[2K\u001b[25A\u001b[2K\u001b[3A\u001b[2K\u001b[3A\u001b[2K\u001b[4A\u001b[2K\u001b[25A\u001b[2K\u001b[4A\u001b[2K\u001b[3A\u001b[2K\u001b[4A\u001b[2K\u001b[25A\u001b[2K\u001b[4A\u001b[2K\u001b[3A\u001b[2K\u001b[4A\u001b[2K\u001b[3A\u001b[2K\u001b[25A\u001b[2K\u001b[4A\u001b[2K\u001b[3A\u001b[2K\u001b[4A\u001b[2K\u001b[3A\u001b[2K\u001b[4A\u001b[2K\u001b[25A\u001b[2K\u001b[4A\u001b[2K\u001b[4A\u001b[2K\u001b[3A\u001b[2K\u001b[25A\u001b[2K\u001b[4A\u001b[2K\u001b[25A\u001b[2K\u001b[3A\u001b[2K\u001b[4A\u001b[2K\u001b[3A\u001b[2K\u001b[25A\u001b[2K\u001b[3A\u001b[2K\u001b[25A\u001b[2K\u001b[3A\u001b[2K\u001b[4A\u001b[2K\u001b[25A\u001b[2K\u001b[4A\u001b[2K\u001b[25A\u001b[2K\u001b[4A\u001b[2K\u001b[3A\u001b[2K\u001b[4A\u001b[2K\u001b[3A\u001b[2K\u001b[3A\u001b[2K\u001b[3A\u001b[2K\u001b[25A\u001b[2K\u001b[4A\u001b[2K\u001b[3A\u001b[2K\u001b[4A\u001b[2K\u001b[3A\u001b[2K\u001b[4A\u001b[2K\u001b[3A\u001b[2K\u001b[4A\u001b[2K\u001b[25A\u001b[2K\u001b[3A\u001b[2K\u001b[25A\u001b[2K\u001b[4A\u001b[2K\u001b[3A\u001b[2K\u001b[4A\u001b[2K\u001b[25A\u001b[2K\u001b[4A\u001b[2K\u001b[25A\u001b[2K\u001b[25A\u001b[2K\u001b[4A\u001b[2K\u001b[3A\u001b[2K\u001b[3A\u001b[2K\u001b[3A\u001b[2K\u001b[4A\u001b[2K\u001b[3A\u001b[2K\u001b[25A\u001b[2K\u001b[3A\u001b[2K\u001b[3A\u001b[2K\u001b[4A\u001b[2K\u001b[3A\u001b[2K\u001b[4A\u001b[2K\u001b[3A\u001b[2K\u001b[4A\u001b[2K\u001b[25A\u001b[2K\u001b[3A\u001b[2K\u001b[3A\u001b[2K\u001b[3A\u001b[2K\u001b[25A\u001b[2K\u001b[3A\u001b[2K\u001b[4A\u001b[2K\u001b[25A\u001b[2K\u001b[25A\u001b[2K\u001b[25A\u001b[2K\u001b[3A\u001b[2K\u001b[3A\u001b[2K\u001b[25A\u001b[2K\u001b[3A\u001b[2K\u001b[25A\u001b[2K\u001b[3A\u001b[2K\u001b[25A\u001b[2K\u001b[3A\u001b[2K\u001b[25A\u001b[2K\u001b[3A\u001b[2K\u001b[25A\u001b[2K\u001b[3A\u001b[2K\u001b[25A\u001b[2K\u001b[3A\u001b[2K\u001b[3A\u001b[2K\u001b[25A\u001b[2K\u001b[3A\u001b[2K\u001b[25A\u001b[2K\u001b[3A\u001b[2K\u001b[25A\u001b[2K\u001b[3A\u001b[2K\u001b[25A\u001b[2K\u001b[3A\u001b[2K\u001b[25A\u001b[2K\u001b[3A\u001b[2K\u001b[25A\u001b[2K\u001b[3A\u001b[2K\u001b[25A\u001b[2K\u001b[3A\u001b[2K\u001b[25A\u001b[2K\u001b[3A\u001b[2K\u001b[3A\u001b[2K\u001b[25A\u001b[2K\u001b[3A\u001b[2K\u001b[25A\u001b[2K\u001b[3A\u001b[2K\u001b[25A\u001b[2K\u001b[25A\u001b[2K\u001b[3A\u001b[2K\u001b[3A\u001b[2K\u001b[25A\u001b[2K\u001b[3A\u001b[2K\u001b[25A\u001b[2K\u001b[3A\u001b[2K\u001b[25A\u001b[2K\u001b[3A\u001b[2K\u001b[3A\u001b[2K\u001b[3A\u001b[2K\u001b[3A\u001b[2K\u001b[25A\u001b[2K\u001b[3A\u001b[2K\u001b[25A\u001b[2K\u001b[3A\u001b[2K\u001b[3A\u001b[2K\u001b[25A\u001b[2K\u001b[25A\u001b[2K\u001b[3A\u001b[2K\u001b[25A\u001b[2K\u001b[25A\u001b[2K\u001b[3A\u001b[2K\u001b[25A\u001b[2K\u001b[3A\u001b[2K\u001b[25A\u001b[2K\u001b[3A\u001b[2K\u001b[25A\u001b[2K\u001b[3A\u001b[2K\u001b[25A\u001b[2K\u001b[3A\u001b[2K\u001b[25A\u001b[2K\u001b[3A\u001b[2K\u001b[25A\u001b[2K\u001b[25A\u001b[2K\u001b[3A\u001b[2K\u001b[3A\u001b[2K\u001b[25A\u001b[2K\u001b[25A\u001b[2K\u001b[3A\u001b[2K\u001b[3A\u001b[2K\u001b[25A\u001b[2K\u001b[3A\u001b[2K\u001b[3A\u001b[2K\u001b[3A\u001b[2K\u001b[25A\u001b[2K\u001b[3A\u001b[2K\u001b[3A\u001b[2K\u001b[25A\u001b[2K\u001b[3A\u001b[2K\u001b[3A\u001b[2K\u001b[25A\u001b[2K\u001b[3A\u001b[2K\u001b[25A\u001b[2K\u001b[25A\u001b[2K\u001b[25A\u001b[2K\u001b[25A\u001b[2K\u001b[25A\u001b[2K\u001b[25A\u001b[2K\u001b[3A\u001b[2K\u001b[3A\u001b[2K\u001b[25A\u001b[2K\u001b[3A\u001b[2K\u001b[25A\u001b[2K\u001b[25A\u001b[2K\u001b[25A\u001b[2K\u001b[3A\u001b[2K\u001b[25A\u001b[2K\u001b[3A\u001b[2K\u001b[25A\u001b[2K\u001b[25A\u001b[2K\u001b[3A\u001b[2K\u001b[25A\u001b[2K\u001b[3A\u001b[2K\u001b[25A\u001b[2K\u001b[3A\u001b[2K\u001b[25A\u001b[2K\u001b[3A\u001b[2K\u001b[3A\u001b[2K\u001b[25A\u001b[2K\u001b[3A\u001b[2K\u001b[3A\u001b[2K\u001b[3A\u001b[2K\u001b[3A\u001b[2K\u001b[25A\u001b[2K\u001b[3A\u001b[2K\u001b[25A\u001b[2K\u001b[3A\u001b[2K\u001b[25A\u001b[2K\u001b[3A\u001b[2K\u001b[25A\u001b[2K\u001b[3A\u001b[2K\u001b[25A\u001b[2K\u001b[3A\u001b[2K\u001b[25A\u001b[2K\u001b[3A\u001b[2K\u001b[25A\u001b[2K\u001b[25A\u001b[2K\u001b[3A\u001b[2K\u001b[25A\u001b[2K\u001b[3A\u001b[2K\u001b[25A\u001b[2K\u001b[3A\u001b[2K\u001b[25A\u001b[2K\u001b[3A\u001b[2K\u001b[25A\u001b[2K\u001b[3A\u001b[2K\u001b[25A\u001b[2K\u001b[3A\u001b[2K\u001b[25A\u001b[2K\u001b[3A\u001b[2K\u001b[3A\u001b[2K\u001b[3A\u001b[2K\u001b[25A\u001b[2K\u001b[3A\u001b[2K\u001b[3A\u001b[2K\u001b[25A\u001b[2K\u001b[3A\u001b[2K\u001b[25A\u001b[2K\u001b[3A\u001b[2K\u001b[3A\u001b[2K\u001b[3A\u001b[2K\u001b[25A\u001b[2K\u001b[3A\u001b[2K\u001b[3A\u001b[2K\u001b[3A\u001b[2K\u001b[3A\u001b[2K\u001b[25A\u001b[2K\u001b[3A\u001b[2K\u001b[25A\u001b[2K\u001b[25A\u001b[2K\u001b[25A\u001b[2K\u001b[25A\u001b[2K\u001b[25A\u001b[2K\u001b[3A\u001b[2K\u001b[25A\u001b[2K\u001b[3A\u001b[2K\u001b[25A\u001b[2K\u001b[3A\u001b[2K\u001b[25A\u001b[2K\u001b[3A\u001b[2K\u001b[25A\u001b[2K\u001b[3A\u001b[2K\u001b[25A\u001b[2K\u001b[25A\u001b[2K\u001b[25A\u001b[2K\u001b[3A\u001b[2K\u001b[25A\u001b[2K\u001b[3A\u001b[2K\u001b[3A\u001b[2K\u001b[25A\u001b[2K\u001b[25A\u001b[2K\u001b[25A\u001b[2K\u001b[3A\u001b[2K\u001b[25A\u001b[2K\u001b[25A\u001b[2K\u001b[3A\u001b[2K\u001b[25A\u001b[2K\u001b[3A\u001b[2K\u001b[25A\u001b[2K\u001b[3A\u001b[2K\u001b[25A\u001b[2K\u001b[3A\u001b[2K\u001b[25A\u001b[2K\u001b[3A\u001b[2K\u001b[3A\u001b[2K\u001b[25A\u001b[2K\u001b[3A\u001b[2K\u001b[3A\u001b[2K\u001b[25A\u001b[2K\u001b[3A\u001b[2K\u001b[25A\u001b[2K\u001b[3A\u001b[2K\u001b[25A\u001b[2K\u001b[3A\u001b[2K\u001b[25A\u001b[2K\u001b[3A\u001b[2K\u001b[25A\u001b[2K\u001b[3A\u001b[2K\u001b[25A\u001b[2K\u001b[3A\u001b[2K\u001b[25A\u001b[2K\u001b[3A\u001b[2K\u001b[3A\u001b[2K\u001b[25A\u001b[2K\u001b[3A\u001b[2K\u001b[3A\u001b[2K\u001b[25A\u001b[2K\u001b[3A\u001b[2K\u001b[25A\u001b[2K\u001b[25A\u001b[2K\u001b[3A\u001b[2K\u001b[25A\u001b[2K\u001b[3A\u001b[2K\u001b[25A\u001b[2K\u001b[3A\u001b[2K\u001b[25A\u001b[2K\u001b[3A\u001b[2K\u001b[25A\u001b[2K\u001b[3A\u001b[2K\u001b[25A\u001b[2K\u001b[25A\u001b[2K\u001b[3A\u001b[2K\u001b[3A\u001b[2K\u001b[25A\u001b[2K\u001b[3A\u001b[2K\u001b[25A\u001b[2K\u001b[3A\u001b[2K\u001b[25A\u001b[2K\u001b[3A\u001b[2K\u001b[25A\u001b[2K\u001b[3A\u001b[2K\u001b[25A\u001b[2K\u001b[3A\u001b[2K\u001b[25A\u001b[2K\u001b[25A\u001b[2K\u001b[25A\u001b[2K\u001b[3A\u001b[2K\u001b[25A\u001b[2K\u001b[3A\u001b[2K\u001b[25A\u001b[2K\u001b[25A\u001b[2K\u001b[25A\u001b[2K\u001b[25A\u001b[2K\u001b[3A\u001b[2K\u001b[25A\u001b[2K\u001b[25A\u001b[2K\u001b[25A\u001b[2K\u001b[25A\u001b[2K\u001b[3A\u001b[2K\u001b[25A\u001b[2K\u001b[3A\u001b[2K\u001b[25A\u001b[2K\u001b[3A\u001b[2K\u001b[3A\u001b[2K\u001b[25A\u001b[2K\u001b[25A\u001b[2K\u001b[25A\u001b[2K\u001b[3A\u001b[2K\u001b[25A\u001b[2K\u001b[3A\u001b[2K\u001b[25A\u001b[2K\u001b[3A\u001b[2K\u001b[25A\u001b[2K\u001b[3A\u001b[2K\u001b[25A\u001b[2K\u001b[3A\u001b[2K\u001b[3A\u001b[2K\u001b[3A\u001b[2K\u001b[25A\u001b[2K\u001b[3A\u001b[2K\u001b[25A\u001b[2K\u001b[25A\u001b[2K\u001b[25A\u001b[2K\u001b[3A\u001b[2K\u001b[25A\u001b[2K\u001b[3A\u001b[2K\u001b[25A\u001b[2K\u001b[25A\u001b[2K\u001b[3A\u001b[2K\u001b[25A\u001b[2K\u001b[3A\u001b[2K\u001b[25A\u001b[2K\u001b[25A\u001b[2K\u001b[25A\u001b[2K\u001b[3A\u001b[2K\u001b[25A\u001b[2K\u001b[3A\u001b[2K\u001b[25A\u001b[2K\u001b[25A\u001b[2K\u001b[25A\u001b[2K\u001b[25A\u001b[2K\u001b[25A\u001b[2K\u001b[3A\u001b[2K\u001b[25A\u001b[2K\u001b[3A\u001b[2K\u001b[25A\u001b[2K\u001b[3A\u001b[2K\u001b[3A\u001b[2K\u001b[3A\u001b[2K\u001b[25A\u001b[2K\u001b[3A\u001b[2K\u001b[25A\u001b[2K\u001b[25A\u001b[2K\u001b[25A\u001b[2K\u001b[25A\u001b[2K\u001b[3A\u001b[2K\u001b[25A\u001b[2K\u001b[25A\u001b[2K\u001b[3A\u001b[2K\u001b[25A\u001b[2K\u001b[3A\u001b[2K\u001b[25A\u001b[2K\u001b[3A\u001b[2K\u001b[25A\u001b[2K\u001b[3A\u001b[2K\u001b[25A\u001b[2K\u001b[3A\u001b[2K\u001b[25A\u001b[2K\u001b[3A\u001b[2K\u001b[3A\u001b[2K\u001b[3A\u001b[2K\u001b[25A\u001b[2K\u001b[3A\u001b[2K\u001b[25A\u001b[2K\u001b[25A\u001b[2K\u001b[3A\u001b[2K\u001b[25A\u001b[2K\u001b[25A\u001b[2K\u001b[25A\u001b[2K\u001b[25A\u001b[2K\u001b[3A\u001b[2K\u001b[25A\u001b[2K\u001b[25A\u001b[2K\u001b[3A\u001b[2K\u001b[25A\u001b[2K\u001b[3A\u001b[2K\u001b[25A\u001b[2K\u001b[3A\u001b[2K\u001b[25A\u001b[2K\u001b[3A\u001b[2K\u001b[25A\u001b[2K\u001b[3A\u001b[2K\u001b[25A\u001b[2K\u001b[3A\u001b[2K\u001b[25A\u001b[2K\u001b[25A\u001b[2K\u001b[25A\u001b[2K\u001b[25A\u001b[2K\u001b[25A\u001b[2K\u001b[25A\u001b[2K\u001b[25A\u001b[2K\u001b[25A\u001b[2K\u001b[25A\u001b[2K\u001b[25A\u001b[2K\u001b[25A\u001b[2K\u001b[25A\u001b[2K\u001b[25A\u001b[2K\u001b[25A\u001b[2K\u001b[25A\u001b[2K\u001b[25A\u001b[2K\u001b[25A\u001b[2K\u001b[25A\u001b[2K\u001b[25A\u001b[2K\u001b[25A\u001b[2K\u001b[25A\u001b[2K\u001b[25A\u001b[2K\u001b[25A\u001b[2K\u001b[25A\u001b[2K\u001b[25A\u001b[2K\u001b[25A\u001b[2K\u001b[25A\u001b[2K\u001b[25A\u001b[2K\u001b[25A\u001b[2K\u001b[25A\u001b[2K\u001b[25A\u001b[2K\u001b[25A\u001b[2K\u001b[25A\u001b[2K\u001b[25A\u001b[2K\u001b[25A\u001b[2K\u001b[25A\u001b[2K\u001b[25A\u001b[2K\u001b[25A\u001b[2K\u001b[25A\u001b[2K\u001b[25A\u001b[2K\u001b[25A\u001b[2K\u001b[25A\u001b[2K\u001b[25A\u001b[2K\u001b[25A\u001b[2K\u001b[25A\u001b[2K\u001b[25A\u001b[2K\u001b[25A\u001b[2K\u001b[25A\u001b[2K\u001b[25A\u001b[2K\u001b[25A\u001b[2K\u001b[25A\u001b[2K\u001b[25A\u001b[2K\u001b[25A\u001b[2K\u001b[25A\u001b[2K\u001b[25A\u001b[2K\u001b[25A\u001b[2K\u001b[25A\u001b[2K\u001b[25A\u001b[2K\u001b[25A\u001b[2K\u001b[25A\u001b[2K\u001b[25A\u001b[2K\u001b[25A\u001b[2K\u001b[25A\u001b[2K\u001b[25A\u001b[2K\u001b[25A\u001b[2K\u001b[25A\u001b[2K\u001b[25A\u001b[2K\u001b[25A\u001b[2K\u001b[25A\u001b[2K\u001b[25A\u001b[2K\u001b[25A\u001b[2K\u001b[25A\u001b[2K\u001b[25A\u001b[2K\u001b[25A\u001b[2K\u001b[25A\u001b[2K\u001b[25A\u001b[2K\u001b[25A\u001b[2K\u001b[25A\u001b[2K\u001b[25A\u001b[2K\u001b[25A\u001b[2K\u001b[25A\u001b[2K\u001b[25A\u001b[2K\u001b[25A\u001b[2K\u001b[25A\u001b[2K\u001b[25A\u001b[2K\u001b[25A\u001b[2K\u001b[25A\u001b[2K\u001b[25A\u001b[2K\u001b[25A\u001b[2K\u001b[25A\u001b[2K\u001b[25A\u001b[2K\u001b[25A\u001b[2K\u001b[25A\u001b[2K\u001b[25A\u001b[2K\u001b[25A\u001b[2K\u001b[25A\u001b[2K\u001b[25A\u001b[2K\u001b[25A\u001b[2K\u001b[25A\u001b[2K\u001b[25A\u001b[2K\u001b[25A\u001b[2K\u001b[25A\u001b[2K\u001b[25A\u001b[2K\u001b[25A\u001b[2K\u001b[25A\u001b[2K\u001b[25A\u001b[2K\u001b[25A\u001b[2K\u001b[25A\u001b[2K\u001b[25A\u001b[2K\u001b[25A\u001b[2K\u001b[25A\u001b[2K\u001b[25A\u001b[2K\u001b[25A\u001b[2K\u001b[25A\u001b[2K\u001b[25A\u001b[2K\u001b[25A\u001b[2K\u001b[25A\u001b[2K\u001b[25A\u001b[2K\u001b[25A\u001b[2K\u001b[25A\u001b[2K\u001b[25A\u001b[2K\u001b[25A\u001b[2K\u001b[25A\u001b[2K\u001b[25A\u001b[2K\u001b[25A\u001b[2K\u001b[25A\u001b[2K\u001b[25A\u001b[2K\u001b[25A\u001b[2K\u001b[25A\u001b[2K\u001b[25A\u001b[2K\u001b[25A\u001b[2K\u001b[25A\u001b[2K\u001b[25A\u001b[2K\u001b[25A\u001b[2K\u001b[25A\u001b[2K\u001b[25A\u001b[2K\u001b[25A\u001b[2K\u001b[25A\u001b[2K\u001b[25A\u001b[2K\u001b[25A\u001b[2K\u001b[25A\u001b[2K\u001b[25A\u001b[2K\u001b[25A\u001b[2K\u001b[25A\u001b[2K\u001b[25A\u001b[2K\u001b[25A\u001b[2K\u001b[25A\u001b[2K\u001b[25A\u001b[2K\u001b[25A\u001b[2K\u001b[25A\u001b[2K\u001b[25A\u001b[2K\u001b[25A\u001b[2K\u001b[25A\u001b[2K\u001b[25A\u001b[2K\u001b[25A\u001b[2K\u001b[25A\u001b[2K\u001b[25A\u001b[2K\u001b[25A\u001b[2K\u001b[25A\u001b[2K\u001b[25A\u001b[2K\u001b[25A\u001b[2K\u001b[25A\u001b[2K\u001b[25A\u001b[2K\u001b[25A\u001b[2K\u001b[25A\u001b[2K\u001b[25A\u001b[2K\u001b[25A\u001b[2K\u001b[25A\u001b[2K\u001b[25A\u001b[2K\u001b[25A\u001b[2K\u001b[25A\u001b[2K\u001b[25A\u001b[2K\u001b[25A\u001b[2K\u001b[25A\u001b[2K\u001b[25A\u001b[2K\u001b[25A\u001b[2K\u001b[25A\u001b[2K\u001b[25A\u001b[2K\u001b[25A\u001b[2K\u001b[25A\u001b[2K\u001b[25A\u001b[2K\u001b[25A\u001b[2K\u001b[25A\u001b[2K\u001b[25A\u001b[2K\u001b[25A\u001b[2K\u001b[25A\u001b[2K\u001b[25A\u001b[2K\u001b[25A\u001b[2K\u001b[25A\u001b[2K\u001b[25A\u001b[2K\u001b[25A\u001b[2K\u001b[25A\u001b[2K\u001b[25A\u001b[2K\u001b[25A\u001b[2K\u001b[25A\u001b[2K\u001b[25A\u001b[2K\u001b[25A\u001b[2K\u001b[25A\u001b[2K\u001b[25A\u001b[2K\u001b[25A\u001b[2K\u001b[25A\u001b[2K\u001b[25A\u001b[2K\u001b[25A\u001b[2K\u001b[25A\u001b[2K\u001b[25A\u001b[2K\u001b[25A\u001b[2K\u001b[25A\u001b[2K\u001b[25A\u001b[2K\u001b[25A\u001b[2K\u001b[25A\u001b[2K\u001b[25A\u001b[2K\u001b[25A\u001b[2K\u001b[25A\u001b[2K\u001b[25A\u001b[2K\u001b[25A\u001b[2K\u001b[25A\u001b[2K\u001b[25A\u001b[2K\u001b[25A\u001b[2K\u001b[25A\u001b[2K\u001b[25A\u001b[2K\u001b[25A\u001b[2K\u001b[25A\u001b[2K\u001b[25A\u001b[2K\u001b[25A\u001b[2K\u001b[25A\u001b[2K\u001b[25A\u001b[2K\u001b[25A\u001b[2K\u001b[25A\u001b[2K\u001b[25A\u001b[2K\u001b[25A\u001b[2K\u001b[25A\u001b[2K\u001b[25A\u001b[2K\u001b[25A\u001b[2K\u001b[25A\u001b[2K\u001b[25A\u001b[2K\u001b[25A\u001b[2K\u001b[25A\u001b[2K\u001b[25A\u001b[2K\u001b[25A\u001b[2K\u001b[25A\u001b[2K\u001b[25A\u001b[2K\u001b[25A\u001b[2K\u001b[25A\u001b[2K\u001b[25A\u001b[2K\u001b[25A\u001b[2K\u001b[25A\u001b[2K\u001b[25A\u001b[2K\u001b[25A\u001b[2K\u001b[25A\u001b[2K\u001b[25A\u001b[2K\u001b[25A\u001b[2K\u001b[25A\u001b[2K\u001b[25A\u001b[2K\u001b[25A\u001b[2K\u001b[25A\u001b[2K\u001b[25A\u001b[2K\u001b[25A\u001b[2K\u001b[25A\u001b[2K\u001b[25A\u001b[2K\u001b[25A\u001b[2K\u001b[25A\u001b[2K\u001b[25A\u001b[2K\u001b[25A\u001b[2K\u001b[25A\u001b[2K\u001b[25A\u001b[2K\u001b[25A\u001b[2K\u001b[25A\u001b[2K\u001b[25A\u001b[2K\u001b[25A\u001b[2K\u001b[25A\u001b[2K\u001b[25A\u001b[2K\u001b[25A\u001b[2K\u001b[25A\u001b[2K\u001b[25A\u001b[2K\u001b[25A\u001b[2K\u001b[25A\u001b[2K\u001b[25A\u001b[2K\u001b[25A\u001b[2K\u001b[25A\u001b[2K\u001b[25A\u001b[2K\u001b[25A\u001b[2K\u001b[25A\u001b[2K\u001b[25A\u001b[2K\u001b[25A\u001b[2K\u001b[25A\u001b[2K\u001b[25A\u001b[2K\u001b[25A\u001b[2K\u001b[25A\u001b[2K\u001b[25A\u001b[2K\u001b[25A\u001b[2K\u001b[25A\u001b[2K\u001b[25A\u001b[2K\u001b[25A\u001b[2K\u001b[25A\u001b[2K\u001b[25A\u001b[2K\u001b[25A\u001b[2K\u001b[25A\u001b[2K\u001b[25A\u001b[2K\u001b[25A\u001b[2K\u001b[25A\u001b[2K\u001b[25A\u001b[2K\u001b[25A\u001b[2K\u001b[25A\u001b[2K\u001b[25A\u001b[2K\u001b[25A\u001b[2K\u001b[25A\u001b[2K\u001b[25A\u001b[2K\u001b[25A\u001b[2K\u001b[25A\u001b[2K\u001b[25A\u001b[2K\u001b[25A\u001b[2K\u001b[25A\u001b[2K\u001b[25A\u001b[2K\u001b[25A\u001b[2K\u001b[25A\u001b[2K\u001b[25A\u001b[2K\u001b[25A\u001b[2K\u001b[25A\u001b[2K\u001b[25A\u001b[2K\u001b[25A\u001b[2K\u001b[25A\u001b[2K\u001b[25A\u001b[2K\u001b[25A\u001b[2K\u001b[25A\u001b[2K\u001b[25A\u001b[2K\u001b[25A\u001b[2K\u001b[25A\u001b[2K\u001b[25A\u001b[2K\u001b[25A\u001b[2K\u001b[25A\u001b[2K\u001b[25A\u001b[2K\u001b[25A\u001b[2K\u001b[25A\u001b[2K\u001b[25A\u001b[2K\u001b[25A\u001b[2K\u001b[25A\u001b[2K\u001b[25A\u001b[2K\u001b[25A\u001b[2K\u001b[25A\u001b[2K\u001b[25A\u001b[2K\u001b[25A\u001b[2K\u001b[25A\u001b[2K\u001b[25A\u001b[2K\u001b[25A\u001b[2K\u001b[25A\u001b[2K\u001b[25A\u001b[2K\u001b[25A\u001b[2K\u001b[25A\u001b[2K\u001b[25A\u001b[2K\u001b[25A\u001b[2K\u001b[25A\u001b[2K\u001b[25A\u001b[2K\u001b[25A\u001b[2K\u001b[25A\u001b[2K\u001b[25A\u001b[2K\u001b[25A\u001b[2K\u001b[25A\u001b[2K\u001b[25A\u001b[2K\u001b[25A\u001b[2K\u001b[25A\u001b[2K\u001b[25A\u001b[2K\u001b[25A\u001b[2K\u001b[25A\u001b[2K\u001b[25A\u001b[2K\u001b[25A\u001b[2K\u001b[25A\u001b[2K\u001b[25A\u001b[2K\u001b[25A\u001b[2K\u001b[25A\u001b[2K\u001b[25A\u001b[2K\u001b[25A\u001b[2K\u001b[25A\u001b[2K\u001b[25A\u001b[2K\u001b[25A\u001b[2K\u001b[25A\u001b[2K\u001b[25A\u001b[2K\u001b[25A\u001b[2K\u001b[25A\u001b[2K\u001b[25A\u001b[2K\u001b[25A\u001b[2K\u001b[25A\u001b[2K\u001b[25A\u001b[2K\u001b[25A\u001b[2K\u001b[25A\u001b[2K\u001b[25A\u001b[2K\u001b[25A\u001b[2K\u001b[25A\u001b[2K\u001b[25A\u001b[2K\u001b[25A\u001b[2K\u001b[25A\u001b[2K\u001b[25A\u001b[2K\u001b[25A\u001b[2K\u001b[25A\u001b[2K\u001b[25A\u001b[2K\u001b[25A\u001b[2K\u001b[25A\u001b[2K\u001b[25A\u001b[2K\u001b[25A\u001b[2K\u001b[25A\u001b[2K\u001b[25A\u001b[2K\u001b[25A\u001b[2K\u001b[25A\u001b[2K\u001b[25A\u001b[2K\u001b[25A\u001b[2K\u001b[25A\u001b[2K\u001b[25A\u001b[2K\u001b[25A\u001b[2K\u001b[25A\u001b[2K\u001b[25A\u001b[2K\u001b[25A\u001b[2K\u001b[25A\u001b[2K\u001b[25A\u001b[2K\u001b[25A\u001b[2K\u001b[25A\u001b[2K\u001b[25A\u001b[2K\u001b[25A\u001b[2K\u001b[25A\u001b[2K\u001b[25A\u001b[2K\u001b[25A\u001b[2K\u001b[25A\u001b[2K\u001b[25A\u001b[2K\u001b[25A\u001b[2K\u001b[25A\u001b[2K\u001b[25A\u001b[2K\u001b[25A\u001b[2K\u001b[25A\u001b[2K\u001b[25A\u001b[2K\u001b[25A\u001b[2K\u001b[25A\u001b[2K\u001b[25A\u001b[2K\u001b[25A\u001b[2K\u001b[25A\u001b[2K\u001b[25A\u001b[2K\u001b[25A\u001b[2K\u001b[25A\u001b[2K\u001b[25A\u001b[2K\u001b[25A\u001b[2K\u001b[25A\u001b[2K\u001b[25A\u001b[2K\u001b[25A\u001b[2K\u001b[25A\u001b[2K\u001b[25A\u001b[2K\u001b[25A\u001b[2K\u001b[25A\u001b[2K\u001b[25A\u001b[2K\u001b[25A\u001b[2K\u001b[25A\u001b[2K\u001b[25A\u001b[2K\u001b[25A\u001b[2K\u001b[25A\u001b[2K\u001b[25A\u001b[2K\u001b[25A\u001b[2K\u001b[25A\u001b[2K\u001b[25A\u001b[2K\u001b[25A\u001b[2K\u001b[25A\u001b[2K\u001b[25A\u001b[2K\u001b[25A\u001b[2K\u001b[25A\u001b[2K\u001b[25A\u001b[2K\u001b[25A\u001b[2K\u001b[25A\u001b[2K\u001b[25A\u001b[2K\u001b[25A\u001b[2K\u001b[25A\u001b[2K\u001b[25A\u001b[2K\u001b[25A\u001b[2K\u001b[25A\u001b[2K\u001b[25A\u001b[2K\u001b[25A\u001b[2K\u001b[25A\u001b[2K\u001b[25A\u001b[2K\u001b[25A\u001b[2K\u001b[25A\u001b[2K\u001b[25A\u001b[2K\u001b[25A\u001b[2K\u001b[25A\u001b[2K\u001b[25A\u001b[2K\u001b[25A\u001b[2K\u001b[25A\u001b[2K\u001b[25A\u001b[2K\u001b[25A\u001b[2K\u001b[25A\u001b[2K\u001b[25A\u001b[2K\u001b[25A\u001b[2K\u001b[25A\u001b[2K\u001b[25A\u001b[2K\u001b[25A\u001b[2K\u001b[25A\u001b[2K\u001b[25A\u001b[2K\u001b[25A\u001b[2K\u001b[25A\u001b[2K\u001b[25A\u001b[2K\u001b[25A\u001b[2K\u001b[25A\u001b[2K\u001b[25A\u001b[2Kmondo: digest: sha256:0cd1e9562550d7ac5bd736504773dac22f5247e6ce8b9f9d11de185da588667f size: 6185\n"
     ]
    }
   ],
   "source": [
    "!docker push 533267394241.dkr.ecr.us-east-1.amazonaws.com/tensorflow-inference:mondo"
   ]
  },
  {
   "cell_type": "code",
   "execution_count": 23,
   "id": "cfef8770",
   "metadata": {},
   "outputs": [
    {
     "name": "stdout",
     "output_type": "stream",
     "text": [
      "WARNING! Your password will be stored unencrypted in /home/ec2-user/.docker/config.json.\n",
      "Configure a credential helper to remove this warning. See\n",
      "https://docs.docker.com/engine/reference/commandline/login/#credentials-store\n",
      "\n",
      "Login Succeeded\n"
     ]
    }
   ],
   "source": [
    "#Dominio dell'immagine base, quindi è uguale per tutti\n",
    "!aws ecr get-login-password --region us-east-1 | docker login --username AWS --password-stdin 533267394241.dkr.ecr.us-east-1.amazonaws.com"
   ]
  },
  {
   "cell_type": "code",
   "execution_count": null,
   "id": "2cf86124",
   "metadata": {},
   "outputs": [],
   "source": [
    "!docker push 648633553332.dkr.ecr.us-east-1.amazonaws.com/tensorflow-inference:mondo"
   ]
  },
  {
   "cell_type": "code",
   "execution_count": 47,
   "id": "a53a764f",
   "metadata": {},
   "outputs": [
    {
     "name": "stdout",
     "output_type": "stream",
     "text": [
      "card_model.tar.gz creato con successo!\n"
     ]
    }
   ],
   "source": [
    "import tarfile\n",
    "import os\n",
    "\n",
    "# Percorsi dei file da includere\n",
    "model_file = \"model/model.keras\"\n",
    "class_indices_file = \"model/class_indices.pkl\"\n",
    "inference_file = \"inference.py\"\n",
    "\n",
    "# Nome del file tar.gz di output\n",
    "output_tar_gz = \"card_model.tar.gz\"\n",
    "\n",
    "# Creazione dell'archivio tar.gz\n",
    "with tarfile.open(output_tar_gz, \"w:gz\") as tar:\n",
    "    # Aggiungi il file del modello\n",
    "    tar.add(model_file, arcname=os.path.basename(model_file))\n",
    "    # Aggiungi il file class_indices.pkl\n",
    "    tar.add(class_indices_file, arcname=os.path.basename(class_indices_file))\n",
    "    # Aggiungi il file inference.py\n",
    "    tar.add(inference_file, arcname=os.path.basename(inference_file))\n",
    "\n",
    "print(f\"{output_tar_gz} creato con successo!\")"
   ]
  },
  {
   "cell_type": "code",
   "execution_count": null,
   "id": "9e78e25c",
   "metadata": {},
   "outputs": [],
   "source": [
    "from sagemaker import get_execution_role\n",
    "import boto3\n",
    "import datetime\n",
    "from time import gmtime, strftime\n",
    "\n",
    "# https://docs.aws.amazon.com/sagemaker/latest/dg/realtime-endpoints-deployment.html\n",
    "\n",
    "my_session = boto3.session.Session()\n",
    "aws_region = my_session.region_name\n",
    "\n",
    "sagemaker_client = boto3.client('sagemaker', region_name=aws_region)\n",
    "\n",
    "sagemaker_role = get_execution_role()\n",
    "\n",
    "model_name = 'il-vero-top-delle-carte'\n",
    "\n",
    "# Create model\n",
    "create_model_response = sagemaker_client.create_model(\n",
    "    ModelName = model_name,\n",
    "    ExecutionRoleArn = sagemaker_role,\n",
    "    PrimaryContainer = {\n",
    "        'Image': '533267394241.dkr.ecr.us-east-1.amazonaws.com/tensorflow-inference:mondo',\n",
    "        'ModelDataUrl': 's3://itsar123-bianchini/data/output/card_model.tar.gz',\n",
    "    })"
   ]
  },
  {
   "cell_type": "code",
   "execution_count": 51,
   "id": "e0640275",
   "metadata": {},
   "outputs": [
    {
     "name": "stdout",
     "output_type": "stream",
     "text": [
      "Created EndpointConfig: arn:aws:sagemaker:us-east-1:533267394241:endpoint-config/la-mia-prima-api-inferenza-config\n"
     ]
    }
   ],
   "source": [
    "# Create an endpoint config name. Here we create one based on the date  \n",
    "# so it we can search endpoints based on creation time.\n",
    "endpoint_config_name = 'la-mia-prima-api-inferenza-config'\n",
    "\n",
    "instance_type = 'ml.p2.xlarge'\n",
    "\n",
    "endpoint_config_response = sagemaker_client.create_endpoint_config(\n",
    "    EndpointConfigName=endpoint_config_name,\n",
    "    # You will specify this name in a CreateEndpoint request.\n",
    "    # List of ProductionVariant objects, one for each model that you want to host at this endpoint.\n",
    "    ProductionVariants=[\n",
    "        {\n",
    "            \"VariantName\": \"variant1\", # The name of the production variant.\n",
    "            \"ModelName\": model_name,\n",
    "            \"InstanceType\": instance_type, # Specify the compute instance type.\n",
    "            \"InitialInstanceCount\": 1 # Number of instances to launch initially.\n",
    "        }\n",
    "    ]\n",
    ")\n",
    "\n",
    "print(f\"Created EndpointConfig: {endpoint_config_response['EndpointConfigArn']}\")\n",
    "\n",
    "# The name of the endpoint. The name must be unique within an AWS Region in your AWS account.\n",
    "endpoint_name = 'la-mia-prima-api-inferenza'\n",
    "\n",
    "create_endpoint_response = sagemaker_client.create_endpoint(\n",
    "                                            EndpointName=endpoint_name, \n",
    "                                            EndpointConfigName=endpoint_config_name)"
   ]
  },
  {
   "cell_type": "code",
   "execution_count": 73,
   "id": "780a5d2e",
   "metadata": {},
   "outputs": [
    {
     "name": "stdout",
     "output_type": "stream",
     "text": [
      "{\n",
      "    \"EndpointName\": \"la-mia-prima-api-inferenza\",\n",
      "    \"EndpointArn\": \"arn:aws:sagemaker:us-east-1:533267394241:endpoint/la-mia-prima-api-inferenza\",\n",
      "    \"EndpointConfigName\": \"la-mia-prima-api-inferenza-config\",\n",
      "    \"EndpointStatus\": \"Failed\",\n",
      "    \"FailureReason\": \"The primary container for production variant variant1 did not pass the ping health check. Please check CloudWatch logs for this endpoint.\",\n",
      "    \"CreationTime\": 1732204401.398,\n",
      "    \"LastModifiedTime\": 1732205983.869\n",
      "}\n"
     ]
    }
   ],
   "source": [
    "!aws sagemaker describe-endpoint --endpoint-name la-mia-prima-api-inferenza --region us-east-1"
   ]
  },
  {
   "cell_type": "code",
   "execution_count": 57,
   "id": "c6269b82",
   "metadata": {},
   "outputs": [
    {
     "name": "stdout",
     "output_type": "stream",
     "text": [
      "Note: AWS CLI version 2, the latest major version of the AWS CLI, is now stable and recommended for general use. For more information, see the AWS CLI version 2 installation instructions at: https://docs.aws.amazon.com/cli/latest/userguide/install-cliv2.html\n",
      "\n",
      "usage: aws [options] <command> <subcommand> [<subcommand> ...] [parameters]\n",
      "To see help text, you can run:\n",
      "\n",
      "  aws help\n",
      "  aws <command> help\n",
      "  aws <command> <subcommand> help\n",
      "aws: error: the following arguments are required: --body, outfile\n"
     ]
    }
   ],
   "source": [
    "!aws sagemaker-runtime invoke-endpoint --endpoint-name la-mia-prima-api-inferenza --region us-east-1"
   ]
  },
  {
   "cell_type": "code",
   "execution_count": 74,
   "id": "25ae488d",
   "metadata": {},
   "outputs": [
    {
     "name": "stdout",
     "output_type": "stream",
     "text": [
      "######## La model dir è: /opt/ml/model\n"
     ]
    }
   ],
   "source": [
    "# Carica il modello e la mappatura delle classi\n",
    "model_dir = os.environ.get('SM_MODEL_DIR', '/opt/ml/model')\n",
    "print(f\"######## La model dir è: {model_dir}\")"
   ]
  },
  {
   "cell_type": "code",
   "execution_count": null,
   "id": "8a6599a7",
   "metadata": {},
   "outputs": [],
   "source": []
  }
 ],
 "metadata": {
  "kernelspec": {
   "display_name": "conda_python3",
   "language": "python",
   "name": "conda_python3"
  },
  "language_info": {
   "codemirror_mode": {
    "name": "ipython",
    "version": 3
   },
   "file_extension": ".py",
   "mimetype": "text/x-python",
   "name": "python",
   "nbconvert_exporter": "python",
   "pygments_lexer": "ipython3",
   "version": "3.10.15"
  }
 },
 "nbformat": 4,
 "nbformat_minor": 5
}
