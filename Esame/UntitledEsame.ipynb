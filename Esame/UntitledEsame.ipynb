{
 "cells": [
  {
   "cell_type": "code",
   "execution_count": 3,
   "id": "d76e89ab",
   "metadata": {},
   "outputs": [
    {
     "name": "stderr",
     "output_type": "stream",
     "text": [
      "/home/ec2-user/anaconda3/envs/python3/lib/python3.10/site-packages/pydantic/_internal/_fields.py:172: UserWarning: Field name \"json\" in \"MonitoringDatasetFormat\" shadows an attribute in parent \"Base\"\n",
      "  warnings.warn(\n"
     ]
    },
    {
     "data": {
      "text/html": [
       "<pre style=\"white-space:pre;overflow-x:auto;line-height:normal;font-family:Menlo,'DejaVu Sans Mono',consolas,'Courier New',monospace\"><span style=\"color: #7fbfbf; text-decoration-color: #7fbfbf\">[11/22/24 12:35:13] </span><span style=\"color: #0069ff; text-decoration-color: #0069ff; font-weight: bold\">INFO    </span> Found credentials from IAM Role:                                   <a href=\"file:///home/ec2-user/anaconda3/envs/python3/lib/python3.10/site-packages/botocore/credentials.py\" target=\"_blank\"><span style=\"color: #7f7f7f; text-decoration-color: #7f7f7f\">credentials.py</span></a><span style=\"color: #7f7f7f; text-decoration-color: #7f7f7f\">:</span><a href=\"file:///home/ec2-user/anaconda3/envs/python3/lib/python3.10/site-packages/botocore/credentials.py#1075\" target=\"_blank\"><span style=\"color: #7f7f7f; text-decoration-color: #7f7f7f\">1075</span></a>\n",
       "<span style=\"color: #7fbfbf; text-decoration-color: #7fbfbf\">                    </span>         BaseNotebookInstanceEc2InstanceRole                                <span style=\"color: #7f7f7f; text-decoration-color: #7f7f7f\">                   </span>\n",
       "</pre>\n"
      ],
      "text/plain": [
       "\u001b[2;36m[11/22/24 12:35:13]\u001b[0m\u001b[2;36m \u001b[0m\u001b[1;38;2;0;105;255mINFO    \u001b[0m Found credentials from IAM Role:                                   \u001b]8;id=989185;file:///home/ec2-user/anaconda3/envs/python3/lib/python3.10/site-packages/botocore/credentials.py\u001b\\\u001b[2mcredentials.py\u001b[0m\u001b]8;;\u001b\\\u001b[2m:\u001b[0m\u001b]8;id=347532;file:///home/ec2-user/anaconda3/envs/python3/lib/python3.10/site-packages/botocore/credentials.py#1075\u001b\\\u001b[2m1075\u001b[0m\u001b]8;;\u001b\\\n",
       "\u001b[2;36m                    \u001b[0m         BaseNotebookInstanceEc2InstanceRole                                \u001b[2m                   \u001b[0m\n"
      ]
     },
     "metadata": {},
     "output_type": "display_data"
    },
    {
     "name": "stdout",
     "output_type": "stream",
     "text": [
      "sagemaker.config INFO - Not applying SDK defaults from location: /etc/xdg/sagemaker/config.yaml\n",
      "sagemaker.config INFO - Not applying SDK defaults from location: /home/ec2-user/.config/sagemaker/config.yaml\n"
     ]
    },
    {
     "data": {
      "text/plain": [
       "'763104351884.dkr.ecr.us-east-1.amazonaws.com/tensorflow-inference:2.12.1-cpu'"
      ]
     },
     "execution_count": 3,
     "metadata": {},
     "output_type": "execute_result"
    }
   ],
   "source": [
    "#NECESSARIO\n",
    "import scipy.sparse\n",
    "from sagemaker import image_uris\n",
    "image_uris.retrieve(framework='tensorflow',region='us-east-1',version='2.12.1',image_scope='inference',instance_type='ml.c5.4xlarge')"
   ]
  },
  {
   "cell_type": "code",
   "execution_count": null,
   "id": "068ac822",
   "metadata": {},
   "outputs": [],
   "source": [
    "!docker pull 763104351884.dkr.ecr.us-east-1.amazonaws.com/tensorflow-inference:2.12.1-cpu-py310"
   ]
  },
  {
   "cell_type": "code",
   "execution_count": null,
   "id": "f363a88c",
   "metadata": {},
   "outputs": [],
   "source": [
    "!tar -xzf model.tar.gz"
   ]
  },
  {
   "cell_type": "code",
   "execution_count": 9,
   "id": "4a47237c",
   "metadata": {},
   "outputs": [
    {
     "name": "stdout",
     "output_type": "stream",
     "text": [
      "Collecting tensorflow\n",
      "  Downloading tensorflow-2.18.0-cp310-cp310-manylinux_2_17_x86_64.manylinux2014_x86_64.whl.metadata (4.1 kB)\n",
      "Collecting keras\n",
      "  Downloading keras-3.6.0-py3-none-any.whl.metadata (5.8 kB)\n",
      "Collecting absl-py>=1.0.0 (from tensorflow)\n",
      "  Downloading absl_py-2.1.0-py3-none-any.whl.metadata (2.3 kB)\n",
      "Collecting astunparse>=1.6.0 (from tensorflow)\n",
      "  Downloading astunparse-1.6.3-py2.py3-none-any.whl.metadata (4.4 kB)\n",
      "Collecting flatbuffers>=24.3.25 (from tensorflow)\n",
      "  Downloading flatbuffers-24.3.25-py2.py3-none-any.whl.metadata (850 bytes)\n",
      "Collecting gast!=0.5.0,!=0.5.1,!=0.5.2,>=0.2.1 (from tensorflow)\n",
      "  Downloading gast-0.6.0-py3-none-any.whl.metadata (1.3 kB)\n",
      "Requirement already satisfied: google-pasta>=0.1.1 in /home/ec2-user/anaconda3/envs/python3/lib/python3.10/site-packages (from tensorflow) (0.2.0)\n",
      "Collecting libclang>=13.0.0 (from tensorflow)\n",
      "  Downloading libclang-18.1.1-py2.py3-none-manylinux2010_x86_64.whl.metadata (5.2 kB)\n",
      "Collecting opt-einsum>=2.3.2 (from tensorflow)\n",
      "  Downloading opt_einsum-3.4.0-py3-none-any.whl.metadata (6.3 kB)\n",
      "Requirement already satisfied: packaging in /home/ec2-user/anaconda3/envs/python3/lib/python3.10/site-packages (from tensorflow) (21.3)\n",
      "Requirement already satisfied: protobuf!=4.21.0,!=4.21.1,!=4.21.2,!=4.21.3,!=4.21.4,!=4.21.5,<6.0.0dev,>=3.20.3 in /home/ec2-user/anaconda3/envs/python3/lib/python3.10/site-packages (from tensorflow) (4.25.5)\n",
      "Requirement already satisfied: requests<3,>=2.21.0 in /home/ec2-user/anaconda3/envs/python3/lib/python3.10/site-packages (from tensorflow) (2.32.3)\n",
      "Requirement already satisfied: setuptools in /home/ec2-user/anaconda3/envs/python3/lib/python3.10/site-packages (from tensorflow) (75.1.0)\n",
      "Requirement already satisfied: six>=1.12.0 in /home/ec2-user/anaconda3/envs/python3/lib/python3.10/site-packages (from tensorflow) (1.16.0)\n",
      "Collecting termcolor>=1.1.0 (from tensorflow)\n",
      "  Downloading termcolor-2.5.0-py3-none-any.whl.metadata (6.1 kB)\n",
      "Requirement already satisfied: typing-extensions>=3.6.6 in /home/ec2-user/anaconda3/envs/python3/lib/python3.10/site-packages (from tensorflow) (4.12.2)\n",
      "Requirement already satisfied: wrapt>=1.11.0 in /home/ec2-user/anaconda3/envs/python3/lib/python3.10/site-packages (from tensorflow) (1.16.0)\n",
      "Collecting grpcio<2.0,>=1.24.3 (from tensorflow)\n",
      "  Downloading grpcio-1.68.0-cp310-cp310-manylinux_2_17_x86_64.manylinux2014_x86_64.whl.metadata (3.9 kB)\n",
      "Collecting tensorboard<2.19,>=2.18 (from tensorflow)\n",
      "  Downloading tensorboard-2.18.0-py3-none-any.whl.metadata (1.6 kB)\n",
      "Requirement already satisfied: numpy<2.1.0,>=1.26.0 in /home/ec2-user/anaconda3/envs/python3/lib/python3.10/site-packages (from tensorflow) (1.26.4)\n",
      "Requirement already satisfied: h5py>=3.11.0 in /home/ec2-user/anaconda3/envs/python3/lib/python3.10/site-packages (from tensorflow) (3.12.1)\n",
      "Collecting ml-dtypes<0.5.0,>=0.4.0 (from tensorflow)\n",
      "  Downloading ml_dtypes-0.4.1-cp310-cp310-manylinux_2_17_x86_64.manylinux2014_x86_64.whl.metadata (20 kB)\n",
      "Collecting tensorflow-io-gcs-filesystem>=0.23.1 (from tensorflow)\n",
      "  Downloading tensorflow_io_gcs_filesystem-0.37.1-cp310-cp310-manylinux_2_17_x86_64.manylinux2014_x86_64.whl.metadata (14 kB)\n",
      "Requirement already satisfied: rich in /home/ec2-user/anaconda3/envs/python3/lib/python3.10/site-packages (from keras) (13.9.3)\n",
      "Collecting namex (from keras)\n",
      "  Downloading namex-0.0.8-py3-none-any.whl.metadata (246 bytes)\n",
      "Collecting optree (from keras)\n",
      "  Downloading optree-0.13.1-cp310-cp310-manylinux_2_17_x86_64.manylinux2014_x86_64.whl.metadata (47 kB)\n",
      "Requirement already satisfied: wheel<1.0,>=0.23.0 in /home/ec2-user/anaconda3/envs/python3/lib/python3.10/site-packages (from astunparse>=1.6.0->tensorflow) (0.44.0)\n",
      "Requirement already satisfied: charset-normalizer<4,>=2 in /home/ec2-user/anaconda3/envs/python3/lib/python3.10/site-packages (from requests<3,>=2.21.0->tensorflow) (3.4.0)\n",
      "Requirement already satisfied: idna<4,>=2.5 in /home/ec2-user/anaconda3/envs/python3/lib/python3.10/site-packages (from requests<3,>=2.21.0->tensorflow) (3.10)\n",
      "Requirement already satisfied: urllib3<3,>=1.21.1 in /home/ec2-user/anaconda3/envs/python3/lib/python3.10/site-packages (from requests<3,>=2.21.0->tensorflow) (2.2.3)\n",
      "Requirement already satisfied: certifi>=2017.4.17 in /home/ec2-user/anaconda3/envs/python3/lib/python3.10/site-packages (from requests<3,>=2.21.0->tensorflow) (2024.8.30)\n",
      "Requirement already satisfied: markdown>=2.6.8 in /home/ec2-user/anaconda3/envs/python3/lib/python3.10/site-packages (from tensorboard<2.19,>=2.18->tensorflow) (3.7)\n",
      "Collecting tensorboard-data-server<0.8.0,>=0.7.0 (from tensorboard<2.19,>=2.18->tensorflow)\n",
      "  Downloading tensorboard_data_server-0.7.2-py3-none-any.whl.metadata (1.1 kB)\n",
      "Requirement already satisfied: werkzeug>=1.0.1 in /home/ec2-user/anaconda3/envs/python3/lib/python3.10/site-packages (from tensorboard<2.19,>=2.18->tensorflow) (3.0.4)\n",
      "Requirement already satisfied: pyparsing!=3.0.5,>=2.0.2 in /home/ec2-user/anaconda3/envs/python3/lib/python3.10/site-packages (from packaging->tensorflow) (3.2.0)\n",
      "Requirement already satisfied: markdown-it-py>=2.2.0 in /home/ec2-user/anaconda3/envs/python3/lib/python3.10/site-packages (from rich->keras) (3.0.0)\n",
      "Requirement already satisfied: pygments<3.0.0,>=2.13.0 in /home/ec2-user/anaconda3/envs/python3/lib/python3.10/site-packages (from rich->keras) (2.18.0)\n",
      "Requirement already satisfied: mdurl~=0.1 in /home/ec2-user/anaconda3/envs/python3/lib/python3.10/site-packages (from markdown-it-py>=2.2.0->rich->keras) (0.1.2)\n",
      "Requirement already satisfied: MarkupSafe>=2.1.1 in /home/ec2-user/anaconda3/envs/python3/lib/python3.10/site-packages (from werkzeug>=1.0.1->tensorboard<2.19,>=2.18->tensorflow) (3.0.2)\n",
      "Downloading tensorflow-2.18.0-cp310-cp310-manylinux_2_17_x86_64.manylinux2014_x86_64.whl (615.3 MB)\n",
      "\u001b[2K   \u001b[90m━━━━━━━━━━━━━━━━━━━━━━━━━━━━━━━━━━━━━━━━\u001b[0m \u001b[32m615.3/615.3 MB\u001b[0m \u001b[31m26.8 MB/s\u001b[0m eta \u001b[36m0:00:00\u001b[0m00:01\u001b[0m00:01\u001b[0m\n",
      "\u001b[?25hDownloading keras-3.6.0-py3-none-any.whl (1.2 MB)\n",
      "\u001b[2K   \u001b[90m━━━━━━━━━━━━━━━━━━━━━━━━━━━━━━━━━━━━━━━━\u001b[0m \u001b[32m1.2/1.2 MB\u001b[0m \u001b[31m5.9 MB/s\u001b[0m eta \u001b[36m0:00:00\u001b[0m\n",
      "\u001b[?25hDownloading absl_py-2.1.0-py3-none-any.whl (133 kB)\n",
      "Downloading astunparse-1.6.3-py2.py3-none-any.whl (12 kB)\n",
      "Downloading flatbuffers-24.3.25-py2.py3-none-any.whl (26 kB)\n",
      "Downloading gast-0.6.0-py3-none-any.whl (21 kB)\n",
      "Downloading grpcio-1.68.0-cp310-cp310-manylinux_2_17_x86_64.manylinux2014_x86_64.whl (5.9 MB)\n",
      "\u001b[2K   \u001b[90m━━━━━━━━━━━━━━━━━━━━━━━━━━━━━━━━━━━━━━━━\u001b[0m \u001b[32m5.9/5.9 MB\u001b[0m \u001b[31m18.3 MB/s\u001b[0m eta \u001b[36m0:00:00\u001b[0mta \u001b[36m0:00:01\u001b[0m\n",
      "\u001b[?25hDownloading libclang-18.1.1-py2.py3-none-manylinux2010_x86_64.whl (24.5 MB)\n",
      "\u001b[2K   \u001b[90m━━━━━━━━━━━━━━━━━━━━━━━━━━━━━━━━━━━━━━━━\u001b[0m \u001b[32m24.5/24.5 MB\u001b[0m \u001b[31m27.5 MB/s\u001b[0m eta \u001b[36m0:00:00\u001b[0m:00:01\u001b[0m00:01\u001b[0m\n",
      "\u001b[?25hDownloading ml_dtypes-0.4.1-cp310-cp310-manylinux_2_17_x86_64.manylinux2014_x86_64.whl (2.2 MB)\n",
      "\u001b[2K   \u001b[90m━━━━━━━━━━━━━━━━━━━━━━━━━━━━━━━━━━━━━━━━\u001b[0m \u001b[32m2.2/2.2 MB\u001b[0m \u001b[31m10.5 MB/s\u001b[0m eta \u001b[36m0:00:00\u001b[0m\n",
      "\u001b[?25hDownloading opt_einsum-3.4.0-py3-none-any.whl (71 kB)\n",
      "Downloading tensorboard-2.18.0-py3-none-any.whl (5.5 MB)\n",
      "\u001b[2K   \u001b[90m━━━━━━━━━━━━━━━━━━━━━━━━━━━━━━━━━━━━━━━━\u001b[0m \u001b[32m5.5/5.5 MB\u001b[0m \u001b[31m19.0 MB/s\u001b[0m eta \u001b[36m0:00:00\u001b[0mta \u001b[36m0:00:01\u001b[0m\n",
      "\u001b[?25hDownloading tensorflow_io_gcs_filesystem-0.37.1-cp310-cp310-manylinux_2_17_x86_64.manylinux2014_x86_64.whl (5.1 MB)\n",
      "\u001b[2K   \u001b[90m━━━━━━━━━━━━━━━━━━━━━━━━━━━━━━━━━━━━━━━━\u001b[0m \u001b[32m5.1/5.1 MB\u001b[0m \u001b[31m17.2 MB/s\u001b[0m eta \u001b[36m0:00:00\u001b[0m:00:01\u001b[0m\n",
      "\u001b[?25hDownloading termcolor-2.5.0-py3-none-any.whl (7.8 kB)\n",
      "Downloading namex-0.0.8-py3-none-any.whl (5.8 kB)\n",
      "Downloading optree-0.13.1-cp310-cp310-manylinux_2_17_x86_64.manylinux2014_x86_64.whl (381 kB)\n",
      "Downloading tensorboard_data_server-0.7.2-py3-none-any.whl (2.4 kB)\n",
      "Installing collected packages: namex, libclang, flatbuffers, termcolor, tensorflow-io-gcs-filesystem, tensorboard-data-server, optree, opt-einsum, ml-dtypes, grpcio, gast, astunparse, absl-py, tensorboard, keras, tensorflow\n",
      "Successfully installed absl-py-2.1.0 astunparse-1.6.3 flatbuffers-24.3.25 gast-0.6.0 grpcio-1.68.0 keras-3.6.0 libclang-18.1.1 ml-dtypes-0.4.1 namex-0.0.8 opt-einsum-3.4.0 optree-0.13.1 tensorboard-2.18.0 tensorboard-data-server-0.7.2 tensorflow-2.18.0 tensorflow-io-gcs-filesystem-0.37.1 termcolor-2.5.0\n"
     ]
    }
   ],
   "source": [
    "#NECESSARIO\n",
    "!pip install tensorflow keras"
   ]
  },
  {
   "cell_type": "code",
   "execution_count": null,
   "id": "55d5168d",
   "metadata": {},
   "outputs": [],
   "source": [
    "#NECESSARIO\n",
    "!pip freeze"
   ]
  },
  {
   "cell_type": "code",
   "execution_count": null,
   "id": "edafb88b",
   "metadata": {},
   "outputs": [],
   "source": [
    "# OPZIONALE\n",
    "\n",
    "import os\n",
    "#os.chdir('Esame')  # Sposta la working directory nella cartella \"Esame\"\n",
    "print(\"Nuova directory corrente:\", os.getcwd())\n",
    "\n",
    "\n",
    "import os\n",
    "print(\"Files in current directory:\", os.listdir())\n",
    "print(\"Current working directory:\", os.getcwd())\n",
    "# Installa le librerie specificate in requirements_inference.txt\n",
    "!pip install -r requirements_inference.txt"
   ]
  },
  {
   "cell_type": "code",
   "execution_count": 48,
   "id": "28eeb495",
   "metadata": {},
   "outputs": [
    {
     "name": "stdout",
     "output_type": "stream",
     "text": [
      "File data/input/train.zip scaricato da S3 e salvato come train.zip\n",
      "File zip estratto nella directory: data/input\n",
      "Cartella estratta caricata su S3.\n"
     ]
    }
   ],
   "source": [
    "#NECESSARIO SE NON SI HA IL MODELLO E IL FILE .PKL, ALTRIMENTI OPZIONALE\n",
    "import os\n",
    "import boto3\n",
    "import zipfile\n",
    "\n",
    "# Configura i dettagli di S3\n",
    "bucket_name = 'itsar123-bianchini'  # Nome del tuo bucket S3\n",
    "s3_zip_path = 'data/input/train.zip'  # Percorso del file .zip su S3\n",
    "local_zip_path = 'train.zip'  # Percorso locale dove salvare il file .zip\n",
    "local_path = 'data/input'  # Directory locale per estrarre i dati\n",
    "s3_prefix = 'data/input'  # Percorso su S3 dove caricare la cartella estratta (opzionale)\n",
    "\n",
    "# Step 1: Scaricare il file zip da S3\n",
    "s3 = boto3.client('s3')\n",
    "s3.download_file(bucket_name, s3_zip_path, local_zip_path)\n",
    "print(f\"File {s3_zip_path} scaricato da S3 e salvato come {local_zip_path}\")\n",
    "\n",
    "# Step 2: Decomprimere il file zip\n",
    "os.makedirs(local_path, exist_ok=True)  # Crea la directory se non esiste\n",
    "with zipfile.ZipFile(local_zip_path, 'r') as zip_ref:\n",
    "    zip_ref.extractall(local_path)\n",
    "print(f\"File zip estratto nella directory: {local_path}\")\n",
    "\n",
    "#Step 3: (Opzionale) Caricare la cartella estratta su S3\n",
    "for root, dirs, files in os.walk(local_path):\n",
    "    for file in files:\n",
    "        local_file_path = os.path.join(root, file)\n",
    "        s3_file_path = os.path.relpath(local_file_path, local_path)\n",
    "        s3.upload_file(local_file_path, bucket_name, os.path.join(s3_prefix, s3_file_path))\n",
    "print(\"Cartella estratta caricata su S3.\")\n"
   ]
  },
  {
   "cell_type": "code",
   "execution_count": null,
   "id": "d93a25b2",
   "metadata": {},
   "outputs": [],
   "source": [
    "#NECESSARIO SE NON SI HA IL MODELLO E IL FILE .PKL, ALTRIMENTI OPZIONALE\n",
    "\n",
    "# Configurazione della sessione AWS\n",
    "my_session = boto3.session.Session()\n",
    "aws_region = my_session.region_name\n",
    "\n",
    "# Client SageMaker\n",
    "sagemaker_client = boto3.client('sagemaker', region_name=aws_region)\n",
    "sagemaker_role = get_execution_role()\n",
    "\n",
    "# Definizione di alcuni parametri\n",
    "bucket_name = 'itsar123-bianchini'  # Sostituisci con il nome del tuo bucket S3\n",
    "s3_prefix = 'train'  # Sostituisci con il percorso della cartella 'train' su S\n",
    "data_dir = 'data'\n"
   ]
  },
  {
   "cell_type": "code",
   "execution_count": null,
   "id": "0301aa10",
   "metadata": {},
   "outputs": [],
   "source": [
    "#NECESSARIO SE NON SI HA IL MODELLO E IL FILE .PKL, ALTRIMENTI OPZIONALE\n",
    "\n",
    "# Imposta i generatori di dati\n",
    "train_dir = os.path.join(data_dir, s3_prefix)\n",
    "batch_size = 32\n",
    "image_size = (224, 224)\n",
    "\n",
    "train_datagen = ImageDataGenerator(rescale=1./255, validation_split=0.2)\n",
    "\n",
    "train_generator = train_datagen.flow_from_directory(\n",
    "    train_dir,\n",
    "    target_size=image_size,\n",
    "    batch_size=batch_size,\n",
    "    class_mode='categorical',\n",
    "    subset='training'\n",
    ")\n",
    "\n",
    "validation_generator = train_datagen.flow_from_directory(\n",
    "    train_dir,\n",
    "    target_size=image_size,\n",
    "    batch_size=batch_size,\n",
    "    class_mode='categorical',\n",
    "    subset='validation'\n",
    ")\n",
    "\n",
    "# Salva la mappatura delle classi\n",
    "class_indices = train_generator.class_indices\n",
    "with open('class_indices.pkl', 'wb') as f:\n",
    "    pickle.dump(class_indices, f)\n"
   ]
  },
  {
   "cell_type": "code",
   "execution_count": null,
   "id": "ffc2948f",
   "metadata": {},
   "outputs": [],
   "source": [
    "#NECESSARIO SE NON SI HA IL MODELLO E IL FILE .PKL, ALTRIMENTI OPZIONALE\n",
    "\n",
    "# Costruisci il modello (puoi personalizzarlo o utilizzare un modello pre-addestrato)\n",
    "model = models.Sequential()\n",
    "model.add(layers.Conv2D(32, (3, 3), activation='relu', input_shape=(image_size[0], image_size[1], 3)))\n",
    "model.add(layers.MaxPooling2D((2, 2)))\n",
    "model.add(layers.Conv2D(64, (3, 3), activation='relu'))\n",
    "model.add(layers.MaxPooling2D((2, 2)))\n",
    "model.add(layers.Conv2D(128, (3, 3), activation='relu'))\n",
    "model.add(layers.MaxPooling2D((2, 2)))\n",
    "model.add(layers.Flatten())\n",
    "model.add(layers.Dropout(0.5))\n",
    "model.add(layers.Dense(512, activation='relu'))\n",
    "model.add(layers.Dropout(0.5))\n",
    "model.add(layers.Dense(train_generator.num_classes, activation='softmax'))\n",
    "\n",
    "# Compila il modello\n",
    "model.compile(optimizer='adam',\n",
    "              loss='categorical_crossentropy',\n",
    "              metrics=['accuracy'])\n",
    "\n",
    "# Allena il modello\n",
    "epochs = 4  # Puoi aumentare il numero di epoche se necessario\n",
    "model.fit(\n",
    "    train_generator,\n",
    "    epochs=epochs,\n",
    "    validation_data=validation_generator\n",
    ")\n",
    "\n",
    "# Salva il modello\n",
    "model.save('card_model.h5')\n"
   ]
  },
  {
   "cell_type": "code",
   "execution_count": null,
   "id": "47197c21",
   "metadata": {},
   "outputs": [],
   "source": [
    "#NECESSARIO SE NON SI HA IL MODELLO E IL FILE .PKL, ALTRIMENTI OPZIONALE\n",
    "\n",
    "# Passo 2: Salva il modello nel formato .keras\n",
    "model.save('model.keras', save_format='keras')\n",
    "print(\"Il modello è stato salvato come .keras.\")"
   ]
  },
  {
   "cell_type": "code",
   "execution_count": null,
   "id": "7ae52c7e",
   "metadata": {},
   "outputs": [],
   "source": [
    "# - - - - - - - - - - - - - - - - - - - - - - - - - - - - - - - - - - - - "
   ]
  },
  {
   "cell_type": "code",
   "execution_count": 6,
   "id": "20904d02",
   "metadata": {},
   "outputs": [
    {
     "data": {
      "text/html": [
       "<pre style=\"white-space:pre;overflow-x:auto;line-height:normal;font-family:Menlo,'DejaVu Sans Mono',consolas,'Courier New',monospace\"><span style=\"color: #ff0000; text-decoration-color: #ff0000\">╭─────────────────────────────── </span><span style=\"color: #ff0000; text-decoration-color: #ff0000; font-weight: bold\">Traceback </span><span style=\"color: #ff7f7f; text-decoration-color: #ff7f7f; font-weight: bold\">(most recent call last)</span><span style=\"color: #ff0000; text-decoration-color: #ff0000\"> ────────────────────────────────╮</span>\n",
       "<span style=\"color: #ff0000; text-decoration-color: #ff0000\">│</span> in <span style=\"color: #00ff00; text-decoration-color: #00ff00\">&lt;module&gt;</span>:<span style=\"color: #0000ff; text-decoration-color: #0000ff\">2</span>                                                                                    <span style=\"color: #ff0000; text-decoration-color: #ff0000\">│</span>\n",
       "<span style=\"color: #ff0000; text-decoration-color: #ff0000\">│</span>                                                                                                  <span style=\"color: #ff0000; text-decoration-color: #ff0000\">│</span>\n",
       "<span style=\"color: #ff0000; text-decoration-color: #ff0000\">│</span>   <span style=\"color: #7f7f7f; text-decoration-color: #7f7f7f\">1 #STARTING POINT POST IMPORT LIBRERIE</span>                                                         <span style=\"color: #ff0000; text-decoration-color: #ff0000\">│</span>\n",
       "<span style=\"color: #ff0000; text-decoration-color: #ff0000\">│</span> <span style=\"color: #800000; text-decoration-color: #800000\">❱ </span>2 <span style=\"color: #0000ff; text-decoration-color: #0000ff\">from</span> <span style=\"color: #00ffff; text-decoration-color: #00ffff; text-decoration: underline\">keras</span> <span style=\"color: #0000ff; text-decoration-color: #0000ff\">import</span> models                                                                     <span style=\"color: #ff0000; text-decoration-color: #ff0000\">│</span>\n",
       "<span style=\"color: #ff0000; text-decoration-color: #ff0000\">│</span>   <span style=\"color: #7f7f7f; text-decoration-color: #7f7f7f\">3 </span>model = models.load_model(<span style=\"color: #808000; text-decoration-color: #808000\">\"model.keras\"</span>)                                                     <span style=\"color: #ff0000; text-decoration-color: #ff0000\">│</span>\n",
       "<span style=\"color: #ff0000; text-decoration-color: #ff0000\">│</span>   <span style=\"color: #7f7f7f; text-decoration-color: #7f7f7f\">4 </span>                                                                                             <span style=\"color: #ff0000; text-decoration-color: #ff0000\">│</span>\n",
       "<span style=\"color: #ff0000; text-decoration-color: #ff0000\">╰──────────────────────────────────────────────────────────────────────────────────────────────────╯</span>\n",
       "<span style=\"color: #ff0000; text-decoration-color: #ff0000; font-weight: bold\">ModuleNotFoundError: </span>No module named <span style=\"color: #008700; text-decoration-color: #008700\">'keras'</span>\n",
       "</pre>\n"
      ],
      "text/plain": [
       "\u001b[38;2;255;0;0m╭─\u001b[0m\u001b[38;2;255;0;0m──────────────────────────────\u001b[0m\u001b[38;2;255;0;0m \u001b[0m\u001b[1;38;2;255;0;0mTraceback \u001b[0m\u001b[1;2;38;2;255;0;0m(most recent call last)\u001b[0m\u001b[38;2;255;0;0m \u001b[0m\u001b[38;2;255;0;0m───────────────────────────────\u001b[0m\u001b[38;2;255;0;0m─╮\u001b[0m\n",
       "\u001b[38;2;255;0;0m│\u001b[0m in \u001b[92m<module>\u001b[0m:\u001b[94m2\u001b[0m                                                                                    \u001b[38;2;255;0;0m│\u001b[0m\n",
       "\u001b[38;2;255;0;0m│\u001b[0m                                                                                                  \u001b[38;2;255;0;0m│\u001b[0m\n",
       "\u001b[38;2;255;0;0m│\u001b[0m   \u001b[2m1 \u001b[0m\u001b[2m#STARTING POINT POST IMPORT LIBRERIE\u001b[0m                                                         \u001b[38;2;255;0;0m│\u001b[0m\n",
       "\u001b[38;2;255;0;0m│\u001b[0m \u001b[31m❱ \u001b[0m2 \u001b[94mfrom\u001b[0m \u001b[4;96mkeras\u001b[0m \u001b[94mimport\u001b[0m models                                                                     \u001b[38;2;255;0;0m│\u001b[0m\n",
       "\u001b[38;2;255;0;0m│\u001b[0m   \u001b[2m3 \u001b[0mmodel = models.load_model(\u001b[33m\"\u001b[0m\u001b[33mmodel.keras\u001b[0m\u001b[33m\"\u001b[0m)                                                     \u001b[38;2;255;0;0m│\u001b[0m\n",
       "\u001b[38;2;255;0;0m│\u001b[0m   \u001b[2m4 \u001b[0m                                                                                             \u001b[38;2;255;0;0m│\u001b[0m\n",
       "\u001b[38;2;255;0;0m╰──────────────────────────────────────────────────────────────────────────────────────────────────╯\u001b[0m\n",
       "\u001b[1;91mModuleNotFoundError: \u001b[0mNo module named \u001b[38;2;0;135;0m'keras'\u001b[0m\n"
      ]
     },
     "metadata": {},
     "output_type": "display_data"
    }
   ],
   "source": [
    "#STARTING POINT POST IMPORT LIBRERIE\n",
    "from keras import models\n",
    "model = models.load_model(\"model.keras\")"
   ]
  },
  {
   "cell_type": "code",
   "execution_count": 7,
   "id": "5e4794db",
   "metadata": {},
   "outputs": [
    {
     "name": "stdout",
     "output_type": "stream",
     "text": [
      "Class Indices: {'ace of clubs': 0, 'ace of diamonds': 1, 'ace of hearts': 2, 'ace of spades': 3, 'eight of clubs': 4, 'eight of diamonds': 5, 'eight of hearts': 6, 'eight of spades': 7, 'five of clubs': 8, 'five of diamonds': 9, 'five of hearts': 10, 'five of spades': 11, 'four of clubs': 12, 'four of diamonds': 13, 'four of hearts': 14, 'four of spades': 15, 'jack of clubs': 16, 'jack of diamonds': 17, 'jack of hearts': 18, 'jack of spades': 19, 'joker': 20, 'king of clubs': 21, 'king of diamonds': 22, 'king of hearts': 23, 'king of spades': 24, 'nine of clubs': 25, 'nine of diamonds': 26, 'nine of hearts': 27, 'nine of spades': 28, 'queen of clubs': 29, 'queen of diamonds': 30, 'queen of hearts': 31, 'queen of spades': 32, 'seven of clubs': 33, 'seven of diamonds': 34, 'seven of hearts': 35, 'seven of spades': 36, 'six of clubs': 37, 'six of diamonds': 38, 'six of hearts': 39, 'six of spades': 40, 'ten of clubs': 41, 'ten of diamonds': 42, 'ten of hearts': 43, 'ten of spades': 44, 'three of clubs': 45, 'three of diamonds': 46, 'three of hearts': 47, 'three of spades': 48, 'two of clubs': 49, 'two of diamonds': 50, 'two of hearts': 51, 'two of spades': 52}\n"
     ]
    }
   ],
   "source": [
    "import pickle\n",
    "\n",
    "with open('model/class_indices.pkl', 'rb') as f:\n",
    "    class_indices = pickle.load(f)\n",
    "\n",
    "print(\"Class Indices:\", class_indices)\n"
   ]
  },
  {
   "cell_type": "code",
   "execution_count": 11,
   "id": "214f7d71",
   "metadata": {},
   "outputs": [
    {
     "name": "stdout",
     "output_type": "stream",
     "text": [
      "\u001b[1m1/1\u001b[0m \u001b[32m━━━━━━━━━━━━━━━━━━━━\u001b[0m\u001b[37m\u001b[0m \u001b[1m0s\u001b[0m 101ms/step\n",
      "{\"valore\": \"four\", \"seme\": \"diamonds\"}\n"
     ]
    }
   ],
   "source": [
    "from keras.models import load_model\n",
    "from tensorflow.keras.preprocessing.image import ImageDataGenerator, load_img, img_to_array\n",
    "import numpy as np\n",
    "import pickle\n",
    "import json\n",
    "\n",
    "# Carica il modello\n",
    "model = load_model(\"model/model.keras\")\n",
    "\n",
    "# Carica la mappatura delle classi\n",
    "with open('model/class_indices.pkl', 'rb') as f:\n",
    "    class_indices = pickle.load(f)\n",
    "# Creazione di una mappatura inversa\n",
    "class_labels = {v: k for k, v in class_indices.items()}\n",
    "\n",
    "# Creazione del preprocessore ImageDataGenerator\n",
    "image_size = (224, 224)  # Dimensione target utilizzata durante l'addestramento\n",
    "datagen = ImageDataGenerator(rescale=1./255)\n",
    "\n",
    "# Funzione per preprocessare una singola immagine\n",
    "def preprocess_single_image(image_path, datagen, target_size):\n",
    "    img = load_img(image_path, target_size=target_size)  # Carica e ridimensiona l'immagine\n",
    "    img_array = img_to_array(img)  # Converte in array\n",
    "    img_array = np.expand_dims(img_array, axis=0)  # Aggiunge una dimensione batch\n",
    "    img_array = datagen.standardize(img_array)  # Applica la stessa normalizzazione\n",
    "    return img_array\n",
    "\n",
    "# Percorso all'immagine\n",
    "# image_path = \"Asso_Di_Cuori.jpg\"\n",
    "# image_path = \"Regina_Di_Picche.jpg\"\n",
    "image_path = \"Quattro_Di_Quadri.jpg\"\n",
    "\n",
    "# Preprocessa l'immagine\n",
    "predict_input = preprocess_single_image(image_path, datagen, image_size)\n",
    "\n",
    "# Esegui la previsione\n",
    "predict_result = model.predict(predict_input)\n",
    "\n",
    "# Estrai la classe predetta\n",
    "predicted_class_index = np.argmax(predict_result, axis=1)[0]  # Indice della classe predetta\n",
    "predicted_class_label = class_labels[predicted_class_index]  # Nome della classe\n",
    "\n",
    "# Supponendo che la label segua il formato \"valore of seme\"\n",
    "if \" of \" in predicted_class_label:\n",
    "    valore, seme = predicted_class_label.split(\" of \")  # Separa valore e seme\n",
    "else:\n",
    "    valore = predicted_class_label  # L'intera label è considerata il valore\n",
    "    seme = \"Seme non specificato\"\n",
    "\n",
    "# Converti in JSON il risultato\n",
    "output = json.dumps({\n",
    "    \"valore\": valore,\n",
    "    \"seme\": seme,\n",
    "    #\"predict_result\": predict_result.tolist()\n",
    "})\n",
    "print(output)\n"
   ]
  },
  {
   "cell_type": "code",
   "execution_count": 12,
   "id": "b94da0f1",
   "metadata": {},
   "outputs": [
    {
     "name": "stdout",
     "output_type": "stream",
     "text": [
      "Requirement already satisfied: flask in /home/ec2-user/anaconda3/envs/python3/lib/python3.10/site-packages (3.0.3)\n",
      "Requirement already satisfied: Werkzeug>=3.0.0 in /home/ec2-user/anaconda3/envs/python3/lib/python3.10/site-packages (from flask) (3.0.4)\n",
      "Requirement already satisfied: Jinja2>=3.1.2 in /home/ec2-user/anaconda3/envs/python3/lib/python3.10/site-packages (from flask) (3.1.4)\n",
      "Requirement already satisfied: itsdangerous>=2.1.2 in /home/ec2-user/anaconda3/envs/python3/lib/python3.10/site-packages (from flask) (2.2.0)\n",
      "Requirement already satisfied: click>=8.1.3 in /home/ec2-user/anaconda3/envs/python3/lib/python3.10/site-packages (from flask) (8.1.7)\n",
      "Requirement already satisfied: blinker>=1.6.2 in /home/ec2-user/anaconda3/envs/python3/lib/python3.10/site-packages (from flask) (1.8.2)\n",
      "Requirement already satisfied: MarkupSafe>=2.0 in /home/ec2-user/anaconda3/envs/python3/lib/python3.10/site-packages (from Jinja2>=3.1.2->flask) (3.0.2)\n"
     ]
    }
   ],
   "source": [
    "!pip install flask"
   ]
  },
  {
   "cell_type": "code",
   "execution_count": 67,
   "id": "6dd45830",
   "metadata": {},
   "outputs": [
    {
     "name": "stdout",
     "output_type": "stream",
     "text": [
      "image_name: tensorflow-inference ######################\n",
      "account: 533267394241 ######################\n",
      "region: us-east-1 ######################\n",
      "fullname: 533267394241.dkr.ecr.us-east-1.amazonaws.com/tensorflow-inference:2.12.0-cpu-py310-pluto-2 ######################\n",
      "{\n",
      "    \"repositories\": [\n",
      "        {\n",
      "            \"repositoryArn\": \"arn:aws:ecr:us-east-1:533267394241:repository/tensorflow-inference\",\n",
      "            \"registryId\": \"533267394241\",\n",
      "            \"repositoryName\": \"tensorflow-inference\",\n",
      "            \"repositoryUri\": \"533267394241.dkr.ecr.us-east-1.amazonaws.com/tensorflow-inference\",\n",
      "            \"createdAt\": 1732280998.63,\n",
      "            \"imageTagMutability\": \"MUTABLE\",\n",
      "            \"imageScanningConfiguration\": {\n",
      "                \"scanOnPush\": false\n",
      "            },\n",
      "            \"encryptionConfiguration\": {\n",
      "                \"encryptionType\": \"AES256\"\n",
      "            }\n",
      "        }\n",
      "    ]\n",
      "}\n"
     ]
    }
   ],
   "source": [
    "%%sh\n",
    "# Specify an image name\n",
    "image_name=tensorflow-inference\n",
    "echo \"image_name: ${image_name} ######################\"\n",
    "\n",
    "account=$(aws sts get-caller-identity --query Account --output text)\n",
    "echo \"account: ${account} ######################\"\n",
    "\n",
    "# Get the region defined in the current configuration (default to us-west-2 if none defined)\n",
    "region=$(aws configure get region)\n",
    "echo \"region: ${region} ######################\"\n",
    "\n",
    "fullname=\"${account}.dkr.ecr.${region}.amazonaws.com/${image_name}:2.12.0-cpu-py310-pluto-2\"\n",
    "echo \"fullname: ${fullname} ######################\"\n",
    "\n",
    "aws ecr describe-repositories --repository-names \"${image_name}\"\n",
    "if [ $? -ne 0 ]\n",
    "then\n",
    "aws ecr create-repository --repository-name \"${image_name}\"\n",
    "fi"
   ]
  },
  {
   "cell_type": "code",
   "execution_count": 68,
   "id": "ab046d0a",
   "metadata": {},
   "outputs": [
    {
     "name": "stdout",
     "output_type": "stream",
     "text": [
      "WARNING! Your password will be stored unencrypted in /home/ec2-user/.docker/config.json.\n",
      "Configure a credential helper to remove this warning. See\n",
      "https://docs.docker.com/engine/reference/commandline/login/#credentials-store\n",
      "\n",
      "Login Succeeded\n"
     ]
    }
   ],
   "source": [
    "#Dominio dell'immagine base, quindi è uguale per tutti\n",
    "!aws ecr get-login-password --region us-east-1 | docker login --username AWS --password-stdin 763104351884.dkr.ecr.us-east-1.amazonaws.com"
   ]
  },
  {
   "cell_type": "code",
   "execution_count": 94,
   "id": "1febc339",
   "metadata": {},
   "outputs": [
    {
     "name": "stdout",
     "output_type": "stream",
     "text": [
      "\u001b[1A\u001b[1B\u001b[0G\u001b[?25l[+] Building 0.0s (0/1)                                          docker:default\n",
      "\u001b[?25h\u001b[1A\u001b[0G\u001b[?25l[+] Building 0.1s (3/3)                                          docker:default\n",
      "\u001b[34m => [internal] load build definition from Dockerfile.inference             0.0s\n",
      "\u001b[0m\u001b[34m => => transferring dockerfile: 501B                                       0.0s\n",
      "\u001b[0m\u001b[34m => [internal] load metadata for 763104351884.dkr.ecr.us-east-1.amazonaws  0.1s\n",
      "\u001b[0m\u001b[34m => [auth] sharing credentials for 763104351884.dkr.ecr.us-east-1.amazona  0.0s\n",
      "\u001b[0m\u001b[?25h\u001b[1A\u001b[1A\u001b[1A\u001b[1A\u001b[1A\u001b[0G\u001b[?25l[+] Building 0.2s (10/11)                                        docker:default\n",
      "\u001b[34m => [internal] load build definition from Dockerfile.inference             0.0s\n",
      "\u001b[0m\u001b[34m => => transferring dockerfile: 501B                                       0.0s\n",
      "\u001b[0m\u001b[34m => [internal] load metadata for 763104351884.dkr.ecr.us-east-1.amazonaws  0.1s\n",
      "\u001b[0m\u001b[34m => [auth] sharing credentials for 763104351884.dkr.ecr.us-east-1.amazona  0.0s\n",
      "\u001b[0m\u001b[34m => [internal] load .dockerignore                                          0.0s\n",
      "\u001b[0m\u001b[34m => => transferring context: 2B                                            0.0s\n",
      "\u001b[0m\u001b[34m => [1/5] FROM 763104351884.dkr.ecr.us-east-1.amazonaws.com/tensorflow-in  0.0s\n",
      "\u001b[0m\u001b[34m => [internal] load build context                                          0.0s\n",
      "\u001b[0m\u001b[34m => => transferring context: 2.04kB                                        0.0s\n",
      "\u001b[0m\u001b[34m => CACHED [2/5] ADD ./requirements.inference.txt /opt/requirements.txt    0.0s\n",
      "\u001b[0m\u001b[34m => CACHED [3/5] RUN pip3 install -r /opt/requirements.txt                 0.0s\n",
      "\u001b[0m\u001b[34m => [4/5] ADD ./inference.py /opt/program/inference.py                     0.0s\n",
      "\u001b[0m\u001b[34m => [5/5] ADD ./pippo.sh /opt/pippo.sh                                     0.0s\n",
      "\u001b[0m => exporting to image                                                     0.0s\n",
      " => => exporting layers                                                    0.0s\n",
      "\u001b[?25h\u001b[1A\u001b[1A\u001b[1A\u001b[1A\u001b[1A\u001b[1A\u001b[1A\u001b[1A\u001b[1A\u001b[1A\u001b[1A\u001b[1A\u001b[1A\u001b[1A\u001b[1A\u001b[1A\u001b[0G\u001b[?25l[+] Building 0.3s (11/11) FINISHED                               docker:default\n",
      "\u001b[34m => [internal] load build definition from Dockerfile.inference             0.0s\n",
      "\u001b[0m\u001b[34m => => transferring dockerfile: 501B                                       0.0s\n",
      "\u001b[0m\u001b[34m => [internal] load metadata for 763104351884.dkr.ecr.us-east-1.amazonaws  0.1s\n",
      "\u001b[0m\u001b[34m => [auth] sharing credentials for 763104351884.dkr.ecr.us-east-1.amazona  0.0s\n",
      "\u001b[0m\u001b[34m => [internal] load .dockerignore                                          0.0s\n",
      "\u001b[0m\u001b[34m => => transferring context: 2B                                            0.0s\n",
      "\u001b[0m\u001b[34m => [1/5] FROM 763104351884.dkr.ecr.us-east-1.amazonaws.com/tensorflow-in  0.0s\n",
      "\u001b[0m\u001b[34m => [internal] load build context                                          0.0s\n",
      "\u001b[0m\u001b[34m => => transferring context: 2.04kB                                        0.0s\n",
      "\u001b[0m\u001b[34m => CACHED [2/5] ADD ./requirements.inference.txt /opt/requirements.txt    0.0s\n",
      "\u001b[0m\u001b[34m => CACHED [3/5] RUN pip3 install -r /opt/requirements.txt                 0.0s\n",
      "\u001b[0m\u001b[34m => [4/5] ADD ./inference.py /opt/program/inference.py                     0.0s\n",
      "\u001b[0m\u001b[34m => [5/5] ADD ./pippo.sh /opt/pippo.sh                                     0.0s\n",
      "\u001b[0m\u001b[34m => exporting to image                                                     0.0s\n",
      "\u001b[0m\u001b[34m => => exporting layers                                                    0.0s\n",
      "\u001b[0m\u001b[34m => => writing image sha256:5f947344dc48f66992974ce44b5db0cb75215ee881f34  0.0s\n",
      "\u001b[0m\u001b[34m => => naming to 533267394241.dkr.ecr.us-east-1.amazonaws.com/tensorflow-  0.0s\n",
      "\u001b[0m\u001b[?25h"
     ]
    }
   ],
   "source": [
    "#Codice build è univoco per persona\n",
    "!docker build -t 533267394241.dkr.ecr.us-east-1.amazonaws.com/tensorflow-inference:mondo -f Dockerfile.inference ."
   ]
  },
  {
   "cell_type": "code",
   "execution_count": 93,
   "id": "cda663bc",
   "metadata": {},
   "outputs": [
    {
     "name": "stdout",
     "output_type": "stream",
     "text": [
      "REPOSITORY                                                          TAG       IMAGE ID       CREATED             SIZE\n",
      "533267394241.dkr.ecr.us-east-1.amazonaws.com/tensorflow-inference   mondo     a54d775edf29   5 seconds ago       4.55GB\n",
      "<none>                                                              <none>    65c1da710c89   4 minutes ago       5.08GB\n",
      "533267394241.dkr.ecr.us-east-1.amazonaws.com/tensorflow-inference   <none>    3a6f714725a6   48 minutes ago      5.08GB\n",
      "533267394241.dkr.ecr.us-east-1.amazonaws.com/tensorflow-inference   <none>    e5d7bbc0de2e   About an hour ago   5.08GB\n",
      "533267394241.dkr.ecr.us-east-1.amazonaws.com/tensorflow-inference   carte     b53715e0cf64   About an hour ago   5.08GB\n",
      "533267394241.dkr.ecr.us-east-1.amazonaws.com/tensorflow-training    latest    fff49fa6705a   2 hours ago         8.59GB\n",
      "533267394241.dkr.ecr.us-east-1.amazonaws.com/tensorflow-inference   <none>    63a085322590   2 hours ago         5.08GB\n",
      "<none>                                                              <none>    7238b6a86d0e   2 hours ago         5.08GB\n"
     ]
    }
   ],
   "source": [
    "!docker images"
   ]
  },
  {
   "cell_type": "code",
   "execution_count": 71,
   "id": "ea4ae3d0",
   "metadata": {},
   "outputs": [
    {
     "name": "stdout",
     "output_type": "stream",
     "text": [
      "WARNING! Your password will be stored unencrypted in /home/ec2-user/.docker/config.json.\n",
      "Configure a credential helper to remove this warning. See\n",
      "https://docs.docker.com/engine/reference/commandline/login/#credentials-store\n",
      "\n",
      "Login Succeeded\n"
     ]
    }
   ],
   "source": [
    "#Dominio dell'immagine base, quindi è uguale per tutti\n",
    "!aws ecr get-login-password --region us-east-1 | docker login --username AWS --password-stdin 533267394241.dkr.ecr.us-east-1.amazonaws.com"
   ]
  },
  {
   "cell_type": "code",
   "execution_count": 95,
   "id": "42479b8d",
   "metadata": {},
   "outputs": [
    {
     "name": "stdout",
     "output_type": "stream",
     "text": [
      "The push refers to repository [533267394241.dkr.ecr.us-east-1.amazonaws.com/tensorflow-inference]\n",
      "\n",
      "\u001b[1B98481e58: Preparing \n",
      "\u001b[1B077cb0ae: Preparing \n",
      "\u001b[1B7555843b: Preparing \n",
      "\u001b[1B64520764: Preparing \n",
      "\u001b[1B37bf1d61: Preparing \n",
      "\u001b[1B8df97c44: Preparing \n",
      "\u001b[1B764747b4: Preparing \n",
      "\u001b[1B1a68f579: Preparing \n",
      "\u001b[1B2eef5eea: Preparing \n",
      "\u001b[1Bb5bcc575: Preparing \n",
      "\u001b[1B5e5ce62f: Preparing \n",
      "\u001b[1B757a305d: Preparing \n",
      "\u001b[1Bc7cf6f28: Preparing \n",
      "\u001b[1B30092134: Preparing \n",
      "\u001b[1Bfb153852: Preparing \n",
      "\u001b[1B0903db8c: Preparing \n",
      "\u001b[1B19dec72a: Preparing \n",
      "\u001b[1Bdf04f233: Preparing \n",
      "\u001b[1Bf2dbc490: Preparing \n",
      "\u001b[1Bba0431f9: Preparing \n",
      "\u001b[1B71536788: Preparing \n",
      "\u001b[1B994107ae: Preparing \n",
      "\u001b[1B3a4f83e7: Preparing \n",
      "\u001b[1Bd6748243: Preparing \n",
      "\u001b[1Bf2c1e372: Preparing \n",
      "\u001b[1Bcd2b5d6d: Preparing \n",
      "\u001b[27B8481e58: Pushed lready exists 2kB2A\u001b[2K\u001b[19A\u001b[2K\u001b[16A\u001b[2K\u001b[13A\u001b[2K\u001b[9A\u001b[2K\u001b[8A\u001b[2K\u001b[5A\u001b[2K\u001b[2A\u001b[2K\u001b[27A\u001b[2Kmondo: digest: sha256:2b6e6eede9097f96f311dcaf9c251d2b0c477cac599b4201fed3a25a2b2eee86 size: 5973\n"
     ]
    }
   ],
   "source": [
    "!docker push 533267394241.dkr.ecr.us-east-1.amazonaws.com/tensorflow-inference:mondo"
   ]
  },
  {
   "cell_type": "code",
   "execution_count": 39,
   "id": "d1469045",
   "metadata": {},
   "outputs": [
    {
     "name": "stdout",
     "output_type": "stream",
     "text": [
      "image_name: tensorflow-training ######################\n",
      "account: 533267394241 ######################\n",
      "region: us-east-1 ######################\n",
      "fullname: 533267394241.dkr.ecr.us-east-1.amazonaws.com/tensorflow-training:2.12.0-cpu-py310-pluto-2 ######################\n"
     ]
    },
    {
     "name": "stderr",
     "output_type": "stream",
     "text": [
      "\n",
      "An error occurred (RepositoryNotFoundException) when calling the DescribeRepositories operation: The repository with name 'tensorflow-training' does not exist in the registry with id '533267394241'\n"
     ]
    },
    {
     "name": "stdout",
     "output_type": "stream",
     "text": [
      "{\n",
      "    \"repository\": {\n",
      "        \"repositoryArn\": \"arn:aws:ecr:us-east-1:533267394241:repository/tensorflow-training\",\n",
      "        \"registryId\": \"533267394241\",\n",
      "        \"repositoryName\": \"tensorflow-training\",\n",
      "        \"repositoryUri\": \"533267394241.dkr.ecr.us-east-1.amazonaws.com/tensorflow-training\",\n",
      "        \"createdAt\": 1732282970.746,\n",
      "        \"imageTagMutability\": \"MUTABLE\",\n",
      "        \"imageScanningConfiguration\": {\n",
      "            \"scanOnPush\": false\n",
      "        },\n",
      "        \"encryptionConfiguration\": {\n",
      "            \"encryptionType\": \"AES256\"\n",
      "        }\n",
      "    }\n",
      "}\n"
     ]
    }
   ],
   "source": [
    "%%sh\n",
    "# Specify an image name\n",
    "image_name=tensorflow-training\n",
    "echo \"image_name: ${image_name} ######################\"\n",
    "\n",
    "account=$(aws sts get-caller-identity --query Account --output text)\n",
    "echo \"account: ${account} ######################\"\n",
    "\n",
    "# Get the region defined in the current configuration (default to us-west-2 if none defined)\n",
    "region=$(aws configure get region)\n",
    "echo \"region: ${region} ######################\"\n",
    "\n",
    "fullname=\"${account}.dkr.ecr.${region}.amazonaws.com/${image_name}:2.12.0-cpu-py310-pluto-2\"\n",
    "echo \"fullname: ${fullname} ######################\"\n",
    "\n",
    "aws ecr describe-repositories --repository-names \"${image_name}\"\n",
    "if [ $? -ne 0 ]\n",
    "then\n",
    "aws ecr create-repository --repository-name \"${image_name}\"\n",
    "fi"
   ]
  },
  {
   "cell_type": "code",
   "execution_count": 40,
   "id": "78a5cf5c",
   "metadata": {},
   "outputs": [
    {
     "name": "stdout",
     "output_type": "stream",
     "text": [
      "WARNING! Your password will be stored unencrypted in /home/ec2-user/.docker/config.json.\n",
      "Configure a credential helper to remove this warning. See\n",
      "https://docs.docker.com/engine/reference/commandline/login/#credentials-store\n",
      "\n",
      "Login Succeeded\n"
     ]
    }
   ],
   "source": [
    "#Dominio dell'immagine base, quindi è uguale per tutti\n",
    "!aws ecr get-login-password --region us-east-1 | docker login --username AWS --password-stdin 533267394241.dkr.ecr.us-east-1.amazonaws.com"
   ]
  },
  {
   "cell_type": "code",
   "execution_count": null,
   "id": "63bbe5c7",
   "metadata": {},
   "outputs": [],
   "source": [
    "#Codice build è univoco per persona\n",
    "!docker build -t 533267394241.dkr.ecr.us-east-1.amazonaws.com/tensorflow-training -f Dockerfile.train ."
   ]
  },
  {
   "cell_type": "code",
   "execution_count": 84,
   "id": "d118e4c5",
   "metadata": {},
   "outputs": [
    {
     "name": "stdout",
     "output_type": "stream",
     "text": [
      "REPOSITORY                                                          TAG       IMAGE ID       CREATED          SIZE\n",
      "533267394241.dkr.ecr.us-east-1.amazonaws.com/tensorflow-inference   mondo     3a6f714725a6   35 minutes ago   5.08GB\n",
      "533267394241.dkr.ecr.us-east-1.amazonaws.com/tensorflow-inference   <none>    e5d7bbc0de2e   47 minutes ago   5.08GB\n",
      "533267394241.dkr.ecr.us-east-1.amazonaws.com/tensorflow-inference   carte     b53715e0cf64   47 minutes ago   5.08GB\n",
      "533267394241.dkr.ecr.us-east-1.amazonaws.com/tensorflow-training    latest    fff49fa6705a   2 hours ago      8.59GB\n",
      "533267394241.dkr.ecr.us-east-1.amazonaws.com/tensorflow-inference   <none>    63a085322590   2 hours ago      5.08GB\n",
      "<none>                                                              <none>    7238b6a86d0e   2 hours ago      5.08GB\n"
     ]
    }
   ],
   "source": [
    "!docker images"
   ]
  },
  {
   "cell_type": "code",
   "execution_count": 43,
   "id": "d2564eca",
   "metadata": {},
   "outputs": [
    {
     "name": "stdout",
     "output_type": "stream",
     "text": [
      "The push refers to repository [533267394241.dkr.ecr.us-east-1.amazonaws.com/tensorflow-training]\n",
      "\n",
      "\u001b[1B2bb916d7: Preparing \n",
      "\u001b[1B6cf7bbf6: Preparing \n",
      "\u001b[1B22878ecf: Preparing \n",
      "\u001b[1Bdb4f6696: Preparing \n",
      "\u001b[1Bf529ae49: Preparing \n",
      "\u001b[1B75f13e59: Preparing \n",
      "\u001b[1B0c6c24f9: Preparing \n",
      "\u001b[1Ba1e64371: Preparing \n",
      "\u001b[1B29631b13: Preparing \n",
      "\u001b[1B3f03efd0: Preparing \n",
      "\u001b[1B9b75d5ee: Preparing \n",
      "\u001b[1B370de786: Preparing \n",
      "\u001b[1Ba16f1a7a: Preparing \n",
      "\u001b[1Bfc8740d1: Preparing \n",
      "\u001b[1B292691fc: Preparing \n",
      "\u001b[1B6672bf9d: Preparing \n",
      "\u001b[1B607be3da: Preparing \n",
      "\u001b[1Bafc9b360: Preparing \n",
      "\u001b[1Bf934e4df: Preparing \n",
      "\u001b[1B80a2a6eb: Preparing \n",
      "\u001b[1Ba0538fa4: Preparing \n",
      "\u001b[1B6d109c54: Preparing \n",
      "\u001b[1Bf0a068df: Preparing \n",
      "\u001b[1B443b7673: Preparing \n",
      "\u001b[1B37a36861: Preparing \n",
      "\u001b[1Becb4bd81: Preparing \n",
      "\u001b[1B34b60c81: Preparing \n",
      "\u001b[19Bf03efd0: Waiting g \n",
      "\u001b[19Bb75d5ee: Waiting g \n",
      "\u001b[19B70de786: Waiting g \n",
      "\u001b[19B16f1a7a: Waiting g \n",
      "\u001b[3Bab822c1c: Pushed   755.5MB/731.1MB\u001b[29A\u001b[2K\u001b[31A\u001b[2K\u001b[31A\u001b[2K\u001b[29A\u001b[2K\u001b[28A\u001b[2K\u001b[29A\u001b[2K\u001b[31A\u001b[2K\u001b[27A\u001b[2K\u001b[31A\u001b[2K\u001b[25A\u001b[2K\u001b[25A\u001b[2K\u001b[31A\u001b[2K\u001b[26A\u001b[2K\u001b[31A\u001b[2K\u001b[26A\u001b[2K\u001b[31A\u001b[2K\u001b[26A\u001b[2K\u001b[25A\u001b[2K\u001b[23A\u001b[2K\u001b[26A\u001b[2K\u001b[31A\u001b[2K\u001b[26A\u001b[2K\u001b[31A\u001b[2K\u001b[23A\u001b[2K\u001b[24A\u001b[2K\u001b[22A\u001b[2K\u001b[24A\u001b[2K\u001b[22A\u001b[2K\u001b[31A\u001b[2K\u001b[22A\u001b[2K\u001b[31A\u001b[2K\u001b[22A\u001b[2K\u001b[31A\u001b[2K\u001b[22A\u001b[2K\u001b[24A\u001b[2K\u001b[22A\u001b[2K\u001b[24A\u001b[2K\u001b[26A\u001b[2K\u001b[31A\u001b[2K\u001b[24A\u001b[2K\u001b[22A\u001b[2K\u001b[31A\u001b[2K\u001b[22A\u001b[2K\u001b[24A\u001b[2K\u001b[22A\u001b[2K\u001b[31A\u001b[2K\u001b[22A\u001b[2K\u001b[31A\u001b[2K\u001b[22A\u001b[2K\u001b[31A\u001b[2K\u001b[24A\u001b[2K\u001b[21A\u001b[2K\u001b[31A\u001b[2K\u001b[24A\u001b[2K\u001b[31A\u001b[2K\u001b[23A\u001b[2K\u001b[24A\u001b[2K\u001b[23A\u001b[2K\u001b[22A\u001b[2K\u001b[21A\u001b[2K\u001b[23A\u001b[2K\u001b[31A\u001b[2K\u001b[24A\u001b[2K\u001b[31A\u001b[2K\u001b[24A\u001b[2K\u001b[21A\u001b[2K\u001b[22A\u001b[2K\u001b[24A\u001b[2K\u001b[21A\u001b[2K\u001b[23A\u001b[2K\u001b[21A\u001b[2K\u001b[23A\u001b[2K\u001b[22A\u001b[2K\u001b[21A\u001b[2K\u001b[31A\u001b[2K\u001b[24A\u001b[2K\u001b[21A\u001b[2K\u001b[22A\u001b[2K\u001b[31A\u001b[2K\u001b[21A\u001b[2K\u001b[31A\u001b[2K\u001b[22A\u001b[2K\u001b[23A\u001b[2K\u001b[31A\u001b[2K\u001b[23A\u001b[2K\u001b[21A\u001b[2K\u001b[23A\u001b[2K\u001b[21A\u001b[2K\u001b[24A\u001b[2K\u001b[23A\u001b[2K\u001b[22A\u001b[2K\u001b[31A\u001b[2K\u001b[23A\u001b[2K\u001b[22A\u001b[2K\u001b[23A\u001b[2K\u001b[21A\u001b[2K\u001b[23A\u001b[2K\u001b[24A\u001b[2K\u001b[31A\u001b[2K\u001b[23A\u001b[2K\u001b[24A\u001b[2K\u001b[31A\u001b[2K\u001b[31A\u001b[2K\u001b[23A\u001b[2K\u001b[21A\u001b[2K\u001b[22A\u001b[2K\u001b[24A\u001b[2K\u001b[22A\u001b[2K\u001b[31A\u001b[2K\u001b[24A\u001b[2K\u001b[23A\u001b[2K\u001b[24A\u001b[2K\u001b[22A\u001b[2K\u001b[23A\u001b[2K\u001b[22A\u001b[2K\u001b[23A\u001b[2K\u001b[24A\u001b[2K\u001b[23A\u001b[2K\u001b[22A\u001b[2K\u001b[23A\u001b[2K\u001b[22A\u001b[2K\u001b[22A\u001b[2K\u001b[24A\u001b[2K\u001b[24A\u001b[2K\u001b[21A\u001b[2K\u001b[24A\u001b[2K\u001b[21A\u001b[2K\u001b[24A\u001b[2K\u001b[31A\u001b[2K\u001b[31A\u001b[2K\u001b[23A\u001b[2K\u001b[31A\u001b[2K\u001b[21A\u001b[2K\u001b[31A\u001b[2K\u001b[21A\u001b[2K\u001b[23A\u001b[2K\u001b[31A\u001b[2K\u001b[21A\u001b[2K\u001b[31A\u001b[2K\u001b[24A\u001b[2K\u001b[21A\u001b[2K\u001b[23A\u001b[2K\u001b[24A\u001b[2K\u001b[23A\u001b[2K\u001b[23A\u001b[2K\u001b[21A\u001b[2K\u001b[31A\u001b[2K\u001b[31A\u001b[2K\u001b[23A\u001b[2K\u001b[20A\u001b[2K\u001b[31A\u001b[2K\u001b[23A\u001b[2K\u001b[24A\u001b[2K\u001b[21A\u001b[2K\u001b[21A\u001b[2K\u001b[31A\u001b[2K\u001b[23A\u001b[2K\u001b[24A\u001b[2K\u001b[20A\u001b[2K\u001b[31A\u001b[2K\u001b[21A\u001b[2K\u001b[31A\u001b[2K\u001b[23A\u001b[2K\u001b[20A\u001b[2K\u001b[24A\u001b[2K\u001b[21A\u001b[2K\u001b[24A\u001b[2K\u001b[31A\u001b[2K\u001b[24A\u001b[2K\u001b[31A\u001b[2K\u001b[24A\u001b[2K\u001b[21A\u001b[2K\u001b[23A\u001b[2K\u001b[24A\u001b[2K\u001b[31A\u001b[2K\u001b[24A\u001b[2K\u001b[21A\u001b[2K\u001b[31A\u001b[2K\u001b[31A\u001b[2K\u001b[23A\u001b[2K\u001b[31A\u001b[2K\u001b[21A\u001b[2K\u001b[31A\u001b[2K\u001b[20A\u001b[2K\u001b[31A\u001b[2K\u001b[21A\u001b[2K\u001b[24A\u001b[2K\u001b[21A\u001b[2K\u001b[20A\u001b[2K\u001b[31A\u001b[2K\u001b[21A\u001b[2K\u001b[31A\u001b[2K\u001b[21A\u001b[2K\u001b[24A\u001b[2K\u001b[21A\u001b[2K\u001b[24A\u001b[2K\u001b[21A\u001b[2K\u001b[23A\u001b[2K\u001b[24A\u001b[2K\u001b[23A\u001b[2K\u001b[20A\u001b[2K\u001b[31A\u001b[2K\u001b[23A\u001b[2K\u001b[31A\u001b[2K\u001b[21A\u001b[2K\u001b[31A\u001b[2K\u001b[20A\u001b[2K\u001b[23A\u001b[2K\u001b[24A\u001b[2K\u001b[21A\u001b[2K\u001b[23A\u001b[2K\u001b[20A\u001b[2K\u001b[21A\u001b[2K\u001b[20A\u001b[2K\u001b[31A\u001b[2K\u001b[31A\u001b[2K\u001b[21A\u001b[2K\u001b[31A\u001b[2K\u001b[21A\u001b[2K\u001b[23A\u001b[2K\u001b[20A\u001b[2K\u001b[21A\u001b[2K\u001b[23A\u001b[2K\u001b[31A\u001b[2K\u001b[23A\u001b[2K\u001b[31A\u001b[2K\u001b[21A\u001b[2K\u001b[23A\u001b[2K\u001b[21A\u001b[2K\u001b[31A\u001b[2K\u001b[20A\u001b[2K\u001b[23A\u001b[2K\u001b[31A\u001b[2K\u001b[24A\u001b[2K\u001b[31A\u001b[2K\u001b[23A\u001b[2K\u001b[31A\u001b[2K\u001b[20A\u001b[2K\u001b[31A\u001b[2K\u001b[23A\u001b[2K\u001b[23A\u001b[2K\u001b[23A\u001b[2K\u001b[31A\u001b[2K\u001b[23A\u001b[2K\u001b[31A\u001b[2K\u001b[24A\u001b[2K\u001b[23A\u001b[2K\u001b[31A\u001b[2K\u001b[23A\u001b[2K\u001b[24A\u001b[2K\u001b[20A\u001b[2K\u001b[24A\u001b[2K\u001b[23A\u001b[2K\u001b[24A\u001b[2K\u001b[23A\u001b[2K\u001b[24A\u001b[2K\u001b[20A\u001b[2K\u001b[21A\u001b[2K\u001b[23A\u001b[2K\u001b[31A\u001b[2K\u001b[21A\u001b[2K\u001b[31A\u001b[2K\u001b[24A\u001b[2K\u001b[23A\u001b[2K\u001b[21A\u001b[2K\u001b[31A\u001b[2K\u001b[21A\u001b[2K\u001b[23A\u001b[2K\u001b[21A\u001b[2K\u001b[23A\u001b[2KPushing  144.2MB/443.1MB\u001b[31A\u001b[2K\u001b[24A\u001b[2K\u001b[20A\u001b[2K\u001b[31A\u001b[2K\u001b[24A\u001b[2K\u001b[31A\u001b[2K\u001b[24A\u001b[2K\u001b[31A\u001b[2K\u001b[24A\u001b[2K\u001b[21A\u001b[2K\u001b[24A\u001b[2K\u001b[23A\u001b[2K\u001b[20A\u001b[2K\u001b[21A\u001b[2K\u001b[20A\u001b[2K\u001b[20A\u001b[2K\u001b[23A\u001b[2K\u001b[24A\u001b[2K\u001b[20A\u001b[2K\u001b[23A\u001b[2K\u001b[20A\u001b[2K\u001b[21A\u001b[2K\u001b[20A\u001b[2K\u001b[21A\u001b[2K\u001b[23A\u001b[2K\u001b[21A\u001b[2K\u001b[23A\u001b[2K\u001b[20A\u001b[2K\u001b[23A\u001b[2K\u001b[21A\u001b[2K\u001b[24A\u001b[2K\u001b[20A\u001b[2K\u001b[24A\u001b[2K\u001b[20A\u001b[2K\u001b[24A\u001b[2K\u001b[21A\u001b[2K\u001b[24A\u001b[2K\u001b[21A\u001b[2K\u001b[24A\u001b[2K\u001b[21A\u001b[2K\u001b[23A\u001b[2K\u001b[20A\u001b[2K\u001b[23A\u001b[2K\u001b[21A\u001b[2K\u001b[20A\u001b[2K\u001b[31A\u001b[2K\u001b[31A\u001b[2K\u001b[23A\u001b[2K\u001b[24A\u001b[2K\u001b[23A\u001b[2K\u001b[24A\u001b[2K\u001b[23A\u001b[2K\u001b[24A\u001b[2K\u001b[23A\u001b[2K\u001b[21A\u001b[2K\u001b[31A\u001b[2K\u001b[21A\u001b[2K\u001b[24A\u001b[2K\u001b[31A\u001b[2K\u001b[20A\u001b[2K\u001b[31A\u001b[2K\u001b[23A\u001b[2K\u001b[21A\u001b[2K\u001b[24A\u001b[2K\u001b[21A\u001b[2K\u001b[23A\u001b[2K\u001b[31A\u001b[2K\u001b[24A\u001b[2K\u001b[31A\u001b[2K\u001b[21A\u001b[2K\u001b[23A\u001b[2K\u001b[31A\u001b[2K\u001b[23A\u001b[2K\u001b[24A\u001b[2K\u001b[21A\u001b[2K\u001b[24A\u001b[2K\u001b[31A\u001b[2K\u001b[23A\u001b[2K\u001b[24A\u001b[2K\u001b[21A\u001b[2K\u001b[23A\u001b[2K\u001b[21A\u001b[2K\u001b[21A\u001b[2K\u001b[21A\u001b[2K\u001b[31A\u001b[2K\u001b[24A\u001b[2K\u001b[21A\u001b[2K\u001b[23A\u001b[2K\u001b[23A\u001b[2K\u001b[31A\u001b[2K\u001b[23A\u001b[2K\u001b[31A\u001b[2K\u001b[23A\u001b[2K\u001b[24A\u001b[2K\u001b[31A\u001b[2K\u001b[24A\u001b[2K\u001b[23A\u001b[2K\u001b[21A\u001b[2K\u001b[31A\u001b[2K\u001b[23A\u001b[2K\u001b[31A\u001b[2K\u001b[24A\u001b[2K\u001b[21A\u001b[2K\u001b[31A\u001b[2K\u001b[23A\u001b[2K\u001b[24A\u001b[2K\u001b[21A\u001b[2K\u001b[20A\u001b[2K\u001b[31A\u001b[2K\u001b[24A\u001b[2K\u001b[21A\u001b[2K\u001b[24A\u001b[2K\u001b[24A\u001b[2K\u001b[21A\u001b[2K\u001b[24A\u001b[2K\u001b[20A\u001b[2K\u001b[24A\u001b[2K\u001b[20A\u001b[2K\u001b[23A\u001b[2K\u001b[20A\u001b[2K\u001b[23A\u001b[2K\u001b[24A\u001b[2K\u001b[23A\u001b[2K\u001b[20A\u001b[2K\u001b[31A\u001b[2K\u001b[23A\u001b[2K\u001b[24A\u001b[2K\u001b[23A\u001b[2K\u001b[24A\u001b[2K\u001b[20A\u001b[2K\u001b[21A\u001b[2K\u001b[20A\u001b[2K\u001b[31A\u001b[2K\u001b[24A\u001b[2K\u001b[31A\u001b[2K\u001b[24A\u001b[2K\u001b[20A\u001b[2K\u001b[24A\u001b[2K\u001b[31A\u001b[2K\u001b[23A\u001b[2K\u001b[31A\u001b[2K\u001b[21A\u001b[2K\u001b[20A\u001b[2K\u001b[21A\u001b[2K\u001b[23A\u001b[2K\u001b[24A\u001b[2K\u001b[31A\u001b[2K\u001b[21A\u001b[2K\u001b[31A\u001b[2K\u001b[20A\u001b[2K\u001b[31A\u001b[2K\u001b[20A\u001b[2K\u001b[31A\u001b[2K\u001b[23A\u001b[2K\u001b[31A\u001b[2K\u001b[23A\u001b[2K\u001b[20A\u001b[2K\u001b[31A\u001b[2K\u001b[20A\u001b[2K\u001b[23A\u001b[2K\u001b[24A\u001b[2K\u001b[21A\u001b[2K\u001b[24A\u001b[2K\u001b[31A\u001b[2K\u001b[24A\u001b[2K\u001b[31A\u001b[2K\u001b[20A\u001b[2K\u001b[31A\u001b[2K\u001b[21A\u001b[2K\u001b[31A\u001b[2K\u001b[23A\u001b[2K\u001b[31A\u001b[2K\u001b[24A\u001b[2K\u001b[31A\u001b[2K\u001b[20A\u001b[2K\u001b[23A\u001b[2K\u001b[21A\u001b[2K\u001b[31A\u001b[2K\u001b[20A\u001b[2K\u001b[31A\u001b[2K\u001b[24A\u001b[2K\u001b[31A\u001b[2K\u001b[23A\u001b[2K\u001b[31A\u001b[2K\u001b[23A\u001b[2K\u001b[24A\u001b[2K\u001b[21A\u001b[2K\u001b[20A\u001b[2K\u001b[21A\u001b[2K\u001b[20A\u001b[2K\u001b[21A\u001b[2K\u001b[23A\u001b[2K\u001b[20A\u001b[2K\u001b[31A\u001b[2K\u001b[21A\u001b[2K\u001b[31A\u001b[2K\u001b[23A\u001b[2K\u001b[31A\u001b[2K\u001b[24A\u001b[2K\u001b[20A\u001b[2K\u001b[21A\u001b[2K\u001b[31A\u001b[2K\u001b[21A\u001b[2K\u001b[24A\u001b[2K\u001b[31A\u001b[2K\u001b[23A\u001b[2K\u001b[24A\u001b[2K\u001b[21A\u001b[2K\u001b[20A\u001b[2K\u001b[21A\u001b[2K\u001b[31A\u001b[2K\u001b[21A\u001b[2K\u001b[31A\u001b[2K\u001b[21A\u001b[2K\u001b[31A\u001b[2K\u001b[20A\u001b[2K\u001b[31A\u001b[2K\u001b[20A\u001b[2K\u001b[23A\u001b[2K\u001b[24A\u001b[2K\u001b[20A\u001b[2K\u001b[31A\u001b[2K\u001b[20A\u001b[2K\u001b[31A\u001b[2K\u001b[21A\u001b[2K\u001b[31A\u001b[2K\u001b[21A\u001b[2K\u001b[23A\u001b[2K\u001b[21A\u001b[2K\u001b[20A\u001b[2K\u001b[23A\u001b[2K\u001b[24A\u001b[2K\u001b[23A\u001b[2K\u001b[20A\u001b[2K\u001b[21A\u001b[2K\u001b[20A\u001b[2K\u001b[24A\u001b[2K\u001b[23A\u001b[2K\u001b[31A\u001b[2K\u001b[23A\u001b[2K\u001b[24A\u001b[2K\u001b[20A\u001b[2K\u001b[23A\u001b[2K\u001b[31A\u001b[2K\u001b[24A\u001b[2K\u001b[31A\u001b[2K\u001b[20A\u001b[2K\u001b[21A\u001b[2K\u001b[31A\u001b[2K\u001b[31A\u001b[2K\u001b[31A\u001b[2K\u001b[24A\u001b[2K\u001b[21A\u001b[2K\u001b[24A\u001b[2K\u001b[31A\u001b[2K\u001b[20A\u001b[2K\u001b[24A\u001b[2K\u001b[20A\u001b[2K\u001b[24A\u001b[2K\u001b[21A\u001b[2K\u001b[24A\u001b[2K\u001b[21A\u001b[2K\u001b[24A\u001b[2K\u001b[21A\u001b[2K\u001b[24A\u001b[2K\u001b[31A\u001b[2K\u001b[24A\u001b[2K\u001b[31A\u001b[2K\u001b[20A\u001b[2K\u001b[31A\u001b[2K\u001b[23A\u001b[2K\u001b[31A\u001b[2K\u001b[20A\u001b[2K\u001b[23A\u001b[2K\u001b[31A\u001b[2K\u001b[20A\u001b[2K\u001b[31A\u001b[2K\u001b[20A\u001b[2K\u001b[24A\u001b[2K\u001b[21A\u001b[2K\u001b[31A\u001b[2K\u001b[20A\u001b[2K\u001b[24A\u001b[2K\u001b[20A\u001b[2K\u001b[21A\u001b[2K\u001b[31A\u001b[2K\u001b[24A\u001b[2K\u001b[23A\u001b[2K\u001b[21A\u001b[2K\u001b[31A\u001b[2K\u001b[24A\u001b[2K\u001b[20A\u001b[2K\u001b[21A\u001b[2K\u001b[24A\u001b[2K\u001b[21A\u001b[2K\u001b[31A\u001b[2K\u001b[24A\u001b[2K\u001b[31A\u001b[2K\u001b[24A\u001b[2K\u001b[21A\u001b[2K\u001b[20A\u001b[2K\u001b[21A\u001b[2K\u001b[24A\u001b[2K\u001b[31A\u001b[2K\u001b[24A\u001b[2K\u001b[21A\u001b[2K\u001b[20A\u001b[2K\u001b[21A\u001b[2K\u001b[31A\u001b[2K\u001b[20A\u001b[2K\u001b[21A\u001b[2K\u001b[20A\u001b[2K\u001b[24A\u001b[2K\u001b[20A\u001b[2K\u001b[24A\u001b[2K\u001b[31A\u001b[2K\u001b[24A\u001b[2K\u001b[21A\u001b[2K\u001b[20A\u001b[2K\u001b[23A\u001b[2K\u001b[24A\u001b[2K\u001b[21A\u001b[2K\u001b[31A\u001b[2K\u001b[20A\u001b[2K\u001b[21A\u001b[2K\u001b[24A\u001b[2K\u001b[20A\u001b[2K\u001b[31A\u001b[2K\u001b[21A\u001b[2K\u001b[24A\u001b[2K\u001b[21A\u001b[2K\u001b[20A\u001b[2K\u001b[24A\u001b[2K\u001b[21A\u001b[2K\u001b[31A\u001b[2K\u001b[21A\u001b[2K\u001b[20A\u001b[2K\u001b[24A\u001b[2K\u001b[23A\u001b[2K\u001b[20A\u001b[2K\u001b[23A\u001b[2K\u001b[31A\u001b[2K\u001b[24A\u001b[2K\u001b[20A\u001b[2K\u001b[23A\u001b[2K\u001b[21A\u001b[2K\u001b[31A\u001b[2K\u001b[24A\u001b[2K\u001b[31A\u001b[2K\u001b[24A\u001b[2K\u001b[31A\u001b[2K\u001b[20A\u001b[2K\u001b[21A\u001b[2K\u001b[31A\u001b[2K\u001b[20A\u001b[2K\u001b[21A\u001b[2K\u001b[20A\u001b[2K\u001b[23A\u001b[2K\u001b[24A\u001b[2K\u001b[23A\u001b[2K\u001b[20A\u001b[2K\u001b[20A\u001b[2K\u001b[23A\u001b[2K\u001b[31A\u001b[2K\u001b[21A\u001b[2K\u001b[31A\u001b[2K\u001b[24A\u001b[2K\u001b[31A\u001b[2K\u001b[24A\u001b[2K\u001b[31A\u001b[2K\u001b[20A\u001b[2K\u001b[31A\u001b[2K\u001b[21A\u001b[2K\u001b[31A\u001b[2K\u001b[21A\u001b[2K\u001b[31A\u001b[2K\u001b[21A\u001b[2K\u001b[24A\u001b[2K\u001b[21A\u001b[2K\u001b[24A\u001b[2K\u001b[21A\u001b[2K\u001b[20A\u001b[2K\u001b[21A\u001b[2K\u001b[31A\u001b[2K\u001b[20A\u001b[2K\u001b[24A\u001b[2K\u001b[31A\u001b[2K\u001b[24A\u001b[2K\u001b[20A\u001b[2K\u001b[31A\u001b[2K\u001b[20A\u001b[2K\u001b[31A\u001b[2K\u001b[20A\u001b[2K\u001b[31A\u001b[2K\u001b[24A\u001b[2K\u001b[21A\u001b[2K\u001b[24A\u001b[2K\u001b[21A\u001b[2K\u001b[31A\u001b[2K\u001b[20A\u001b[2K\u001b[31A\u001b[2K\u001b[21A\u001b[2K\u001b[24A\u001b[2K\u001b[21A\u001b[2K\u001b[20A\u001b[2K\u001b[21A\u001b[2K\u001b[20A\u001b[2K\u001b[24A\u001b[2K\u001b[31A\u001b[2K\u001b[24A\u001b[2K\u001b[31A\u001b[2K\u001b[20A\u001b[2K\u001b[24A\u001b[2K\u001b[21A\u001b[2K\u001b[24A\u001b[2K\u001b[23A\u001b[2K\u001b[31A\u001b[2K\u001b[31A\u001b[2K\u001b[24A\u001b[2K\u001b[31A\u001b[2K\u001b[24A\u001b[2K\u001b[20A\u001b[2K\u001b[21A\u001b[2K\u001b[20A\u001b[2K\u001b[31A\u001b[2K\u001b[20A\u001b[2K\u001b[31A\u001b[2K\u001b[20A\u001b[2K\u001b[24A\u001b[2K\u001b[20A\u001b[2K\u001b[23A\u001b[2K\u001b[20A\u001b[2K\u001b[21A\u001b[2K\u001b[20A\u001b[2K\u001b[31A\u001b[2K\u001b[24A\u001b[2K\u001b[21A\u001b[2K\u001b[20A\u001b[2K\u001b[31A\u001b[2K\u001b[20A\u001b[2K\u001b[31A\u001b[2K\u001b[31A\u001b[2K\u001b[20A\u001b[2K\u001b[24A\u001b[2K\u001b[20A\u001b[2K\u001b[24A\u001b[2K\u001b[21A\u001b[2K\u001b[31A\u001b[2K\u001b[20A\u001b[2K\u001b[31A\u001b[2K\u001b[23A\u001b[2K\u001b[20A\u001b[2K\u001b[21A\u001b[2K\u001b[20A\u001b[2K\u001b[31A\u001b[2K\u001b[24A\u001b[2K\u001b[31A\u001b[2K\u001b[24A\u001b[2K\u001b[21A\u001b[2K\u001b[31A\u001b[2K\u001b[24A\u001b[2K\u001b[31A\u001b[2K\u001b[21A\u001b[2K\u001b[20A\u001b[2K\u001b[31A\u001b[2K\u001b[20A\u001b[2K\u001b[31A\u001b[2K\u001b[24A\u001b[2K\u001b[20A\u001b[2K\u001b[31A\u001b[2K\u001b[24A\u001b[2K\u001b[31A\u001b[2K\u001b[21A\u001b[2K\u001b[20A\u001b[2K\u001b[23A\u001b[2K\u001b[20A\u001b[2K\u001b[31A\u001b[2K\u001b[24A\u001b[2K\u001b[31A\u001b[2K\u001b[21A\u001b[2K\u001b[20A\u001b[2K\u001b[31A\u001b[2K\u001b[20A\u001b[2K\u001b[31A\u001b[2K\u001b[23A\u001b[2K\u001b[20A\u001b[2K\u001b[21A\u001b[2K\u001b[20A\u001b[2K\u001b[31A\u001b[2K\u001b[20A\u001b[2K\u001b[21A\u001b[2K\u001b[24A\u001b[2K\u001b[21A\u001b[2K\u001b[24A\u001b[2K\u001b[20A\u001b[2K\u001b[24A\u001b[2K\u001b[20A\u001b[2K\u001b[21A\u001b[2K\u001b[24A\u001b[2K\u001b[21A\u001b[2K\u001b[24A\u001b[2K\u001b[21A\u001b[2K\u001b[24A\u001b[2K\u001b[21A\u001b[2K\u001b[31A\u001b[2K\u001b[21A\u001b[2K\u001b[31A\u001b[2K\u001b[21A\u001b[2K\u001b[20A\u001b[2K\u001b[24A\u001b[2K\u001b[31A\u001b[2K\u001b[21A\u001b[2K\u001b[20A\u001b[2K\u001b[20A\u001b[2K\u001b[31A\u001b[2K\u001b[24A\u001b[2K\u001b[21A\u001b[2K\u001b[31A\u001b[2K\u001b[24A\u001b[2K\u001b[21A\u001b[2K\u001b[24A\u001b[2K\u001b[20A\u001b[2K\u001b[31A\u001b[2K\u001b[20A\u001b[2K\u001b[21A\u001b[2K\u001b[31A\u001b[2K\u001b[20A\u001b[2K\u001b[21A\u001b[2K\u001b[20A\u001b[2K\u001b[23A\u001b[2K\u001b[21A\u001b[2K\u001b[31A\u001b[2K\u001b[21A\u001b[2K\u001b[31A\u001b[2K\u001b[21A\u001b[2K\u001b[31A\u001b[2K\u001b[20A\u001b[2K\u001b[31A\u001b[2K\u001b[21A\u001b[2K\u001b[31A\u001b[2K\u001b[21A\u001b[2K\u001b[20A\u001b[2K\u001b[24A\u001b[2K\u001b[21A\u001b[2K\u001b[31A\u001b[2K\u001b[21A\u001b[2K\u001b[20A\u001b[2K\u001b[21A\u001b[2K\u001b[24A\u001b[2K\u001b[20A\u001b[2K\u001b[24A\u001b[2K\u001b[20A\u001b[2K\u001b[21A\u001b[2K\u001b[31A\u001b[2K\u001b[21A\u001b[2K\u001b[31A\u001b[2K\u001b[21A\u001b[2K\u001b[31A\u001b[2K\u001b[23A\u001b[2K\u001b[31A\u001b[2K\u001b[24A\u001b[2K\u001b[21A\u001b[2K\u001b[24A\u001b[2K\u001b[21A\u001b[2K\u001b[24A\u001b[2K\u001b[20A\u001b[2K\u001b[24A\u001b[2K\u001b[20A\u001b[2K\u001b[21A\u001b[2K\u001b[31A\u001b[2K\u001b[21A\u001b[2K\u001b[31A\u001b[2K\u001b[24A\u001b[2K\u001b[31A\u001b[2K\u001b[20A\u001b[2K\u001b[21A\u001b[2K\u001b[24A\u001b[2K\u001b[24A\u001b[2K\u001b[20A\u001b[2K\u001b[21A\u001b[2K\u001b[23A\u001b[2K\u001b[21A\u001b[2K\u001b[24A\u001b[2K\u001b[21A\u001b[2K\u001b[20A\u001b[2K\u001b[21A\u001b[2K\u001b[31A\u001b[2K\u001b[21A\u001b[2K\u001b[31A\u001b[2K\u001b[20A\u001b[2K\u001b[21A\u001b[2K\u001b[20A\u001b[2K\u001b[21A\u001b[2K\u001b[20A\u001b[2K\u001b[31A\u001b[2K\u001b[21A\u001b[2K\u001b[20A\u001b[2K\u001b[31A\u001b[2K\u001b[23A\u001b[2K\u001b[20A\u001b[2K\u001b[21A\u001b[2K\u001b[20A\u001b[2K\u001b[31A\u001b[2K\u001b[23A\u001b[2K\u001b[20A\u001b[2K\u001b[23A\u001b[2K\u001b[20A\u001b[2K\u001b[19A\u001b[2K\u001b[20A\u001b[2K\u001b[31A\u001b[2K\u001b[21A\u001b[2K\u001b[21A\u001b[2K\u001b[19A\u001b[2K\u001b[21A\u001b[2K\u001b[31A\u001b[2K\u001b[21A\u001b[2K\u001b[31A\u001b[2K\u001b[19A\u001b[2K\u001b[20A\u001b[2K\u001b[19A\u001b[2K\u001b[31A\u001b[2K\u001b[20A\u001b[2K\u001b[21A\u001b[2K\u001b[31A\u001b[2K\u001b[20A\u001b[2K\u001b[31A\u001b[2K\u001b[21A\u001b[2K\u001b[31A\u001b[2K\u001b[19A\u001b[2K\u001b[21A\u001b[2K\u001b[23A\u001b[2K\u001b[31A\u001b[2K\u001b[23A\u001b[2K\u001b[31A\u001b[2K\u001b[23A\u001b[2K\u001b[31A\u001b[2K\u001b[20A\u001b[2K\u001b[19A\u001b[2K\u001b[31A\u001b[2K\u001b[31A\u001b[2K\u001b[20A\u001b[2K\u001b[21A\u001b[2K\u001b[20A\u001b[2K\u001b[21A\u001b[2K\u001b[31A\u001b[2K\u001b[23A\u001b[2K\u001b[21A\u001b[2K\u001b[20A\u001b[2K\u001b[21A\u001b[2K\u001b[20A\u001b[2K\u001b[18A\u001b[2KPushing  554.8MB/1.042GB\u001b[20A\u001b[2K\u001b[21A\u001b[2K\u001b[23A\u001b[2K\u001b[31A\u001b[2K\u001b[21A\u001b[2K\u001b[21A\u001b[2K\u001b[31A\u001b[2K\u001b[21A\u001b[2K\u001b[23A\u001b[2K\u001b[31A\u001b[2K\u001b[20A\u001b[2KPushing  752.6MB/2.455GB\u001b[23A\u001b[2K\u001b[21A\u001b[2K\u001b[31A\u001b[2K\u001b[20A\u001b[2K\u001b[31A\u001b[2K\u001b[31A\u001b[2K\u001b[23A\u001b[2K\u001b[31A\u001b[2K\u001b[23A\u001b[2K\u001b[31A\u001b[2K\u001b[21A\u001b[2K\u001b[23A\u001b[2K\u001b[31A\u001b[2K\u001b[20A\u001b[2K\u001b[21A\u001b[2K\u001b[31A\u001b[2K\u001b[16A\u001b[2K\u001b[21A\u001b[2K\u001b[20A\u001b[2K\u001b[21A\u001b[2K\u001b[20A\u001b[2K\u001b[21A\u001b[2K\u001b[31A\u001b[2K\u001b[21A\u001b[2K\u001b[31A\u001b[2K\u001b[21A\u001b[2K\u001b[31A\u001b[2K\u001b[20A\u001b[2K\u001b[31A\u001b[2K\u001b[23A\u001b[2K\u001b[31A\u001b[2K\u001b[15A\u001b[2K\u001b[31A\u001b[2K\u001b[15A\u001b[2K\u001b[31A\u001b[2K\u001b[15A\u001b[2K\u001b[21A\u001b[2K\u001b[15A\u001b[2K\u001b[14A\u001b[2K\u001b[21A\u001b[2K\u001b[15A\u001b[2K\u001b[14A\u001b[2K\u001b[15A\u001b[2K\u001b[20A\u001b[2K\u001b[15A\u001b[2K\u001b[20A\u001b[2K\u001b[14A\u001b[2K\u001b[14A\u001b[2K\u001b[15A\u001b[2K\u001b[31A\u001b[2K\u001b[15A\u001b[2K\u001b[14A\u001b[2K\u001b[21A\u001b[2K\u001b[20A\u001b[2K\u001b[15A\u001b[2K\u001b[20A\u001b[2K\u001b[15A\u001b[2K\u001b[20A\u001b[2K\u001b[31A\u001b[2K\u001b[14A\u001b[2K\u001b[14A\u001b[2K\u001b[21A\u001b[2K\u001b[15A\u001b[2K\u001b[15A\u001b[2K\u001b[20A\u001b[2K\u001b[15A\u001b[2K\u001b[20A\u001b[2K\u001b[21A\u001b[2K\u001b[15A\u001b[2K\u001b[20A\u001b[2K\u001b[15A\u001b[2K\u001b[20A\u001b[2K\u001b[15A\u001b[2K\u001b[31A\u001b[2K\u001b[20A\u001b[2K\u001b[14A\u001b[2K\u001b[31A\u001b[2K\u001b[14A\u001b[2K\u001b[31A\u001b[2K\u001b[15A\u001b[2K\u001b[31A\u001b[2K\u001b[15A\u001b[2K\u001b[20A\u001b[2K\u001b[15A\u001b[2K\u001b[20A\u001b[2K\u001b[15A\u001b[2K\u001b[21A\u001b[2K\u001b[20A\u001b[2K\u001b[15A\u001b[2K\u001b[14A\u001b[2K\u001b[31A\u001b[2K\u001b[20A\u001b[2K\u001b[15A\u001b[2K\u001b[15A\u001b[2K\u001b[31A\u001b[2K\u001b[14A\u001b[2K\u001b[20A\u001b[2K\u001b[31A\u001b[2K\u001b[15A\u001b[2K\u001b[20A\u001b[2K\u001b[31A\u001b[2K\u001b[21A\u001b[2K\u001b[15A\u001b[2K\u001b[20A\u001b[2K\u001b[21A\u001b[2K\u001b[20A\u001b[2K\u001b[15A\u001b[2K\u001b[14A\u001b[2K\u001b[21A\u001b[2K\u001b[31A\u001b[2K\u001b[14A\u001b[2K\u001b[14A\u001b[2K\u001b[20A\u001b[2K\u001b[31A\u001b[2K\u001b[21A\u001b[2K\u001b[31A\u001b[2K\u001b[21A\u001b[2K\u001b[20A\u001b[2K\u001b[21A\u001b[2K\u001b[20A\u001b[2K\u001b[21A\u001b[2K\u001b[20A\u001b[2K\u001b[15A\u001b[2K\u001b[20A\u001b[2K\u001b[14A\u001b[2K\u001b[21A\u001b[2K\u001b[14A\u001b[2K\u001b[20A\u001b[2K\u001b[31A\u001b[2K\u001b[21A\u001b[2K\u001b[20A\u001b[2K\u001b[14A\u001b[2K\u001b[21A\u001b[2K\u001b[31A\u001b[2K\u001b[13A\u001b[2K\u001b[31A\u001b[2K\u001b[20A\u001b[2K\u001b[21A\u001b[2K\u001b[31A\u001b[2K\u001b[13A\u001b[2K\u001b[31A\u001b[2K\u001b[14A\u001b[2K\u001b[21A\u001b[2K\u001b[20A\u001b[2K\u001b[21A\u001b[2K\u001b[14A\u001b[2K\u001b[13A\u001b[2K\u001b[21A\u001b[2K\u001b[13A\u001b[2K\u001b[21A\u001b[2K\u001b[20A\u001b[2K\u001b[31A\u001b[2K\u001b[21A\u001b[2K\u001b[14A\u001b[2K\u001b[20A\u001b[2K\u001b[31A\u001b[2K\u001b[20A\u001b[2K\u001b[31A\u001b[2K\u001b[20A\u001b[2K\u001b[21A\u001b[2K\u001b[13A\u001b[2K\u001b[14A\u001b[2K\u001b[21A\u001b[2K\u001b[13A\u001b[2K\u001b[20A\u001b[2K\u001b[21A\u001b[2K\u001b[20A\u001b[2K\u001b[31A\u001b[2K\u001b[14A\u001b[2K\u001b[31A\u001b[2K\u001b[13A\u001b[2K\u001b[21A\u001b[2K\u001b[31A\u001b[2K\u001b[13A\u001b[2K\u001b[31A\u001b[2K\u001b[21A\u001b[2K\u001b[13A\u001b[2K\u001b[31A\u001b[2K\u001b[13A\u001b[2K\u001b[31A\u001b[2K\u001b[14A\u001b[2K\u001b[21A\u001b[2K\u001b[13A\u001b[2K\u001b[21A\u001b[2K\u001b[13A\u001b[2K\u001b[31A\u001b[2K\u001b[13A\u001b[2K\u001b[21A\u001b[2K\u001b[14A\u001b[2K\u001b[21A\u001b[2K\u001b[31A\u001b[2K\u001b[21A\u001b[2K\u001b[21A\u001b[2K\u001b[20A\u001b[2K\u001b[14A\u001b[2K\u001b[20A\u001b[2K\u001b[13A\u001b[2K\u001b[31A\u001b[2K\u001b[13A\u001b[2K\u001b[21A\u001b[2K\u001b[14A\u001b[2K\u001b[21A\u001b[2K\u001b[20A\u001b[2K\u001b[21A\u001b[2K\u001b[13A\u001b[2K\u001b[31A\u001b[2K\u001b[13A\u001b[2K\u001b[21A\u001b[2K\u001b[20A\u001b[2K\u001b[13A\u001b[2K\u001b[31A\u001b[2K\u001b[13A\u001b[2K\u001b[31A\u001b[2K\u001b[20A\u001b[2K\u001b[14A\u001b[2K\u001b[31A\u001b[2K\u001b[13A\u001b[2K\u001b[31A\u001b[2K\u001b[13A\u001b[2K\u001b[21A\u001b[2K\u001b[14A\u001b[2K\u001b[20A\u001b[2K\u001b[14A\u001b[2K\u001b[21A\u001b[2K\u001b[20A\u001b[2K\u001b[13A\u001b[2K\u001b[31A\u001b[2K\u001b[14A\u001b[2K\u001b[21A\u001b[2K\u001b[14A\u001b[2K\u001b[21A\u001b[2K\u001b[13A\u001b[2K\u001b[31A\u001b[2K\u001b[13A\u001b[2K\u001b[31A\u001b[2K\u001b[21A\u001b[2K\u001b[21A\u001b[2K\u001b[14A\u001b[2K\u001b[31A\u001b[2K\u001b[14A\u001b[2K\u001b[20A\u001b[2K\u001b[21A\u001b[2K\u001b[31A\u001b[2K\u001b[21A\u001b[2K\u001b[14A\u001b[2K\u001b[20A\u001b[2K\u001b[13A\u001b[2K\u001b[14A\u001b[2K\u001b[13A\u001b[2K\u001b[20A\u001b[2K\u001b[21A\u001b[2K\u001b[20A\u001b[2K\u001b[14A\u001b[2K\u001b[20A\u001b[2K\u001b[13A\u001b[2K\u001b[21A\u001b[2K\u001b[20A\u001b[2K\u001b[14A\u001b[2K\u001b[20A\u001b[2K\u001b[13A\u001b[2K\u001b[14A\u001b[2K\u001b[13A\u001b[2K\u001b[21A\u001b[2K\u001b[20A\u001b[2K\u001b[14A\u001b[2K\u001b[21A\u001b[2K\u001b[14A\u001b[2K\u001b[21A\u001b[2K\u001b[20A\u001b[2K\u001b[21A\u001b[2K\u001b[20A\u001b[2K\u001b[31A\u001b[2K\u001b[14A\u001b[2K\u001b[13A\u001b[2K\u001b[21A\u001b[2K\u001b[14A\u001b[2K\u001b[13A\u001b[2K\u001b[21A\u001b[2K\u001b[20A\u001b[2K\u001b[13A\u001b[2K\u001b[31A\u001b[2K\u001b[20A\u001b[2K\u001b[14A\u001b[2K\u001b[13A\u001b[2K\u001b[14A\u001b[2K\u001b[31A\u001b[2K\u001b[21A\u001b[2K\u001b[31A\u001b[2K\u001b[20A\u001b[2K\u001b[21A\u001b[2K\u001b[20A\u001b[2K\u001b[21A\u001b[2K\u001b[14A\u001b[2K\u001b[20A\u001b[2K\u001b[14A\u001b[2K\u001b[20A\u001b[2K\u001b[14A\u001b[2K\u001b[13A\u001b[2K\u001b[21A\u001b[2K\u001b[31A\u001b[2K\u001b[20A\u001b[2K\u001b[21A\u001b[2K\u001b[31A\u001b[2K\u001b[14A\u001b[2K\u001b[21A\u001b[2K\u001b[14A\u001b[2K\u001b[20A\u001b[2K\u001b[14A\u001b[2K\u001b[21A\u001b[2K\u001b[20A\u001b[2K\u001b[21A\u001b[2K\u001b[20A\u001b[2K\u001b[14A\u001b[2K\u001b[31A\u001b[2K\u001b[31A\u001b[2K\u001b[14A\u001b[2K\u001b[31A\u001b[2K\u001b[20A\u001b[2K\u001b[14A\u001b[2K\u001b[31A\u001b[2K\u001b[14A\u001b[2K\u001b[11A\u001b[2K\u001b[14A\u001b[2K\u001b[11A\u001b[2K\u001b[14A\u001b[2K\u001b[20A\u001b[2K\u001b[14A\u001b[2K\u001b[20A\u001b[2K\u001b[31A\u001b[2K\u001b[20A\u001b[2K\u001b[20A\u001b[2K\u001b[31A\u001b[2K\u001b[14A\u001b[2K\u001b[11A\u001b[2K\u001b[14A\u001b[2K\u001b[21A\u001b[2K\u001b[14A\u001b[2K\u001b[11A\u001b[2K\u001b[14A\u001b[2K\u001b[31A\u001b[2K\u001b[14A\u001b[2K\u001b[11A\u001b[2K\u001b[20A\u001b[2K\u001b[14A\u001b[2K\u001b[14A\u001b[2K\u001b[21A\u001b[2K\u001b[14A\u001b[2K\u001b[20A\u001b[2K\u001b[14A\u001b[2K\u001b[31A\u001b[2K\u001b[20A\u001b[2K\u001b[31A\u001b[2K\u001b[20A\u001b[2K\u001b[31A\u001b[2K\u001b[11A\u001b[2K\u001b[21A\u001b[2K\u001b[20A\u001b[2K\u001b[21A\u001b[2K\u001b[20A\u001b[2K\u001b[14A\u001b[2K\u001b[11A\u001b[2K\u001b[31A\u001b[2K\u001b[11A\u001b[2K\u001b[21A\u001b[2K\u001b[20A\u001b[2K\u001b[11A\u001b[2K\u001b[14A\u001b[2K\u001b[11A\u001b[2K\u001b[20A\u001b[2K\u001b[11A\u001b[2K\u001b[14A\u001b[2K\u001b[11A\u001b[2K\u001b[21A\u001b[2K\u001b[11A\u001b[2K\u001b[31A\u001b[2K\u001b[20A\u001b[2K\u001b[11A\u001b[2K\u001b[20A\u001b[2K\u001b[11A\u001b[2K\u001b[21A\u001b[2K\u001b[11A\u001b[2K\u001b[21A\u001b[2K\u001b[14A\u001b[2K\u001b[20A\u001b[2K\u001b[14A\u001b[2K\u001b[20A\u001b[2K\u001b[11A\u001b[2K\u001b[31A\u001b[2K\u001b[20A\u001b[2K\u001b[11A\u001b[2K\u001b[31A\u001b[2K\u001b[14A\u001b[2K\u001b[31A\u001b[2K\u001b[11A\u001b[2K\u001b[31A\u001b[2K\u001b[20A\u001b[2K\u001b[14A\u001b[2K\u001b[20A\u001b[2K\u001b[21A\u001b[2K\u001b[14A\u001b[2K\u001b[21A\u001b[2K\u001b[11A\u001b[2K\u001b[31A\u001b[2K\u001b[21A\u001b[2K\u001b[21A\u001b[2K\u001b[31A\u001b[2K\u001b[11A\u001b[2K\u001b[21A\u001b[2K\u001b[14A\u001b[2K\u001b[11A\u001b[2K\u001b[31A\u001b[2K\u001b[20A\u001b[2K\u001b[31A\u001b[2K\u001b[14A\u001b[2K\u001b[31A\u001b[2K\u001b[14A\u001b[2K\u001b[31A\u001b[2K\u001b[14A\u001b[2K\u001b[31A\u001b[2K\u001b[20A\u001b[2K\u001b[21A\u001b[2K\u001b[14A\u001b[2K\u001b[21A\u001b[2K\u001b[14A\u001b[2K\u001b[11A\u001b[2K\u001b[20A\u001b[2K\u001b[31A\u001b[2K\u001b[20A\u001b[2K\u001b[31A\u001b[2K\u001b[21A\u001b[2K\u001b[31A\u001b[2K\u001b[21A\u001b[2K\u001b[20A\u001b[2K\u001b[31A\u001b[2K\u001b[14A\u001b[2K\u001b[31A\u001b[2K\u001b[14A\u001b[2K\u001b[31A\u001b[2K\u001b[20A\u001b[2K\u001b[21A\u001b[2K\u001b[20A\u001b[2K\u001b[21A\u001b[2K\u001b[14A\u001b[2K\u001b[20A\u001b[2K\u001b[31A\u001b[2K\u001b[20A\u001b[2K\u001b[31A\u001b[2K\u001b[10A\u001b[2K\u001b[20A\u001b[2K\u001b[31A\u001b[2K\u001b[20A\u001b[2K\u001b[31A\u001b[2K\u001b[20A\u001b[2K\u001b[31A\u001b[2K\u001b[10A\u001b[2K\u001b[31A\u001b[2K\u001b[10A\u001b[2K\u001b[21A\u001b[2K\u001b[14A\u001b[2K\u001b[21A\u001b[2K\u001b[20A\u001b[2K\u001b[14A\u001b[2K\u001b[10A\u001b[2K\u001b[21A\u001b[2K\u001b[10A\u001b[2K\u001b[31A\u001b[2K\u001b[10A\u001b[2K\u001b[31A\u001b[2K\u001b[21A\u001b[2K\u001b[20A\u001b[2K\u001b[21A\u001b[2K\u001b[31A\u001b[2K\u001b[20A\u001b[2K\u001b[14A\u001b[2K\u001b[10A\u001b[2K\u001b[31A\u001b[2K\u001b[20A\u001b[2K\u001b[14A\u001b[2K\u001b[20A\u001b[2K\u001b[31A\u001b[2K\u001b[20A\u001b[2K\u001b[31A\u001b[2K\u001b[14A\u001b[2K\u001b[31A\u001b[2K\u001b[20A\u001b[2K\u001b[10A\u001b[2K\u001b[20A\u001b[2K\u001b[21A\u001b[2K\u001b[10A\u001b[2K\u001b[14A\u001b[2K\u001b[31A\u001b[2K\u001b[20A\u001b[2K\u001b[14A\u001b[2K\u001b[20A\u001b[2K\u001b[14A\u001b[2K\u001b[31A\u001b[2K\u001b[14A\u001b[2K\u001b[31A\u001b[2K\u001b[10A\u001b[2K\u001b[14A\u001b[2K\u001b[14A\u001b[2K\u001b[21A\u001b[2K\u001b[14A\u001b[2K\u001b[20A\u001b[2K\u001b[21A\u001b[2K\u001b[10A\u001b[2K\u001b[21A\u001b[2K\u001b[14A\u001b[2K\u001b[21A\u001b[2K\u001b[31A\u001b[2K\u001b[10A\u001b[2K\u001b[20A\u001b[2K\u001b[14A\u001b[2K\u001b[20A\u001b[2K\u001b[14A\u001b[2K\u001b[21A\u001b[2K\u001b[31A\u001b[2K\u001b[21A\u001b[2K\u001b[20A\u001b[2K\u001b[14A\u001b[2K\u001b[21A\u001b[2K\u001b[10A\u001b[2K\u001b[21A\u001b[2K\u001b[10A\u001b[2K\u001b[20A\u001b[2K\u001b[21A\u001b[2K\u001b[10A\u001b[2K\u001b[21A\u001b[2K\u001b[10A\u001b[2K\u001b[20A\u001b[2K\u001b[21A\u001b[2K\u001b[20A\u001b[2K\u001b[14A\u001b[2K\u001b[31A\u001b[2K\u001b[14A\u001b[2K\u001b[20A\u001b[2K\u001b[21A\u001b[2K\u001b[31A\u001b[2K\u001b[20A\u001b[2K\u001b[21A\u001b[2K\u001b[31A\u001b[2K\u001b[14A\u001b[2K\u001b[21A\u001b[2K\u001b[31A\u001b[2K\u001b[21A\u001b[2K\u001b[20A\u001b[2K\u001b[14A\u001b[2K\u001b[20A\u001b[2K\u001b[31A\u001b[2K\u001b[21A\u001b[2K\u001b[31A\u001b[2K\u001b[20A\u001b[2K\u001b[21A\u001b[2K\u001b[14A\u001b[2K\u001b[10A\u001b[2K\u001b[21A\u001b[2K\u001b[10A\u001b[2K\u001b[14A\u001b[2K\u001b[20A\u001b[2K\u001b[10A\u001b[2K\u001b[31A\u001b[2K\u001b[14A\u001b[2K\u001b[21A\u001b[2K\u001b[14A\u001b[2K\u001b[21A\u001b[2K\u001b[20A\u001b[2K\u001b[14A\u001b[2K\u001b[31A\u001b[2K\u001b[20A\u001b[2K\u001b[21A\u001b[2K\u001b[14A\u001b[2K\u001b[21A\u001b[2K\u001b[14A\u001b[2K\u001b[21A\u001b[2K\u001b[10A\u001b[2K\u001b[31A\u001b[2K\u001b[21A\u001b[2K\u001b[31A\u001b[2K\u001b[14A\u001b[2K\u001b[10A\u001b[2K\u001b[10A\u001b[2K\u001b[10A\u001b[2K\u001b[14A\u001b[2K\u001b[20A\u001b[2K\u001b[14A\u001b[2K\u001b[20A\u001b[2K\u001b[14A\u001b[2K\u001b[31A\u001b[2K\u001b[20A\u001b[2K\u001b[10A\u001b[2K\u001b[31A\u001b[2K\u001b[14A\u001b[2K\u001b[21A\u001b[2K\u001b[31A\u001b[2K\u001b[21A\u001b[2K\u001b[10A\u001b[2K\u001b[21A\u001b[2K\u001b[10A\u001b[2K\u001b[20A\u001b[2K\u001b[14A\u001b[2K\u001b[21A\u001b[2K\u001b[20A\u001b[2K\u001b[31A\u001b[2K\u001b[20A\u001b[2K\u001b[10A\u001b[2K\u001b[20A\u001b[2K\u001b[21A\u001b[2K\u001b[20A\u001b[2K\u001b[10A\u001b[2K\u001b[20A\u001b[2K\u001b[14A\u001b[2K\u001b[31A\u001b[2K\u001b[20A\u001b[2K\u001b[10A\u001b[2K\u001b[21A\u001b[2K\u001b[20A\u001b[2K\u001b[31A\u001b[2K\u001b[20A\u001b[2K\u001b[31A\u001b[2K\u001b[20A\u001b[2K\u001b[21A\u001b[2K\u001b[10A\u001b[2K\u001b[21A\u001b[2K\u001b[14A\u001b[2K\u001b[21A\u001b[2K\u001b[20A\u001b[2K\u001b[10A\u001b[2K\u001b[21A\u001b[2K\u001b[20A\u001b[2K\u001b[21A\u001b[2K\u001b[20A\u001b[2K\u001b[31A\u001b[2K\u001b[10A\u001b[2K\u001b[14A\u001b[2K\u001b[10A\u001b[2K\u001b[31A\u001b[2K\u001b[21A\u001b[2K\u001b[20A\u001b[2K\u001b[21A\u001b[2K\u001b[31A\u001b[2K\u001b[21A\u001b[2K\u001b[14A\u001b[2K\u001b[21A\u001b[2K\u001b[14A\u001b[2K\u001b[21A\u001b[2K\u001b[14A\u001b[2K\u001b[31A\u001b[2K\u001b[14A\u001b[2K\u001b[21A\u001b[2K\u001b[14A\u001b[2K\u001b[20A\u001b[2K\u001b[21A\u001b[2K\u001b[14A\u001b[2K\u001b[21A\u001b[2K\u001b[14A\u001b[2K\u001b[21A\u001b[2K\u001b[10A\u001b[2K\u001b[20A\u001b[2K\u001b[14A\u001b[2KPushing  395.7MB/502.1MB\u001b[31A\u001b[2K\u001b[21A\u001b[2K\u001b[10A\u001b[2K\u001b[31A\u001b[2K\u001b[20A\u001b[2K\u001b[14A\u001b[2K\u001b[21A\u001b[2K\u001b[20A\u001b[2K\u001b[21A\u001b[2K\u001b[14A\u001b[2K\u001b[31A\u001b[2K\u001b[14A\u001b[2K\u001b[20A\u001b[2K\u001b[21A\u001b[2K\u001b[10A\u001b[2K\u001b[21A\u001b[2K\u001b[14A\u001b[2K\u001b[10A\u001b[2K\u001b[31A\u001b[2K\u001b[20A\u001b[2K\u001b[21A\u001b[2K\u001b[31A\u001b[2K\u001b[21A\u001b[2K\u001b[20A\u001b[2K\u001b[10A\u001b[2K\u001b[20A\u001b[2K\u001b[31A\u001b[2K\u001b[20A\u001b[2K\u001b[31A\u001b[2K\u001b[14A\u001b[2K\u001b[31A\u001b[2K\u001b[21A\u001b[2K\u001b[31A\u001b[2K\u001b[20A\u001b[2K\u001b[14A\u001b[2K\u001b[20A\u001b[2K\u001b[31A\u001b[2K\u001b[31A\u001b[2K\u001b[21A\u001b[2K\u001b[31A\u001b[2K\u001b[10A\u001b[2K\u001b[31A\u001b[2K\u001b[14A\u001b[2K\u001b[20A\u001b[2K\u001b[31A\u001b[2K\u001b[20A\u001b[2K\u001b[21A\u001b[2K\u001b[14A\u001b[2K\u001b[10A\u001b[2K\u001b[14A\u001b[2K\u001b[31A\u001b[2K\u001b[10A\u001b[2K\u001b[14A\u001b[2K\u001b[31A\u001b[2K\u001b[10A\u001b[2K\u001b[14A\u001b[2K\u001b[21A\u001b[2K\u001b[10A\u001b[2K\u001b[31A\u001b[2K\u001b[20A\u001b[2K\u001b[31A\u001b[2K\u001b[20A\u001b[2K\u001b[31A\u001b[2K\u001b[20A\u001b[2K\u001b[21A\u001b[2K\u001b[20A\u001b[2K\u001b[31A\u001b[2K\u001b[20A\u001b[2K\u001b[31A\u001b[2K\u001b[20A\u001b[2K\u001b[31A\u001b[2K\u001b[10A\u001b[2K\u001b[20A\u001b[2K\u001b[31A\u001b[2K\u001b[20A\u001b[2K\u001b[21A\u001b[2K\u001b[14A\u001b[2K\u001b[10A\u001b[2K\u001b[31A\u001b[2K\u001b[14A\u001b[2K\u001b[21A\u001b[2K\u001b[14A\u001b[2K\u001b[21A\u001b[2K\u001b[20A\u001b[2K\u001b[14A\u001b[2K\u001b[21A\u001b[2K\u001b[10A\u001b[2K\u001b[21A\u001b[2K\u001b[21A\u001b[2K\u001b[14A\u001b[2K\u001b[21A\u001b[2K\u001b[20A\u001b[2K\u001b[14A\u001b[2K\u001b[20A\u001b[2K\u001b[21A\u001b[2K\u001b[20A\u001b[2K\u001b[10A\u001b[2K\u001b[21A\u001b[2K\u001b[31A\u001b[2K\u001b[21A\u001b[2K\u001b[20A\u001b[2K\u001b[21A\u001b[2K\u001b[20A\u001b[2K\u001b[21A\u001b[2K\u001b[10A\u001b[2K\u001b[14A\u001b[2K\u001b[31A\u001b[2K\u001b[21A\u001b[2K\u001b[31A\u001b[2K\u001b[20A\u001b[2K\u001b[14A\u001b[2K\u001b[10A\u001b[2K\u001b[20A\u001b[2K\u001b[14A\u001b[2K\u001b[10A\u001b[2K\u001b[14A\u001b[2K\u001b[14A\u001b[2K\u001b[31A\u001b[2K\u001b[10A\u001b[2K\u001b[31A\u001b[2K\u001b[10A\u001b[2K\u001b[14A\u001b[2KPushing  457.8MB/502.1MB\u001b[20A\u001b[2K\u001b[14A\u001b[2K\u001b[31A\u001b[2K\u001b[10A\u001b[2K\u001b[21A\u001b[2K\u001b[20A\u001b[2K\u001b[31A\u001b[2K\u001b[14A\u001b[2K\u001b[31A\u001b[2K\u001b[14A\u001b[2K\u001b[31A\u001b[2K\u001b[14A\u001b[2K\u001b[31A\u001b[2K\u001b[14A\u001b[2K\u001b[20A\u001b[2K\u001b[14A\u001b[2K\u001b[20A\u001b[2K\u001b[31A\u001b[2K\u001b[14A\u001b[2K\u001b[10A\u001b[2K\u001b[14A\u001b[2K\u001b[10A\u001b[2K\u001b[31A\u001b[2K\u001b[14A\u001b[2K\u001b[9A\u001b[2K\u001b[20A\u001b[2K\u001b[31A\u001b[2K\u001b[20A\u001b[2K\u001b[14A\u001b[2K\u001b[14A\u001b[2K\u001b[9A\u001b[2K\u001b[14A\u001b[2K\u001b[10A\u001b[2K\u001b[31A\u001b[2K\u001b[9A\u001b[2K\u001b[31A\u001b[2K\u001b[10A\u001b[2K\u001b[20A\u001b[2K\u001b[10A\u001b[2K\u001b[14A\u001b[2K\u001b[9A\u001b[2K\u001b[14A\u001b[2K\u001b[10A\u001b[2K\u001b[20A\u001b[2K\u001b[31A\u001b[2K\u001b[20A\u001b[2K\u001b[31A\u001b[2K\u001b[20A\u001b[2K\u001b[14A\u001b[2K\u001b[20A\u001b[2K\u001b[14A\u001b[2K\u001b[20A\u001b[2K\u001b[10A\u001b[2K\u001b[31A\u001b[2K\u001b[10A\u001b[2K\u001b[31A\u001b[2K\u001b[14A\u001b[2K\u001b[9A\u001b[2K\u001b[10A\u001b[2K\u001b[20A\u001b[2K\u001b[9A\u001b[2K\u001b[20A\u001b[2K\u001b[31A\u001b[2K\u001b[31A\u001b[2K\u001b[14A\u001b[2K\u001b[20A\u001b[2K\u001b[9A\u001b[2K\u001b[20A\u001b[2K\u001b[10A\u001b[2K\u001b[14A\u001b[2K\u001b[9A\u001b[2K\u001b[14A\u001b[2K\u001b[31A\u001b[2K\u001b[20A\u001b[2K\u001b[31A\u001b[2K\u001b[9A\u001b[2K\u001b[31A\u001b[2K\u001b[20A\u001b[2K\u001b[31A\u001b[2K\u001b[20A\u001b[2K\u001b[10A\u001b[2K\u001b[31A\u001b[2K\u001b[9A\u001b[2K\u001b[31A\u001b[2K\u001b[9A\u001b[2K\u001b[8A\u001b[2K\u001b[10A\u001b[2K\u001b[9A\u001b[2K\u001b[31A\u001b[2K\u001b[9A\u001b[2K\u001b[10A\u001b[2K\u001b[9A\u001b[2K\u001b[31A\u001b[2K\u001b[20A\u001b[2K\u001b[9A\u001b[2K\u001b[10A\u001b[2K\u001b[20A\u001b[2K\u001b[20A\u001b[2K\u001b[9A\u001b[2K\u001b[20A\u001b[2K\u001b[31A\u001b[2K\u001b[7A\u001b[2K\u001b[31A\u001b[2K\u001b[9A\u001b[2K\u001b[31A\u001b[2K\u001b[10A\u001b[2K\u001b[20A\u001b[2K\u001b[10A\u001b[2K\u001b[20A\u001b[2K\u001b[31A\u001b[2K\u001b[20A\u001b[2K\u001b[10A\u001b[2K\u001b[20A\u001b[2K\u001b[10A\u001b[2K\u001b[9A\u001b[2K\u001b[31A\u001b[2K\u001b[9A\u001b[2K\u001b[20A\u001b[2K\u001b[9A\u001b[2K\u001b[10A\u001b[2K\u001b[31A\u001b[2K\u001b[9A\u001b[2K\u001b[20A\u001b[2K\u001b[10A\u001b[2K\u001b[20A\u001b[2K\u001b[31A\u001b[2K\u001b[6A\u001b[2K\u001b[31A\u001b[2K\u001b[9A\u001b[2K\u001b[20A\u001b[2K\u001b[10A\u001b[2K\u001b[20A\u001b[2K\u001b[9A\u001b[2K\u001b[20A\u001b[2K\u001b[9A\u001b[2K\u001b[31A\u001b[2K\u001b[9A\u001b[2K\u001b[31A\u001b[2K\u001b[20A\u001b[2K\u001b[9A\u001b[2K\u001b[31A\u001b[2K\u001b[9A\u001b[2K\u001b[10A\u001b[2K\u001b[9A\u001b[2K\u001b[10A\u001b[2K\u001b[31A\u001b[2K\u001b[10A\u001b[2K\u001b[9A\u001b[2K\u001b[10A\u001b[2K\u001b[20A\u001b[2K\u001b[10A\u001b[2K\u001b[20A\u001b[2K\u001b[10A\u001b[2K\u001b[9A\u001b[2K\u001b[20A\u001b[2K\u001b[10A\u001b[2K\u001b[20A\u001b[2K\u001b[10A\u001b[2K\u001b[20A\u001b[2K\u001b[31A\u001b[2K\u001b[20A\u001b[2K\u001b[31A\u001b[2K\u001b[20A\u001b[2K\u001b[9A\u001b[2K\u001b[31A\u001b[2K\u001b[20A\u001b[2K\u001b[9A\u001b[2K\u001b[20A\u001b[2K\u001b[31A\u001b[2K\u001b[20A\u001b[2K\u001b[31A\u001b[2K\u001b[10A\u001b[2K\u001b[31A\u001b[2K\u001b[4A\u001b[2K\u001b[10A\u001b[2K\u001b[9A\u001b[2K\u001b[4A\u001b[2K\u001b[20A\u001b[2K\u001b[4A\u001b[2K\u001b[20A\u001b[2K\u001b[4A\u001b[2K\u001b[20A\u001b[2K\u001b[9A\u001b[2K\u001b[31A\u001b[2K\u001b[9A\u001b[2K\u001b[31A\u001b[2K\u001b[20A\u001b[2K\u001b[9A\u001b[2K\u001b[20A\u001b[2K\u001b[9A\u001b[2K\u001b[20A\u001b[2K\u001b[9A\u001b[2K\u001b[4A\u001b[2K\u001b[20A\u001b[2K\u001b[10A\u001b[2K\u001b[4A\u001b[2K\u001b[31A\u001b[2K\u001b[4A\u001b[2K\u001b[31A\u001b[2K\u001b[4A\u001b[2K\u001b[20A\u001b[2K\u001b[31A\u001b[2K\u001b[9A\u001b[2K\u001b[20A\u001b[2K\u001b[9A\u001b[2K\u001b[4A\u001b[2K\u001b[20A\u001b[2K\u001b[4A\u001b[2K\u001b[31A\u001b[2K\u001b[4A\u001b[2K\u001b[20A\u001b[2K\u001b[10A\u001b[2K\u001b[20A\u001b[2K\u001b[31A\u001b[2K\u001b[10A\u001b[2K\u001b[4A\u001b[2K\u001b[10A\u001b[2K\u001b[20A\u001b[2K\u001b[9A\u001b[2K\u001b[10A\u001b[2K\u001b[31A\u001b[2K\u001b[9A\u001b[2K\u001b[10A\u001b[2K\u001b[31A\u001b[2K\u001b[4A\u001b[2K\u001b[31A\u001b[2K\u001b[9A\u001b[2K\u001b[31A\u001b[2K\u001b[10A\u001b[2K\u001b[9A\u001b[2K\u001b[31A\u001b[2K\u001b[10A\u001b[2K\u001b[31A\u001b[2K\u001b[20A\u001b[2K\u001b[10A\u001b[2K\u001b[4A\u001b[2K\u001b[10A\u001b[2K\u001b[20A\u001b[2K\u001b[9A\u001b[2K\u001b[31A\u001b[2K\u001b[9A\u001b[2K\u001b[31A\u001b[2K\u001b[9A\u001b[2K\u001b[4A\u001b[2K\u001b[31A\u001b[2K\u001b[9A\u001b[2K\u001b[31A\u001b[2K\u001b[10A\u001b[2K\u001b[9A\u001b[2K\u001b[4A\u001b[2K\u001b[20A\u001b[2K\u001b[31A\u001b[2K\u001b[10A\u001b[2K\u001b[9A\u001b[2K\u001b[31A\u001b[2K\u001b[9A\u001b[2K\u001b[31A\u001b[2K\u001b[9A\u001b[2K\u001b[31A\u001b[2K\u001b[20A\u001b[2K\u001b[31A\u001b[2K\u001b[4A\u001b[2K\u001b[31A\u001b[2K\u001b[10A\u001b[2K\u001b[9A\u001b[2K\u001b[20A\u001b[2K\u001b[9A\u001b[2K\u001b[20A\u001b[2K\u001b[20A\u001b[2K\u001b[31A\u001b[2K\u001b[20A\u001b[2K\u001b[9A\u001b[2K\u001b[3A\u001b[2K\u001b[10A\u001b[2K\u001b[31A\u001b[2K\u001b[9A\u001b[2K\u001b[31A\u001b[2K\u001b[20A\u001b[2K\u001b[31A\u001b[2K\u001b[20A\u001b[2K\u001b[9A\u001b[2K\u001b[10A\u001b[2K\u001b[31A\u001b[2K\u001b[3A\u001b[2K\u001b[31A\u001b[2K\u001b[9A\u001b[2K\u001b[3A\u001b[2K\u001b[9A\u001b[2K\u001b[9A\u001b[2K\u001b[9A\u001b[2K\u001b[31A\u001b[2K\u001b[9A\u001b[2K\u001b[31A\u001b[2K\u001b[9A\u001b[2K\u001b[10A\u001b[2K\u001b[20A\u001b[2K\u001b[9A\u001b[2K\u001b[3A\u001b[2K\u001b[9A\u001b[2K\u001b[9A\u001b[2K\u001b[20A\u001b[2K\u001b[3A\u001b[2K\u001b[9A\u001b[2K\u001b[31A\u001b[2K\u001b[9A\u001b[2K\u001b[3A\u001b[2K\u001b[31A\u001b[2K\u001b[10A\u001b[2K\u001b[3A\u001b[2K\u001b[3A\u001b[2K\u001b[20A\u001b[2K\u001b[31A\u001b[2K\u001b[10A\u001b[2K\u001b[9A\u001b[2K\u001b[20A\u001b[2K\u001b[9A\u001b[2K\u001b[31A\u001b[2K\u001b[20A\u001b[2K\u001b[31A\u001b[2K\u001b[20A\u001b[2K\u001b[9A\u001b[2K\u001b[31A\u001b[2K\u001b[3A\u001b[2K\u001b[31A\u001b[2K\u001b[9A\u001b[2K\u001b[9A\u001b[2K\u001b[3A\u001b[2K\u001b[20A\u001b[2K\u001b[9A\u001b[2K\u001b[3A\u001b[2K\u001b[10A\u001b[2K\u001b[31A\u001b[2K\u001b[9A\u001b[2K\u001b[10A\u001b[2K\u001b[9A\u001b[2K\u001b[20A\u001b[2K\u001b[31A\u001b[2K\u001b[20A\u001b[2K\u001b[3A\u001b[2K\u001b[20A\u001b[2K\u001b[10A\u001b[2K\u001b[31A\u001b[2K\u001b[9A\u001b[2K\u001b[10A\u001b[2K\u001b[3A\u001b[2K\u001b[9A\u001b[2K\u001b[31A\u001b[2K\u001b[20A\u001b[2K\u001b[3A\u001b[2K\u001b[31A\u001b[2K\u001b[3A\u001b[2K\u001b[9A\u001b[2K\u001b[3A\u001b[2K\u001b[31A\u001b[2K\u001b[9A\u001b[2K\u001b[31A\u001b[2K\u001b[9A\u001b[2K\u001b[20A\u001b[2K\u001b[31A\u001b[2K\u001b[9A\u001b[2K\u001b[3A\u001b[2K\u001b[9A\u001b[2K\u001b[20A\u001b[2K\u001b[10A\u001b[2K\u001b[20A\u001b[2K\u001b[3A\u001b[2K\u001b[9A\u001b[2K\u001b[10A\u001b[2K\u001b[3A\u001b[2K\u001b[9A\u001b[2K\u001b[3A\u001b[2K\u001b[20A\u001b[2K\u001b[9A\u001b[2K\u001b[3A\u001b[2K\u001b[31A\u001b[2K\u001b[9A\u001b[2K\u001b[31A\u001b[2K\u001b[9A\u001b[2K\u001b[3A\u001b[2K\u001b[9A\u001b[2K\u001b[20A\u001b[2K\u001b[3A\u001b[2K\u001b[10A\u001b[2K\u001b[9A\u001b[2K\u001b[20A\u001b[2K\u001b[31A\u001b[2K\u001b[20A\u001b[2K\u001b[9A\u001b[2K\u001b[31A\u001b[2K\u001b[10A\u001b[2K\u001b[20A\u001b[2K\u001b[3A\u001b[2K\u001b[20A\u001b[2K\u001b[9A\u001b[2K\u001b[3A\u001b[2K\u001b[9A\u001b[2K\u001b[31A\u001b[2K\u001b[20A\u001b[2K\u001b[3A\u001b[2K\u001b[31A\u001b[2K\u001b[9A\u001b[2K\u001b[31A\u001b[2K\u001b[9A\u001b[2K\u001b[3A\u001b[2K\u001b[31A\u001b[2K\u001b[20A\u001b[2K\u001b[3A\u001b[2K\u001b[20A\u001b[2K\u001b[10A\u001b[2K\u001b[9A\u001b[2K\u001b[3A\u001b[2K\u001b[9A\u001b[2K\u001b[31A\u001b[2K\u001b[9A\u001b[2K\u001b[31A\u001b[2K\u001b[20A\u001b[2K\u001b[9A\u001b[2K\u001b[10A\u001b[2K\u001b[9A\u001b[2K\u001b[31A\u001b[2K\u001b[10A\u001b[2K\u001b[31A\u001b[2K\u001b[9A\u001b[2K\u001b[3A\u001b[2K\u001b[9A\u001b[2K\u001b[10A\u001b[2K\u001b[31A\u001b[2K\u001b[20A\u001b[2K\u001b[10A\u001b[2K\u001b[31A\u001b[2K\u001b[9A\u001b[2K\u001b[3A\u001b[2K\u001b[20A\u001b[2K\u001b[9A\u001b[2K\u001b[20A\u001b[2K\u001b[9A\u001b[2K\u001b[3A\u001b[2K\u001b[31A\u001b[2K\u001b[9A\u001b[2K\u001b[20A\u001b[2K\u001b[31A\u001b[2K\u001b[20A\u001b[2K\u001b[31A\u001b[2K\u001b[20A\u001b[2K\u001b[10A\u001b[2K\u001b[31A\u001b[2K\u001b[9A\u001b[2K\u001b[3A\u001b[2K\u001b[31A\u001b[2K\u001b[3A\u001b[2K\u001b[20A\u001b[2K\u001b[9A\u001b[2K\u001b[20A\u001b[2K\u001b[9A\u001b[2K\u001b[20A\u001b[2K\u001b[3A\u001b[2K\u001b[31A\u001b[2K\u001b[3A\u001b[2K\u001b[9A\u001b[2K\u001b[3A\u001b[2K\u001b[10A\u001b[2K\u001b[31A\u001b[2K\u001b[9A\u001b[2K\u001b[31A\u001b[2K\u001b[9A\u001b[2K\u001b[31A\u001b[2K\u001b[3A\u001b[2K\u001b[31A\u001b[2K\u001b[9A\u001b[2K\u001b[10A\u001b[2K\u001b[3A\u001b[2K\u001b[10A\u001b[2K\u001b[20A\u001b[2K\u001b[31A\u001b[2K\u001b[3A\u001b[2K\u001b[20A\u001b[2K\u001b[31A\u001b[2K\u001b[10A\u001b[2K\u001b[31A\u001b[2K\u001b[20A\u001b[2K\u001b[31A\u001b[2K\u001b[10A\u001b[2K\u001b[20A\u001b[2K\u001b[3A\u001b[2K\u001b[20A\u001b[2K\u001b[9A\u001b[2K\u001b[20A\u001b[2K\u001b[31A\u001b[2K\u001b[20A\u001b[2K\u001b[31A\u001b[2K\u001b[20A\u001b[2K\u001b[31A\u001b[2K\u001b[3A\u001b[2K\u001b[31A\u001b[2K\u001b[3A\u001b[2K\u001b[20A\u001b[2K\u001b[31A\u001b[2K\u001b[3A\u001b[2K\u001b[9A\u001b[2K\u001b[10A\u001b[2K\u001b[20A\u001b[2K\u001b[9A\u001b[2K\u001b[2K\u001b[3A\u001b[2K\u001b[20A\u001b[2K\u001b[31A\u001b[2K\u001b[20A\u001b[2K\u001b[31A\u001b[2K\u001b[9A\u001b[2K\u001b[10A\u001b[2K\u001b[20A\u001b[2K\u001b[10A\u001b[2K\u001b[20A\u001b[2K\u001b[9A\u001b[2K\u001b[3A\u001b[2K\u001b[31A\u001b[2K\u001b[3A\u001b[2K\u001b[10A\u001b[2K\u001b[3A\u001b[2K\u001b[31A\u001b[2K\u001b[9A\u001b[2K\u001b[3A\u001b[2K\u001b[31A\u001b[2K\u001b[10A\u001b[2K\u001b[20A\u001b[2K\u001b[10A\u001b[2K\u001b[9A\u001b[2K\u001b[20A\u001b[2K\u001b[31A\u001b[2K\u001b[10A\u001b[2K\u001b[20A\u001b[2K\u001b[3A\u001b[2K\u001b[31A\u001b[2K\u001b[3A\u001b[2K\u001b[31A\u001b[2K\u001b[10A\u001b[2K\u001b[3A\u001b[2K\u001b[3A\u001b[2K\u001b[31A\u001b[2K\u001b[3A\u001b[2K\u001b[9A\u001b[2K\u001b[10A\u001b[2K\u001b[20A\u001b[2K\u001b[31A\u001b[2K\u001b[20A\u001b[2K\u001b[31A\u001b[2K\u001b[3A\u001b[2K\u001b[10A\u001b[2K\u001b[20A\u001b[2K\u001b[31A\u001b[2K\u001b[3A\u001b[2K\u001b[20A\u001b[2K\u001b[3A\u001b[2K\u001b[20A\u001b[2K\u001b[10A\u001b[2K\u001b[3A\u001b[2K\u001b[31A\u001b[2K\u001b[10A\u001b[2K\u001b[20A\u001b[2K\u001b[3A\u001b[2K\u001b[20A\u001b[2K\u001b[10A\u001b[2K\u001b[31A\u001b[2K\u001b[20A\u001b[2K\u001b[3A\u001b[2K\u001b[10A\u001b[2K\u001b[20A\u001b[2K\u001b[31A\u001b[2K\u001b[10A\u001b[2K\u001b[31A\u001b[2K\u001b[3A\u001b[2K\u001b[31A\u001b[2K\u001b[10A\u001b[2K\u001b[3A\u001b[2K\u001b[31A\u001b[2K\u001b[3A\u001b[2K\u001b[31A\u001b[2K\u001b[20A\u001b[2K\u001b[31A\u001b[2K\u001b[20A\u001b[2K\u001b[31A\u001b[2K\u001b[20A\u001b[2K\u001b[10A\u001b[2K\u001b[31A\u001b[2K\u001b[20A\u001b[2K\u001b[3A\u001b[2K\u001b[20A\u001b[2K\u001b[31A\u001b[2K\u001b[20A\u001b[2K\u001b[1A\u001b[2K\u001b[31A\u001b[2K\u001b[20A\u001b[2K\u001b[31A\u001b[2K\u001b[20A\u001b[2K\u001b[31A\u001b[2K\u001b[20A\u001b[2K\u001b[10A\u001b[2K\u001b[20A\u001b[2K\u001b[31A\u001b[2K\u001b[10A\u001b[2K\u001b[31A\u001b[2K\u001b[1A\u001b[2K\u001b[20A\u001b[2K\u001b[3A\u001b[2K\u001b[1A\u001b[2K\u001b[31A\u001b[2K\u001b[1A\u001b[2K\u001b[3A\u001b[2K\u001b[10A\u001b[2K\u001b[1A\u001b[2K\u001b[3A\u001b[2K\u001b[20A\u001b[2K\u001b[1A\u001b[2K\u001b[1A\u001b[2K\u001b[31A\u001b[2K\u001b[20A\u001b[2K\u001b[1A\u001b[2K\u001b[31A\u001b[2K\u001b[1A\u001b[2K\u001b[31A\u001b[2K\u001b[20A\u001b[2K\u001b[31A\u001b[2K\u001b[20A\u001b[2K\u001b[31A\u001b[2K\u001b[3A\u001b[2K\u001b[20A\u001b[2K\u001b[31A\u001b[2K\u001b[3A\u001b[2K\u001b[31A\u001b[2K\u001b[3A\u001b[2K\u001b[20A\u001b[2K\u001b[3A\u001b[2K\u001b[10A\u001b[2K\u001b[31A\u001b[2K\u001b[1A\u001b[2K\u001b[20A\u001b[2K\u001b[31A\u001b[2K\u001b[20A\u001b[2KPushing  124.1MB/731.1MB\u001b[20A\u001b[2K\u001b[3A\u001b[2K\u001b[20A\u001b[2K\u001b[31A\u001b[2K\u001b[3A\u001b[2K\u001b[20A\u001b[2K\u001b[10A\u001b[2K\u001b[3A\u001b[2K\u001b[10A\u001b[2K\u001b[3A\u001b[2K\u001b[1A\u001b[2K\u001b[31A\u001b[2K\u001b[1A\u001b[2K\u001b[31A\u001b[2K\u001b[10A\u001b[2K\u001b[31A\u001b[2K\u001b[20A\u001b[2K\u001b[31A\u001b[2K\u001b[20A\u001b[2K\u001b[31A\u001b[2K\u001b[10A\u001b[2K\u001b[31A\u001b[2K\u001b[1A\u001b[2K\u001b[3A\u001b[2K\u001b[31A\u001b[2K\u001b[20A\u001b[2K\u001b[10A\u001b[2K\u001b[3A\u001b[2K\u001b[20A\u001b[2K\u001b[10A\u001b[2K\u001b[1A\u001b[2K\u001b[3A\u001b[2K\u001b[10A\u001b[2K\u001b[20A\u001b[2K\u001b[3A\u001b[2K\u001b[10A\u001b[2K\u001b[20A\u001b[2K\u001b[31A\u001b[2K\u001b[1A\u001b[2K\u001b[31A\u001b[2K\u001b[3A\u001b[2K\u001b[31A\u001b[2K\u001b[3A\u001b[2K\u001b[1A\u001b[2K\u001b[3A\u001b[2K\u001b[20A\u001b[2K\u001b[10A\u001b[2K\u001b[31A\u001b[2K\u001b[20A\u001b[2K\u001b[1A\u001b[2K\u001b[3A\u001b[2K\u001b[1A\u001b[2K\u001b[20A\u001b[2K\u001b[1A\u001b[2K\u001b[31A\u001b[2K\u001b[1A\u001b[2K\u001b[20A\u001b[2K\u001b[1A\u001b[2K\u001b[31A\u001b[2K\u001b[20A\u001b[2K\u001b[31A\u001b[2K\u001b[20A\u001b[2K\u001b[1A\u001b[2K\u001b[3A\u001b[2K\u001b[20A\u001b[2K\u001b[3A\u001b[2K\u001b[20A\u001b[2K\u001b[31A\u001b[2K\u001b[3A\u001b[2K\u001b[1A\u001b[2K\u001b[3A\u001b[2K\u001b[20A\u001b[2K\u001b[3A\u001b[2K\u001b[20A\u001b[2K\u001b[3A\u001b[2K\u001b[31A\u001b[2K\u001b[3A\u001b[2K\u001b[31A\u001b[2K\u001b[20A\u001b[2K\u001b[3A\u001b[2K\u001b[20A\u001b[2K\u001b[1A\u001b[2K\u001b[20A\u001b[2K\u001b[31A\u001b[2K\u001b[3A\u001b[2K\u001b[31A\u001b[2K\u001b[20A\u001b[2K\u001b[3A\u001b[2K\u001b[1A\u001b[2K\u001b[20A\u001b[2K\u001b[3A\u001b[2K\u001b[20A\u001b[2K\u001b[3A\u001b[2K\u001b[1A\u001b[2K\u001b[3A\u001b[2K\u001b[1A\u001b[2K\u001b[31A\u001b[2K\u001b[20A\u001b[2K\u001b[3A\u001b[2K\u001b[1A\u001b[2K\u001b[31A\u001b[2K\u001b[1A\u001b[2K\u001b[20A\u001b[2K\u001b[31A\u001b[2K\u001b[1A\u001b[2K\u001b[3A\u001b[2K\u001b[31A\u001b[2K\u001b[3A\u001b[2K\u001b[20A\u001b[2K\u001b[31A\u001b[2K\u001b[3A\u001b[2K\u001b[31A\u001b[2K\u001b[3A\u001b[2K\u001b[31A\u001b[2K\u001b[20A\u001b[2K\u001b[31A\u001b[2K\u001b[3A\u001b[2K\u001b[20A\u001b[2K\u001b[1A\u001b[2K\u001b[20A\u001b[2K\u001b[3A\u001b[2K\u001b[1A\u001b[2K\u001b[20A\u001b[2K\u001b[3A\u001b[2K\u001b[1A\u001b[2K\u001b[20A\u001b[2K\u001b[31A\u001b[2K\u001b[20A\u001b[2K\u001b[3A\u001b[2K\u001b[1A\u001b[2K\u001b[20A\u001b[2K\u001b[31A\u001b[2K\u001b[1A\u001b[2K\u001b[31A\u001b[2K\u001b[3A\u001b[2K\u001b[1A\u001b[2K\u001b[20A\u001b[2K\u001b[1A\u001b[2K\u001b[20A\u001b[2K\u001b[1A\u001b[2K\u001b[3A\u001b[2K\u001b[20A\u001b[2K\u001b[1A\u001b[2K\u001b[20A\u001b[2K\u001b[1A\u001b[2K\u001b[3A\u001b[2K\u001b[31A\u001b[2K\u001b[20A\u001b[2K\u001b[31A\u001b[2K\u001b[20A\u001b[2K\u001b[3A\u001b[2K\u001b[31A\u001b[2K\u001b[3A\u001b[2K\u001b[1A\u001b[2K\u001b[31A\u001b[2K\u001b[20A\u001b[2K\u001b[3A\u001b[2K\u001b[20A\u001b[2K\u001b[3A\u001b[2K\u001b[20A\u001b[2K\u001b[31A\u001b[2K\u001b[3A\u001b[2K\u001b[31A\u001b[2K\u001b[3A\u001b[2K\u001b[31A\u001b[2K\u001b[1A\u001b[2K\u001b[3A\u001b[2K\u001b[20A\u001b[2K\u001b[3A\u001b[2K\u001b[20A\u001b[2K\u001b[1A\u001b[2K\u001b[20A\u001b[2K\u001b[31A\u001b[2K\u001b[20A\u001b[2K\u001b[1A\u001b[2K\u001b[31A\u001b[2K\u001b[1A\u001b[2K\u001b[31A\u001b[2K\u001b[1A\u001b[2K\u001b[31A\u001b[2K\u001b[20A\u001b[2K\u001b[3A\u001b[2K\u001b[20A\u001b[2K\u001b[3A\u001b[2K\u001b[1A\u001b[2K\u001b[20A\u001b[2K\u001b[1A\u001b[2K\u001b[31A\u001b[2K\u001b[3A\u001b[2K\u001b[31A\u001b[2K\u001b[20A\u001b[2K\u001b[31A\u001b[2K\u001b[3A\u001b[2K\u001b[1A\u001b[2K\u001b[3A\u001b[2K\u001b[31A\u001b[2K\u001b[3A\u001b[2K\u001b[3A\u001b[2K\u001b[20A\u001b[2K\u001b[1A\u001b[2K\u001b[20A\u001b[2K\u001b[1A\u001b[2K\u001b[3A\u001b[2K\u001b[31A\u001b[2K\u001b[3A\u001b[2K\u001b[20A\u001b[2K\u001b[3A\u001b[2K\u001b[1A\u001b[2K\u001b[3A\u001b[2K\u001b[31A\u001b[2K\u001b[3A\u001b[2K\u001b[31A\u001b[2K\u001b[3A\u001b[2K\u001b[31A\u001b[2K\u001b[3A\u001b[2K\u001b[31A\u001b[2K\u001b[20A\u001b[2K\u001b[31A\u001b[2K\u001b[20A\u001b[2K\u001b[1A\u001b[2K\u001b[20A\u001b[2K\u001b[31A\u001b[2K\u001b[20A\u001b[2K\u001b[3A\u001b[2K\u001b[20A\u001b[2K\u001b[3A\u001b[2K\u001b[31A\u001b[2K\u001b[20A\u001b[2K\u001b[31A\u001b[2K\u001b[20A\u001b[2K\u001b[31A\u001b[2K\u001b[20A\u001b[2K\u001b[3A\u001b[2K\u001b[20A\u001b[2K\u001b[3A\u001b[2K\u001b[20A\u001b[2K\u001b[3A\u001b[2K\u001b[31A\u001b[2K\u001b[3A\u001b[2K\u001b[31A\u001b[2K\u001b[20A\u001b[2K\u001b[31A\u001b[2K\u001b[31A\u001b[2K\u001b[20A\u001b[2K\u001b[31A\u001b[2K\u001b[20A\u001b[2K\u001b[20A\u001b[2K\u001b[3A\u001b[2K\u001b[20A\u001b[2K\u001b[3A\u001b[2K\u001b[20A\u001b[2K\u001b[3A\u001b[2K\u001b[31A\u001b[2K\u001b[20A\u001b[2K\u001b[31A\u001b[2K\u001b[20A\u001b[2K\u001b[3A\u001b[2K\u001b[31A\u001b[2K\u001b[31A\u001b[2K\u001b[20A\u001b[2K\u001b[20A\u001b[2K\u001b[31A\u001b[2K\u001b[20A\u001b[2K\u001b[3A\u001b[2K\u001b[3A\u001b[2K\u001b[20A\u001b[2K\u001b[3A\u001b[2K\u001b[20A\u001b[2K\u001b[3A\u001b[2K\u001b[31A\u001b[2K\u001b[3A\u001b[2K\u001b[31A\u001b[2K\u001b[31A\u001b[2K\u001b[3A\u001b[2K\u001b[31A\u001b[2K\u001b[3A\u001b[2K\u001b[3A\u001b[2K\u001b[20A\u001b[2K\u001b[3A\u001b[2K\u001b[20A\u001b[2K\u001b[3A\u001b[2K\u001b[20A\u001b[2K\u001b[31A\u001b[2K\u001b[20A\u001b[2K\u001b[31A\u001b[2K\u001b[31A\u001b[2K\u001b[20A\u001b[2K\u001b[31A\u001b[2K\u001b[20A\u001b[2K\u001b[20A\u001b[2K\u001b[3A\u001b[2K\u001b[20A\u001b[2K\u001b[31A\u001b[2K\u001b[20A\u001b[2K\u001b[31A\u001b[2K\u001b[20A\u001b[2K\u001b[3A\u001b[2K\u001b[20A\u001b[2K\u001b[3A\u001b[2K\u001b[20A\u001b[2K\u001b[31A\u001b[2K\u001b[3A\u001b[2K\u001b[20A\u001b[2K\u001b[3A\u001b[2K\u001b[31A\u001b[2K\u001b[20A\u001b[2K\u001b[31A\u001b[2K\u001b[20A\u001b[2K\u001b[31A\u001b[2K\u001b[20A\u001b[2K\u001b[31A\u001b[2K\u001b[20A\u001b[2K\u001b[31A\u001b[2K\u001b[3A\u001b[2K\u001b[20A\u001b[2K\u001b[3A\u001b[2K\u001b[20A\u001b[2K\u001b[3A\u001b[2K\u001b[20A\u001b[2K\u001b[31A\u001b[2K\u001b[3A\u001b[2K\u001b[31A\u001b[2K\u001b[31A\u001b[2K\u001b[3A\u001b[2K\u001b[31A\u001b[2K\u001b[3A\u001b[2K\u001b[31A\u001b[2K\u001b[20A\u001b[2K\u001b[3A\u001b[2K\u001b[31A\u001b[2K\u001b[3A\u001b[2K\u001b[31A\u001b[2K\u001b[3A\u001b[2K\u001b[3A\u001b[2K\u001b[31A\u001b[2K\u001b[20A\u001b[2K\u001b[31A\u001b[2K\u001b[3A\u001b[2K\u001b[31A\u001b[2K\u001b[20A\u001b[2K\u001b[31A\u001b[2K\u001b[20A\u001b[2K\u001b[31A\u001b[2K\u001b[20A\u001b[2K\u001b[3A\u001b[2K\u001b[20A\u001b[2K\u001b[31A\u001b[2K\u001b[20A\u001b[2K\u001b[31A\u001b[2K\u001b[20A\u001b[2K\u001b[3A\u001b[2K\u001b[20A\u001b[2K\u001b[31A\u001b[2K\u001b[20A\u001b[2K\u001b[31A\u001b[2K\u001b[31A\u001b[2K\u001b[20A\u001b[2K\u001b[20A\u001b[2K\u001b[20A\u001b[2K\u001b[3A\u001b[2K\u001b[20A\u001b[2K\u001b[31A\u001b[2K\u001b[20A\u001b[2K\u001b[31A\u001b[2K\u001b[3A\u001b[2K\u001b[20A\u001b[2K\u001b[31A\u001b[2K\u001b[20A\u001b[2K\u001b[31A\u001b[2K\u001b[20A\u001b[2K\u001b[31A\u001b[2K\u001b[31A\u001b[2K\u001b[20A\u001b[2K\u001b[3A\u001b[2K\u001b[31A\u001b[2K\u001b[3A\u001b[2K\u001b[31A\u001b[2K\u001b[3A\u001b[2K\u001b[31A\u001b[2K\u001b[31A\u001b[2K\u001b[20A\u001b[2K\u001b[31A\u001b[2K\u001b[20A\u001b[2K\u001b[31A\u001b[2K\u001b[20A\u001b[2K\u001b[31A\u001b[2K\u001b[20A\u001b[2K\u001b[3A\u001b[2K\u001b[20A\u001b[2K\u001b[3A\u001b[2K\u001b[31A\u001b[2K\u001b[3A\u001b[2K\u001b[31A\u001b[2K\u001b[3A\u001b[2K\u001b[20A\u001b[2K\u001b[31A\u001b[2K\u001b[20A\u001b[2K\u001b[31A\u001b[2K\u001b[3A\u001b[2K\u001b[31A\u001b[2K\u001b[3A\u001b[2K\u001b[31A\u001b[2K\u001b[20A\u001b[2K\u001b[31A\u001b[2K\u001b[3A\u001b[2K\u001b[31A\u001b[2K\u001b[3A\u001b[2K\u001b[20A\u001b[2K\u001b[3A\u001b[2K\u001b[31A\u001b[2K\u001b[3A\u001b[2K\u001b[20A\u001b[2K\u001b[31A\u001b[2K\u001b[3A\u001b[2K\u001b[31A\u001b[2K\u001b[3A\u001b[2K\u001b[20A\u001b[2K\u001b[3A\u001b[2K\u001b[20A\u001b[2K\u001b[3A\u001b[2K\u001b[3A\u001b[2K\u001b[20A\u001b[2K\u001b[3A\u001b[2K\u001b[20A\u001b[2K\u001b[31A\u001b[2K\u001b[31A\u001b[2K\u001b[31A\u001b[2K\u001b[3A\u001b[2K\u001b[31A\u001b[2K\u001b[20A\u001b[2K\u001b[31A\u001b[2K\u001b[20A\u001b[2K\u001b[31A\u001b[2K\u001b[20A\u001b[2K\u001b[31A\u001b[2K\u001b[20A\u001b[2K\u001b[31A\u001b[2K\u001b[31A\u001b[2K\u001b[31A\u001b[2K\u001b[3A\u001b[2K\u001b[20A\u001b[2K\u001b[3A\u001b[2K\u001b[31A\u001b[2K\u001b[3A\u001b[2K\u001b[3A\u001b[2K\u001b[20A\u001b[2K\u001b[3A\u001b[2K\u001b[3A\u001b[2K\u001b[3A\u001b[2K\u001b[31A\u001b[2K\u001b[20A\u001b[2K\u001b[31A\u001b[2K\u001b[3A\u001b[2K\u001b[31A\u001b[2K\u001b[3A\u001b[2K\u001b[31A\u001b[2K\u001b[3A\u001b[2K\u001b[31A\u001b[2K\u001b[3A\u001b[2K\u001b[20A\u001b[2K\u001b[31A\u001b[2K\u001b[20A\u001b[2K\u001b[31A\u001b[2K\u001b[31A\u001b[2K\u001b[20A\u001b[2K\u001b[31A\u001b[2K\u001b[20A\u001b[2K\u001b[3A\u001b[2K\u001b[20A\u001b[2K\u001b[31A\u001b[2K\u001b[20A\u001b[2K\u001b[3A\u001b[2K\u001b[20A\u001b[2K\u001b[3A\u001b[2K\u001b[31A\u001b[2K\u001b[3A\u001b[2K\u001b[31A\u001b[2K\u001b[3A\u001b[2K\u001b[31A\u001b[2K\u001b[20A\u001b[2K\u001b[3A\u001b[2K\u001b[31A\u001b[2K\u001b[3A\u001b[2K\u001b[20A\u001b[2K\u001b[3A\u001b[2K\u001b[3A\u001b[2K\u001b[3A\u001b[2K\u001b[20A\u001b[2K\u001b[20A\u001b[2K\u001b[20A\u001b[2K\u001b[20A\u001b[2K\u001b[31A\u001b[2K\u001b[20A\u001b[2K\u001b[3A\u001b[2K\u001b[20A\u001b[2K\u001b[20A\u001b[2K\u001b[3A\u001b[2K\u001b[20A\u001b[2K\u001b[31A\u001b[2K\u001b[20A\u001b[2K\u001b[31A\u001b[2K\u001b[3A\u001b[2K\u001b[20A\u001b[2K\u001b[3A\u001b[2K\u001b[20A\u001b[2K\u001b[31A\u001b[2K\u001b[20A\u001b[2K\u001b[31A\u001b[2K\u001b[20A\u001b[2K\u001b[3A\u001b[2K\u001b[3A\u001b[2K\u001b[31A\u001b[2K\u001b[3A\u001b[2K\u001b[31A\u001b[2K\u001b[3A\u001b[2K\u001b[31A\u001b[2K\u001b[20A\u001b[2K\u001b[20A\u001b[2K\u001b[20A\u001b[2K\u001b[31A\u001b[2K\u001b[20A\u001b[2K\u001b[3A\u001b[2K\u001b[20A\u001b[2K\u001b[20A\u001b[2K\u001b[3A\u001b[2K\u001b[20A\u001b[2K\u001b[31A\u001b[2K\u001b[20A\u001b[2K\u001b[31A\u001b[2K\u001b[20A\u001b[2K\u001b[20A\u001b[2K\u001b[31A\u001b[2K\u001b[20A\u001b[2K\u001b[3A\u001b[2K\u001b[20A\u001b[2K\u001b[3A\u001b[2K\u001b[20A\u001b[2K\u001b[3A\u001b[2K\u001b[3A\u001b[2K\u001b[20A\u001b[2K\u001b[3A\u001b[2K\u001b[20A\u001b[2K\u001b[3A\u001b[2K\u001b[20A\u001b[2K\u001b[3A\u001b[2K\u001b[31A\u001b[2K\u001b[3A\u001b[2K\u001b[31A\u001b[2K\u001b[3A\u001b[2K\u001b[31A\u001b[2K\u001b[20A\u001b[2K\u001b[3A\u001b[2K\u001b[20A\u001b[2K\u001b[3A\u001b[2K\u001b[20A\u001b[2K\u001b[3A\u001b[2K\u001b[3A\u001b[2K\u001b[20A\u001b[2K\u001b[3A\u001b[2K\u001b[20A\u001b[2K\u001b[3A\u001b[2K\u001b[31A\u001b[2K\u001b[3A\u001b[2K\u001b[3A\u001b[2K\u001b[20A\u001b[2K\u001b[31A\u001b[2K\u001b[20A\u001b[2K\u001b[3A\u001b[2K\u001b[20A\u001b[2K\u001b[31A\u001b[2K\u001b[3A\u001b[2K\u001b[20A\u001b[2K\u001b[31A\u001b[2K\u001b[20A\u001b[2K\u001b[3A\u001b[2K\u001b[20A\u001b[2K\u001b[31A\u001b[2K\u001b[20A\u001b[2K\u001b[20A\u001b[2K\u001b[31A\u001b[2K\u001b[20A\u001b[2K\u001b[31A\u001b[2K\u001b[3A\u001b[2K\u001b[31A\u001b[2K\u001b[3A\u001b[2K\u001b[31A\u001b[2K\u001b[3A\u001b[2K\u001b[31A\u001b[2K\u001b[31A\u001b[2K\u001b[20A\u001b[2K\u001b[31A\u001b[2K\u001b[3A\u001b[2K\u001b[31A\u001b[2K\u001b[20A\u001b[2K\u001b[31A\u001b[2K\u001b[20A\u001b[2K\u001b[3A\u001b[2K\u001b[20A\u001b[2K\u001b[31A\u001b[2K\u001b[20A\u001b[2K\u001b[3A\u001b[2K\u001b[20A\u001b[2K\u001b[3A\u001b[2K\u001b[20A\u001b[2K\u001b[31A\u001b[2K\u001b[20A\u001b[2K\u001b[31A\u001b[2K\u001b[20A\u001b[2K\u001b[31A\u001b[2K\u001b[20A\u001b[2K\u001b[20A\u001b[2K\u001b[31A\u001b[2K\u001b[20A\u001b[2K\u001b[31A\u001b[2K\u001b[3A\u001b[2K\u001b[31A\u001b[2K\u001b[3A\u001b[2K\u001b[31A\u001b[2K\u001b[20A\u001b[2K\u001b[31A\u001b[2K\u001b[3A\u001b[2K\u001b[31A\u001b[2K\u001b[3A\u001b[2K\u001b[20A\u001b[2K\u001b[3A\u001b[2K\u001b[20A\u001b[2K\u001b[31A\u001b[2K\u001b[20A\u001b[2K\u001b[31A\u001b[2K\u001b[20A\u001b[2K\u001b[3A\u001b[2K\u001b[20A\u001b[2K\u001b[3A\u001b[2K\u001b[20A\u001b[2K\u001b[20A\u001b[2K\u001b[31A\u001b[2K\u001b[20A\u001b[2K\u001b[31A\u001b[2K\u001b[3A\u001b[2K\u001b[20A\u001b[2K\u001b[20A\u001b[2K\u001b[31A\u001b[2K\u001b[20A\u001b[2K\u001b[31A\u001b[2K\u001b[31A\u001b[2K\u001b[3A\u001b[2K\u001b[20A\u001b[2K\u001b[31A\u001b[2K\u001b[20A\u001b[2K\u001b[3A\u001b[2K\u001b[31A\u001b[2K\u001b[3A\u001b[2K\u001b[20A\u001b[2K\u001b[20A\u001b[2K\u001b[20A\u001b[2K\u001b[3A\u001b[2K\u001b[31A\u001b[2K\u001b[31A\u001b[2K\u001b[31A\u001b[2K\u001b[3A\u001b[2K\u001b[31A\u001b[2K\u001b[3A\u001b[2K\u001b[31A\u001b[2K\u001b[20A\u001b[2K\u001b[3A\u001b[2K\u001b[31A\u001b[2K\u001b[20A\u001b[2K\u001b[31A\u001b[2K\u001b[20A\u001b[2K\u001b[3A\u001b[2K\u001b[31A\u001b[2K\u001b[3A\u001b[2K\u001b[31A\u001b[2K\u001b[20A\u001b[2K\u001b[3A\u001b[2K\u001b[31A\u001b[2K\u001b[31A\u001b[2K\u001b[20A\u001b[2K\u001b[31A\u001b[2K\u001b[20A\u001b[2K\u001b[3A\u001b[2K\u001b[31A\u001b[2K\u001b[20A\u001b[2K\u001b[31A\u001b[2K\u001b[20A\u001b[2K\u001b[3A\u001b[2K\u001b[20A\u001b[2K\u001b[3A\u001b[2K\u001b[20A\u001b[2K\u001b[3A\u001b[2K\u001b[31A\u001b[2K\u001b[3A\u001b[2K\u001b[31A\u001b[2K\u001b[20A\u001b[2K\u001b[31A\u001b[2K\u001b[20A\u001b[2K\u001b[31A\u001b[2K\u001b[3A\u001b[2K\u001b[31A\u001b[2K\u001b[3A\u001b[2K\u001b[31A\u001b[2K\u001b[20A\u001b[2K\u001b[31A\u001b[2K\u001b[3A\u001b[2K\u001b[3A\u001b[2K\u001b[31A\u001b[2K\u001b[20A\u001b[2K\u001b[31A\u001b[2K\u001b[20A\u001b[2K\u001b[3A\u001b[2K\u001b[20A\u001b[2K\u001b[3A\u001b[2K\u001b[20A\u001b[2K\u001b[3A\u001b[2K\u001b[20A\u001b[2K\u001b[3A\u001b[2K\u001b[20A\u001b[2K\u001b[31A\u001b[2K\u001b[3A\u001b[2K\u001b[31A\u001b[2K\u001b[3A\u001b[2K\u001b[31A\u001b[2K\u001b[3A\u001b[2K\u001b[31A\u001b[2K\u001b[3A\u001b[2K\u001b[31A\u001b[2K\u001b[20A\u001b[2K\u001b[31A\u001b[2K\u001b[20A\u001b[2K\u001b[3A\u001b[2K\u001b[31A\u001b[2K\u001b[20A\u001b[2K\u001b[31A\u001b[2K\u001b[3A\u001b[2K\u001b[20A\u001b[2K\u001b[20A\u001b[2K\u001b[31A\u001b[2K\u001b[20A\u001b[2K\u001b[31A\u001b[2K\u001b[3A\u001b[2K\u001b[20A\u001b[2K\u001b[31A\u001b[2K\u001b[20A\u001b[2K\u001b[31A\u001b[2K\u001b[3A\u001b[2K\u001b[20A\u001b[2K\u001b[20A\u001b[2K\u001b[20A\u001b[2K\u001b[3A\u001b[2K\u001b[20A\u001b[2K\u001b[3A\u001b[2K\u001b[3A\u001b[2K\u001b[20A\u001b[2K\u001b[20A\u001b[2K\u001b[20A\u001b[2K\u001b[3A\u001b[2K\u001b[20A\u001b[2K\u001b[3A\u001b[2K\u001b[20A\u001b[2K\u001b[3A\u001b[2K\u001b[3A\u001b[2K\u001b[20A\u001b[2K\u001b[3A\u001b[2K\u001b[20A\u001b[2K\u001b[3A\u001b[2K\u001b[3A\u001b[2K\u001b[3A\u001b[2K\u001b[3A\u001b[2KPushing  2.111GB/2.217GB\u001b[3A\u001b[2K\u001b[20A\u001b[2K\u001b[20A\u001b[2K\u001b[20A\u001b[2K\u001b[3A\u001b[2K\u001b[20A\u001b[2K\u001b[3A\u001b[2K\u001b[20A\u001b[2K\u001b[3A\u001b[2K\u001b[20A\u001b[2K\u001b[3A\u001b[2K\u001b[20A\u001b[2KPushing  636.1MB/731.1MB\u001b[20A\u001b[2K\u001b[20A\u001b[2K\u001b[3A\u001b[2K\u001b[3A\u001b[2K\u001b[20A\u001b[2K\u001b[3A\u001b[2K\u001b[20A\u001b[2K\u001b[3A\u001b[2K\u001b[20A\u001b[2K\u001b[20A\u001b[2K\u001b[20A\u001b[2K\u001b[3A\u001b[2KPushing  2.146GB/2.217GB\u001b[3A\u001b[2K\u001b[20A\u001b[2K\u001b[3A\u001b[2K\u001b[20A\u001b[2K\u001b[20A\u001b[2K\u001b[3A\u001b[2K\u001b[20A\u001b[2K\u001b[20A\u001b[2K\u001b[20A\u001b[2K\u001b[20A\u001b[2K\u001b[3A\u001b[2K\u001b[20A\u001b[2K\u001b[20A\u001b[2K\u001b[20A\u001b[2K\u001b[20A\u001b[2K\u001b[3A\u001b[2K\u001b[20A\u001b[2K\u001b[3A\u001b[2K\u001b[3A\u001b[2K\u001b[20A\u001b[2K\u001b[3A\u001b[2K\u001b[20A\u001b[2K\u001b[3A\u001b[2K\u001b[20A\u001b[2K\u001b[20A\u001b[2K\u001b[20A\u001b[2K\u001b[3A\u001b[2K\u001b[20A\u001b[2K\u001b[3A\u001b[2K\u001b[20A\u001b[2K\u001b[3A\u001b[2K\u001b[20A\u001b[2K\u001b[3A\u001b[2K\u001b[20A\u001b[2K\u001b[20A\u001b[2K\u001b[3A\u001b[2K\u001b[20A\u001b[2K\u001b[20A\u001b[2K\u001b[20A\u001b[2K\u001b[20A\u001b[2K\u001b[3A\u001b[2K\u001b[20A\u001b[2K\u001b[20A\u001b[2K\u001b[3A\u001b[2K\u001b[20A\u001b[2K\u001b[20A\u001b[2K\u001b[3A\u001b[2K\u001b[20A\u001b[2K\u001b[20A\u001b[2K\u001b[3A\u001b[2K\u001b[20A\u001b[2K\u001b[3A\u001b[2K\u001b[20A\u001b[2K\u001b[3A\u001b[2K\u001b[20A\u001b[2K\u001b[20A\u001b[2K\u001b[20A\u001b[2K\u001b[20A\u001b[2K\u001b[20A\u001b[2K\u001b[20A\u001b[2K\u001b[3A\u001b[2K\u001b[20A\u001b[2K\u001b[3A\u001b[2K\u001b[20A\u001b[2K\u001b[3A\u001b[2K\u001b[20A\u001b[2K\u001b[3A\u001b[2K\u001b[20A\u001b[2K\u001b[3A\u001b[2K\u001b[3A\u001b[2K\u001b[3A\u001b[2K\u001b[3A\u001b[2K\u001b[3A\u001b[2K\u001b[3A\u001b[2K\u001b[3A\u001b[2K\u001b[3A\u001b[2K\u001b[3A\u001b[2K\u001b[3A\u001b[2K\u001b[3A\u001b[2K\u001b[3A\u001b[2K\u001b[3A\u001b[2K\u001b[3A\u001b[2K\u001b[3A\u001b[2K\u001b[3A\u001b[2K\u001b[3A\u001b[2K\u001b[3A\u001b[2K\u001b[3A\u001b[2K\u001b[3A\u001b[2K\u001b[3A\u001b[2K\u001b[3A\u001b[2K\u001b[3A\u001b[2K\u001b[3A\u001b[2K\u001b[3A\u001b[2K\u001b[3A\u001b[2K\u001b[3A\u001b[2K\u001b[3A\u001b[2K\u001b[3A\u001b[2K\u001b[3A\u001b[2K\u001b[3A\u001b[2K\u001b[3A\u001b[2K\u001b[3A\u001b[2K\u001b[3A\u001b[2K\u001b[3A\u001b[2K\u001b[3A\u001b[2K\u001b[3A\u001b[2K\u001b[3A\u001b[2K\u001b[3A\u001b[2K\u001b[3A\u001b[2K\u001b[3A\u001b[2K\u001b[3A\u001b[2K\u001b[3A\u001b[2K\u001b[3A\u001b[2K\u001b[3A\u001b[2K\u001b[3A\u001b[2K\u001b[3A\u001b[2K\u001b[3A\u001b[2K\u001b[3A\u001b[2K\u001b[3A\u001b[2K\u001b[3A\u001b[2K\u001b[3A\u001b[2K\u001b[3A\u001b[2K\u001b[3A\u001b[2K\u001b[3A\u001b[2K\u001b[3A\u001b[2K\u001b[3A\u001b[2K\u001b[3A\u001b[2K\u001b[3A\u001b[2K\u001b[3A\u001b[2K\u001b[3A\u001b[2K\u001b[3A\u001b[2K\u001b[3A\u001b[2K\u001b[3A\u001b[2K\u001b[3A\u001b[2K\u001b[3A\u001b[2K\u001b[3A\u001b[2K\u001b[3A\u001b[2K\u001b[3A\u001b[2K\u001b[3A\u001b[2K\u001b[3A\u001b[2K\u001b[3A\u001b[2K\u001b[3A\u001b[2K\u001b[3A\u001b[2K\u001b[3A\u001b[2K\u001b[3A\u001b[2K\u001b[3A\u001b[2K\u001b[3A\u001b[2K\u001b[3A\u001b[2K\u001b[3A\u001b[2K\u001b[3A\u001b[2K\u001b[3A\u001b[2K\u001b[3A\u001b[2K\u001b[3A\u001b[2K\u001b[3A\u001b[2K\u001b[3A\u001b[2Klatest: digest: sha256:04775bf11154337b7d69a2ebff1f5411bc496da851a00ce29691e3f9c5ecbc0a size: 7046\n"
     ]
    }
   ],
   "source": [
    "!docker push 533267394241.dkr.ecr.us-east-1.amazonaws.com/tensorflow-training:latest"
   ]
  },
  {
   "cell_type": "code",
   "execution_count": null,
   "id": "5ea05a7f",
   "metadata": {},
   "outputs": [],
   "source": [
    "#OPZIONALE, SE SI VUOLE ALLENARE IL MODELLO CON I DATI SU S3\n",
    "\n",
    "from sagemaker import get_execution_role\n",
    "from sagemaker.estimator import Estimator\n",
    "import os\n",
    "import pandas as pd\n",
    "\n",
    "role=get_execution_role()\n",
    "\n",
    "MODEL_INPUT_PATH = 's3://itsar123-bianchini/data/input/train'\n",
    "\n",
    "MODEL_OUTPUT_PATH = 's3://itsar123-bianchini/data/output'\n",
    "\n",
    "INSTANCE_TYPE = 'ml.p2.xlarge'\n",
    "\n",
    "hyperparameters={'epochs': 10}\n",
    "\n",
    "estimator=Estimator(\n",
    "    image_uri='915906710248.dkr.ecr.us-east-1.amazonaws.com/my-tensorflow-training:latest,\n",
    "    role=role,\n",
    "    instance_count=1,\n",
    "    instance_type=INSTANCE_TYPE,\n",
    "    hyperparameters=hyperparameters,\n",
    "    output_path=MODEL_OUTPUT_PATH\n",
    ")\n",
    "\n",
    "print('##### ESTIMATOR FIT STARTED')\n",
    "estimator.fit(MODEL_INPUT_PATH)\n",
    "print('##### ESTIMATOR FIT COMPLETED')"
   ]
  },
  {
   "cell_type": "code",
   "execution_count": 47,
   "id": "67e35ff8",
   "metadata": {},
   "outputs": [
    {
     "name": "stdout",
     "output_type": "stream",
     "text": [
      "card_model.tar.gz creato con successo!\n"
     ]
    }
   ],
   "source": [
    "#OPZIONALE, SE SI VUOLE ARCHIVIARE IL MODELLO\n",
    "\n",
    "import tarfile\n",
    "import os\n",
    "\n",
    "# Percorsi dei file da includere\n",
    "model_file = \"model/model.keras\"\n",
    "class_indices_file = \"model/class_indices.pkl\"\n",
    "inference_file = \"inference.py\"\n",
    "\n",
    "# Nome del file tar.gz di output\n",
    "output_tar_gz = \"card_model.tar.gz\"\n",
    "\n",
    "# Creazione dell'archivio tar.gz\n",
    "with tarfile.open(output_tar_gz, \"w:gz\") as tar:\n",
    "    # Aggiungi il file del modello\n",
    "    tar.add(model_file, arcname=os.path.basename(model_file))\n",
    "    # Aggiungi il file class_indices.pkl\n",
    "    tar.add(class_indices_file, arcname=os.path.basename(class_indices_file))\n",
    "    # Aggiungi il file inference.py\n",
    "    tar.add(inference_file, arcname=os.path.basename(inference_file))\n",
    "\n",
    "print(f\"{output_tar_gz} creato con successo!\")"
   ]
  },
  {
   "cell_type": "code",
   "execution_count": 87,
   "id": "11b7b15b",
   "metadata": {},
   "outputs": [],
   "source": [
    "!tar -czf model.tar.gz model/model.keras model/class_indices.pkl"
   ]
  },
  {
   "cell_type": "code",
   "execution_count": 88,
   "id": "07f8b1f4",
   "metadata": {},
   "outputs": [
    {
     "name": "stdout",
     "output_type": "stream",
     "text": [
      "-rw-rw-r-- 1 ec2-user ec2-user 444M Nov 22 15:28 model.tar.gz\n"
     ]
    }
   ],
   "source": [
    "!ls -lha model.*"
   ]
  },
  {
   "cell_type": "code",
   "execution_count": 89,
   "id": "08215489",
   "metadata": {},
   "outputs": [
    {
     "name": "stdout",
     "output_type": "stream",
     "text": [
      "upload: ./model.tar.gz to s3://itsar123-bianchini/data/output/model.tar.gz\n"
     ]
    }
   ],
   "source": [
    "!aws s3 cp ./model.tar.gz s3://itsar123-bianchini/data/output/model.tar.gz"
   ]
  },
  {
   "cell_type": "code",
   "execution_count": 91,
   "id": "323d5b3e",
   "metadata": {},
   "outputs": [],
   "source": [
    "!chmod +x pippo.sh"
   ]
  },
  {
   "cell_type": "code",
   "execution_count": 97,
   "id": "2f66dcc2",
   "metadata": {},
   "outputs": [],
   "source": [
    "from sagemaker import get_execution_role\n",
    "import boto3\n",
    "import datetime\n",
    "from time import gmtime, strftime\n",
    "\n",
    "# https://docs.aws.amazon.com/sagemaker/latest/dg/realtime-endpoints-deployment.html\n",
    "\n",
    "my_session = boto3.session.Session()\n",
    "aws_region = my_session.region_name\n",
    "\n",
    "sagemaker_client = boto3.client('sagemaker', region_name=aws_region)\n",
    "\n",
    "sagemaker_role = get_execution_role()\n",
    "\n",
    "model_name = 'modello-carte'\n",
    "\n",
    "# Create model\n",
    "create_model_response = sagemaker_client.create_model(\n",
    "    ModelName = model_name,\n",
    "    ExecutionRoleArn = sagemaker_role,\n",
    "    PrimaryContainer = {\n",
    "        'Image': '533267394241.dkr.ecr.us-east-1.amazonaws.com/tensorflow-inference:mondo',\n",
    "        'ModelDataUrl': 's3://itsar123-bianchini/data/output/model.tar.gz',\n",
    "    })"
   ]
  },
  {
   "cell_type": "code",
   "execution_count": 100,
   "id": "8a6f93be",
   "metadata": {},
   "outputs": [
    {
     "name": "stdout",
     "output_type": "stream",
     "text": [
      "Created EndpointConfig: arn:aws:sagemaker:us-east-1:533267394241:endpoint-config/la-mia-quinta-api-inferenza-config\n"
     ]
    }
   ],
   "source": [
    "# Create an endpoint config name. Here we create one based on the date  \n",
    "# so it we can search endpoints based on creation time.\n",
    "endpoint_config_name = 'la-mia-quinta-api-inferenza-config'\n",
    "\n",
    "instance_type = 'ml.m5.large' \n",
    "\n",
    "endpoint_config_response = sagemaker_client.create_endpoint_config(\n",
    "    EndpointConfigName=endpoint_config_name,\n",
    "    # You will specify this name in a CreateEndpoint request.\n",
    "    # List of ProductionVariant objects, one for each model that you want to host at this endpoint.\n",
    "    ProductionVariants=[\n",
    "        {\n",
    "            \"VariantName\": \"variant1\", # The name of the production variant.\n",
    "            \"ModelName\": model_name,\n",
    "            \"InstanceType\": instance_type, # Specify the compute instance type.\n",
    "            \"InitialInstanceCount\": 1 # Number of instances to launch initially.\n",
    "        }\n",
    "    ]\n",
    ")\n",
    "print(f\"Created EndpointConfig: {endpoint_config_response['EndpointConfigArn']}\")\n",
    "\n",
    "# The name of the endpoint. The name must be unique within an AWS Region in your AWS account.\n",
    "endpoint_name = 'la-mia-quinta-api-inferenza'\n",
    "\n",
    "create_endpoint_response = sagemaker_client.create_endpoint(\n",
    "                                            EndpointName=endpoint_name, \n",
    "                                            EndpointConfigName=endpoint_config_name)"
   ]
  },
  {
   "cell_type": "code",
   "execution_count": 54,
   "id": "a6e03cc1",
   "metadata": {},
   "outputs": [
    {
     "name": "stdout",
     "output_type": "stream",
     "text": [
      "{\n",
      "    \"EndpointName\": \"la-mia-prima-api-inferenza\",\n",
      "    \"EndpointArn\": \"arn:aws:sagemaker:us-east-1:533267394241:endpoint/la-mia-prima-api-inferenza\",\n",
      "    \"EndpointConfigName\": \"la-mia-prima-api-inferenza-config\",\n",
      "    \"EndpointStatus\": \"Creating\",\n",
      "    \"CreationTime\": 1732284214.275,\n",
      "    \"LastModifiedTime\": 1732284214.822\n",
      "}\n"
     ]
    }
   ],
   "source": [
    "!aws sagemaker describe-endpoint --endpoint-name la-mia-prima-api-inferenza --region us-east-1"
   ]
  },
  {
   "cell_type": "code",
   "execution_count": 57,
   "id": "24358518",
   "metadata": {},
   "outputs": [
    {
     "name": "stdout",
     "output_type": "stream",
     "text": [
      "Note: AWS CLI version 2, the latest major version of the AWS CLI, is now stable and recommended for general use. For more information, see the AWS CLI version 2 installation instructions at: https://docs.aws.amazon.com/cli/latest/userguide/install-cliv2.html\n",
      "\n",
      "usage: aws [options] <command> <subcommand> [<subcommand> ...] [parameters]\n",
      "To see help text, you can run:\n",
      "\n",
      "  aws help\n",
      "  aws <command> help\n",
      "  aws <command> <subcommand> help\n",
      "aws: error: the following arguments are required: --body, outfile\n"
     ]
    }
   ],
   "source": [
    "!aws sagemaker-runtime invoke-endpoint --endpoint-name la-mia-prima-api-inferenza --region us-east-1"
   ]
  },
  {
   "cell_type": "code",
   "execution_count": 74,
   "id": "e980e946",
   "metadata": {},
   "outputs": [
    {
     "name": "stdout",
     "output_type": "stream",
     "text": [
      "######## La model dir è: /opt/ml/model\n"
     ]
    }
   ],
   "source": [
    "# Carica il modello e la mappatura delle classi\n",
    "model_dir = os.environ.get('SM_MODEL_DIR', '/opt/ml/model')\n",
    "print(f\"######## La model dir è: {model_dir}\")"
   ]
  },
  {
   "cell_type": "code",
   "execution_count": null,
   "id": "23547b4a",
   "metadata": {},
   "outputs": [],
   "source": [
    "%%sh\n",
    "aws logs get-log-events \\\n",
    "    --log-group-name /aws/sagemaker/Endpoints/la-mia-terza-api-inferenza \\\n",
    "    --log-stream-name <nome-stream-log> \\\n",
    "    --region us-east-1\n"
   ]
  },
  {
   "cell_type": "code",
   "execution_count": null,
   "id": "f048cb41",
   "metadata": {},
   "outputs": [],
   "source": []
  },
  {
   "cell_type": "code",
   "execution_count": null,
   "id": "cda0a2e1",
   "metadata": {},
   "outputs": [],
   "source": []
  }
 ],
 "metadata": {
  "kernelspec": {
   "display_name": "conda_python3",
   "language": "python",
   "name": "conda_python3"
  },
  "language_info": {
   "codemirror_mode": {
    "name": "ipython",
    "version": 3
   },
   "file_extension": ".py",
   "mimetype": "text/x-python",
   "name": "python",
   "nbconvert_exporter": "python",
   "pygments_lexer": "ipython3",
   "version": "3.10.15"
  }
 },
 "nbformat": 4,
 "nbformat_minor": 5
}
